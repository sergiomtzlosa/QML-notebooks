{
 "cells": [
  {
   "cell_type": "code",
   "execution_count": null,
   "id": "cb1bfcc1",
   "metadata": {},
   "outputs": [],
   "source": [
    "!pip3 install mitiq"
   ]
  },
  {
   "cell_type": "code",
   "execution_count": null,
   "id": "af9049af",
   "metadata": {},
   "outputs": [],
   "source": [
    "from qiskit.circuit.random import random_circuit\n",
    "from mitiq.interface.mitiq_qiskit import qiskit_utils\n",
    "from mitiq import PauliString, Observable, zne\n",
    "from qiskit.providers.aer.noise import NoiseModel\n",
    "from qiskit import IBMQ, transpile, QuantumCircuit\n",
    "import numpy as np\n",
    "import warnings\n",
    "warnings.filterwarnings(\"ignore\")"
   ]
  },
  {
   "cell_type": "code",
   "execution_count": null,
   "id": "6b3f0061",
   "metadata": {},
   "outputs": [],
   "source": [
    "qc = QuantumCircuit(5, 2)\n",
    "\n",
    "qc.h(0)\n",
    "qc.cx(0, 1)\n",
    "qc.cry(np.pi/5, 0, 1)\n",
    "qc.cx(1,0)\n",
    "qc.ry(np.pi/4,0)\n",
    "qc.x(1)\n",
    "qc.cry(np.pi/3, 1, 0)\n",
    "qc.cx(0, 1)\n",
    "qc.h(0)\n",
    "qc.cx(0, 1)\n",
    "qc.cry(np.pi/4, 0, 1)\n",
    "qc.cx(1,0)\n",
    "qc.ry(np.pi/5,0)\n",
    "qc.x(1)\n",
    "qc.cry(np.pi/3, 1, 0)\n",
    "qc.h(0)\n",
    "qc.h(1)\n",
    "#qc.barrier()\n",
    "qc.measure(range(2), range(2))\n",
    "\n",
    "qc.draw('mpl')"
   ]
  },
  {
   "cell_type": "code",
   "execution_count": null,
   "id": "df9d4194",
   "metadata": {},
   "outputs": [],
   "source": [
    "obs = Observable(PauliString('ZZZZZ'))\n",
    "shots = 10000"
   ]
  },
  {
   "cell_type": "code",
   "execution_count": null,
   "id": "d2f49256",
   "metadata": {},
   "outputs": [],
   "source": [
    "def sim_noisy(circ):\n",
    "    qiskit_utils.execute_with_shots_and_noise(circ, obs.matrix(), NoiseModel.from_backend(backend), shots)\n",
    "    \n",
    "def sim_ideal(circ):\n",
    "    qiskit_utils.execute_with_shots(circ, obs.matrix(), shots)"
   ]
  },
  {
   "cell_type": "code",
   "execution_count": null,
   "id": "87db0427",
   "metadata": {},
   "outputs": [],
   "source": [
    "if not IBMQ.active_account():\n",
    "    IBMQ.load_account()\n",
    "    \n",
    "provider = IBMQ.get_provider(hub = 'ibm-q', group = 'open', project = 'main')"
   ]
  },
  {
   "cell_type": "code",
   "execution_count": null,
   "id": "3dde18ad",
   "metadata": {},
   "outputs": [],
   "source": [
    "backend = provider.get_backend('ibmq_quito')"
   ]
  },
  {
   "cell_type": "code",
   "execution_count": null,
   "id": "25095709",
   "metadata": {},
   "outputs": [],
   "source": [
    "mapped_circuit = transpile(qc, backend)"
   ]
  },
  {
   "cell_type": "code",
   "execution_count": null,
   "id": "7cea79a8",
   "metadata": {},
   "outputs": [],
   "source": [
    "result_ideal = sim_ideal(mapped_circuit)"
   ]
  },
  {
   "cell_type": "code",
   "execution_count": null,
   "id": "4e7e11dd",
   "metadata": {},
   "outputs": [],
   "source": [
    "result_noisy = sim_noisy(mapped_circuit)"
   ]
  },
  {
   "cell_type": "code",
   "execution_count": null,
   "id": "b75179d6",
   "metadata": {},
   "outputs": [],
   "source": [
    "result_mitigated = zne.execute_with_zne(mapped_circuit, sim_noisy)"
   ]
  },
  {
   "cell_type": "code",
   "execution_count": null,
   "id": "e70be78e",
   "metadata": {},
   "outputs": [],
   "source": [
    "print('EV unmitigated: ', result_noisy)\n",
    "print('EV mitigated: ', result_mitigated)\n",
    "print('EV ideal: ', result_ideal)"
   ]
  },
  {
   "cell_type": "code",
   "execution_count": null,
   "id": "bb0202b1",
   "metadata": {},
   "outputs": [],
   "source": [
    "error_unmitigated = abs(result_noisy - result_ideal)\n",
    "error_unmitigated"
   ]
  },
  {
   "cell_type": "code",
   "execution_count": null,
   "id": "8064f2d5",
   "metadata": {},
   "outputs": [],
   "source": [
    "error_mitigated = abs(result_mitigated - result_ideal)\n",
    "error_mitigated"
   ]
  },
  {
   "cell_type": "code",
   "execution_count": null,
   "id": "576d7168",
   "metadata": {},
   "outputs": [],
   "source": [
    "error_reduction = (error_unmitigated - error_mitigated) / error_unmitigated\n",
    "print(\"Error reduction: \", error_reduction)"
   ]
  }
 ],
 "metadata": {
  "kernelspec": {
   "display_name": "Python 3 (ipykernel)",
   "language": "python",
   "name": "python3"
  },
  "language_info": {
   "codemirror_mode": {
    "name": "ipython",
    "version": 3
   },
   "file_extension": ".py",
   "mimetype": "text/x-python",
   "name": "python",
   "nbconvert_exporter": "python",
   "pygments_lexer": "ipython3",
   "version": "3.9.12"
  }
 },
 "nbformat": 4,
 "nbformat_minor": 5
}
