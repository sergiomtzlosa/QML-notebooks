{
 "cells": [
  {
   "cell_type": "code",
   "execution_count": 1,
   "id": "68373e21",
   "metadata": {},
   "outputs": [],
   "source": [
    "import pandas as pd\n",
    "\n",
    "from qiskit import QuantumCircuit, Aer, execute, ClassicalRegister, QuantumRegister\n",
    "from math import asin, sqrt, ceil\n",
    "from qiskit.visualization import plot_histogram\n",
    "\n",
    "from sklearn.metrics import confusion_matrix, precision_score, recall_score\n",
    "import matplotlib.pyplot as plt\n",
    "\n",
    "import warnings\n",
    "warnings.filterwarnings('ignore')\n",
    "\n",
    "%matplotlib inline\n",
    "\n",
    "plt.rcParams['figure.figsize'] = [10, 7]\n",
    "%config InlineBackend.figure_format = 'retina'"
   ]
  },
  {
   "cell_type": "code",
   "execution_count": 2,
   "id": "54aba601",
   "metadata": {},
   "outputs": [],
   "source": [
    "train = pd.read_csv(\"./datasets/titanic/train.csv\")"
   ]
  },
  {
   "cell_type": "code",
   "execution_count": 3,
   "id": "8aad95fe",
   "metadata": {},
   "outputs": [
    {
     "data": {
      "text/html": [
       "<div>\n",
       "<style scoped>\n",
       "    .dataframe tbody tr th:only-of-type {\n",
       "        vertical-align: middle;\n",
       "    }\n",
       "\n",
       "    .dataframe tbody tr th {\n",
       "        vertical-align: top;\n",
       "    }\n",
       "\n",
       "    .dataframe thead th {\n",
       "        text-align: right;\n",
       "    }\n",
       "</style>\n",
       "<table border=\"1\" class=\"dataframe\">\n",
       "  <thead>\n",
       "    <tr style=\"text-align: right;\">\n",
       "      <th></th>\n",
       "      <th>PassengerId</th>\n",
       "      <th>Survived</th>\n",
       "      <th>Pclass</th>\n",
       "      <th>Name</th>\n",
       "      <th>Sex</th>\n",
       "      <th>Age</th>\n",
       "      <th>SibSp</th>\n",
       "      <th>Parch</th>\n",
       "      <th>Ticket</th>\n",
       "      <th>Fare</th>\n",
       "      <th>Cabin</th>\n",
       "      <th>Embarked</th>\n",
       "    </tr>\n",
       "  </thead>\n",
       "  <tbody>\n",
       "    <tr>\n",
       "      <th>0</th>\n",
       "      <td>1</td>\n",
       "      <td>0</td>\n",
       "      <td>3</td>\n",
       "      <td>Braund, Mr. Owen Harris</td>\n",
       "      <td>male</td>\n",
       "      <td>22.0</td>\n",
       "      <td>1</td>\n",
       "      <td>0</td>\n",
       "      <td>A/5 21171</td>\n",
       "      <td>7.2500</td>\n",
       "      <td>NaN</td>\n",
       "      <td>S</td>\n",
       "    </tr>\n",
       "    <tr>\n",
       "      <th>1</th>\n",
       "      <td>2</td>\n",
       "      <td>1</td>\n",
       "      <td>1</td>\n",
       "      <td>Cumings, Mrs. John Bradley (Florence Briggs Th...</td>\n",
       "      <td>female</td>\n",
       "      <td>38.0</td>\n",
       "      <td>1</td>\n",
       "      <td>0</td>\n",
       "      <td>PC 17599</td>\n",
       "      <td>71.2833</td>\n",
       "      <td>C85</td>\n",
       "      <td>C</td>\n",
       "    </tr>\n",
       "    <tr>\n",
       "      <th>2</th>\n",
       "      <td>3</td>\n",
       "      <td>1</td>\n",
       "      <td>3</td>\n",
       "      <td>Heikkinen, Miss. Laina</td>\n",
       "      <td>female</td>\n",
       "      <td>26.0</td>\n",
       "      <td>0</td>\n",
       "      <td>0</td>\n",
       "      <td>STON/O2. 3101282</td>\n",
       "      <td>7.9250</td>\n",
       "      <td>NaN</td>\n",
       "      <td>S</td>\n",
       "    </tr>\n",
       "    <tr>\n",
       "      <th>3</th>\n",
       "      <td>4</td>\n",
       "      <td>1</td>\n",
       "      <td>1</td>\n",
       "      <td>Futrelle, Mrs. Jacques Heath (Lily May Peel)</td>\n",
       "      <td>female</td>\n",
       "      <td>35.0</td>\n",
       "      <td>1</td>\n",
       "      <td>0</td>\n",
       "      <td>113803</td>\n",
       "      <td>53.1000</td>\n",
       "      <td>C123</td>\n",
       "      <td>S</td>\n",
       "    </tr>\n",
       "    <tr>\n",
       "      <th>4</th>\n",
       "      <td>5</td>\n",
       "      <td>0</td>\n",
       "      <td>3</td>\n",
       "      <td>Allen, Mr. William Henry</td>\n",
       "      <td>male</td>\n",
       "      <td>35.0</td>\n",
       "      <td>0</td>\n",
       "      <td>0</td>\n",
       "      <td>373450</td>\n",
       "      <td>8.0500</td>\n",
       "      <td>NaN</td>\n",
       "      <td>S</td>\n",
       "    </tr>\n",
       "  </tbody>\n",
       "</table>\n",
       "</div>"
      ],
      "text/plain": [
       "   PassengerId  Survived  Pclass  \\\n",
       "0            1         0       3   \n",
       "1            2         1       1   \n",
       "2            3         1       3   \n",
       "3            4         1       1   \n",
       "4            5         0       3   \n",
       "\n",
       "                                                Name     Sex   Age  SibSp  \\\n",
       "0                            Braund, Mr. Owen Harris    male  22.0      1   \n",
       "1  Cumings, Mrs. John Bradley (Florence Briggs Th...  female  38.0      1   \n",
       "2                             Heikkinen, Miss. Laina  female  26.0      0   \n",
       "3       Futrelle, Mrs. Jacques Heath (Lily May Peel)  female  35.0      1   \n",
       "4                           Allen, Mr. William Henry    male  35.0      0   \n",
       "\n",
       "   Parch            Ticket     Fare Cabin Embarked  \n",
       "0      0         A/5 21171   7.2500   NaN        S  \n",
       "1      0          PC 17599  71.2833   C85        C  \n",
       "2      0  STON/O2. 3101282   7.9250   NaN        S  \n",
       "3      0            113803  53.1000  C123        S  \n",
       "4      0            373450   8.0500   NaN        S  "
      ]
     },
     "execution_count": 3,
     "metadata": {},
     "output_type": "execute_result"
    }
   ],
   "source": [
    "train.head()"
   ]
  },
  {
   "cell_type": "code",
   "execution_count": 4,
   "id": "56ac0233",
   "metadata": {},
   "outputs": [
    {
     "name": "stdout",
     "output_type": "stream",
     "text": [
      "The prior probability to survive is:  0.38\n"
     ]
    }
   ],
   "source": [
    "# total\n",
    "cnt_all = len(train)\n",
    "\n",
    "# list of all survivors\n",
    "survivors = train[train.Survived.eq(1)]\n",
    "cnt_survivors = len(survivors)\n",
    "\n",
    "# calculate the prior probability\n",
    "prob_survival = len(survivors)/cnt_all\n",
    "\n",
    "print(\"The prior probability to survive is: \", round(prob_survival, 2))"
   ]
  },
  {
   "cell_type": "code",
   "execution_count": 5,
   "id": "7e81fb9b",
   "metadata": {},
   "outputs": [],
   "source": [
    "def get_modifier_pclass(pclass):\n",
    "    # number of passengers with the same pclass\n",
    "    cnt_surv_pclass = len(survivors[survivors.Pclass.eq(pclass)])\n",
    "\n",
    "    # backward probability\n",
    "    p_cl_surv = cnt_surv_pclass/cnt_survivors\n",
    "\n",
    "    # probability of the evidence\n",
    "    p_cl = len(train[train.Pclass.eq(pclass)])/cnt_all\n",
    "    return p_cl_surv/p_cl"
   ]
  },
  {
   "cell_type": "code",
   "execution_count": 6,
   "id": "13c5dc3f",
   "metadata": {},
   "outputs": [],
   "source": [
    "def get_modifier_sex(sex):\n",
    "    # number of passengers with the same pclass\n",
    "    cnt_surv_sex = len(survivors[survivors.Sex.eq(sex)])\n",
    "\n",
    "    # backward probability\n",
    "    p_sex_surv = cnt_surv_sex/cnt_survivors\n",
    "\n",
    "    # probability of the evidence\n",
    "    p_sex = len(train[train.Sex.eq(sex)])/cnt_all\n",
    "\n",
    "    return p_sex_surv/p_sex"
   ]
  },
  {
   "cell_type": "code",
   "execution_count": 7,
   "id": "6d50a0bb",
   "metadata": {},
   "outputs": [],
   "source": [
    "def pre_process(passenger):\n",
    "    \"\"\"\n",
    "    passenger −− the Pandas dataframe−row of the passenger\n",
    "    returns a list of modifiers, like this [modifier_a, modifier_b, ...]\n",
    "    \"\"\"\n",
    "    return [\n",
    "        get_modifier_pclass(passenger[\"Pclass\"]),\n",
    "        get_modifier_sex(passenger[\"Sex\"]),\n",
    "    ]"
   ]
  },
  {
   "cell_type": "code",
   "execution_count": 8,
   "id": "1de7a202",
   "metadata": {},
   "outputs": [
    {
     "data": {
      "text/plain": [
       "PassengerId                                          53\n",
       "Survived                                              1\n",
       "Pclass                                                1\n",
       "Name           Harper, Mrs. Henry Sleeper (Myna Haxtun)\n",
       "Sex                                              female\n",
       "Age                                                  49\n",
       "SibSp                                                 1\n",
       "Parch                                                 0\n",
       "Ticket                                         PC 17572\n",
       "Fare                                            76.7292\n",
       "Cabin                                               D33\n",
       "Embarked                                              C\n",
       "Name: 52, dtype: object"
      ]
     },
     "execution_count": 8,
     "metadata": {},
     "output_type": "execute_result"
    }
   ],
   "source": [
    "train.iloc[52]"
   ]
  },
  {
   "cell_type": "code",
   "execution_count": 9,
   "id": "ff908c55",
   "metadata": {},
   "outputs": [
    {
     "name": "stdout",
     "output_type": "stream",
     "text": [
      "[1.6403508771929822, 1.9332048273550118]\n"
     ]
    }
   ],
   "source": [
    "# a female passenger with 1st class ticket\n",
    "print (pre_process(train.iloc[52]))"
   ]
  },
  {
   "cell_type": "code",
   "execution_count": 10,
   "id": "f4eab568",
   "metadata": {},
   "outputs": [
    {
     "data": {
      "text/plain": [
       "PassengerId                         27\n",
       "Survived                             0\n",
       "Pclass                               3\n",
       "Name           Emir, Mr. Farred Chehab\n",
       "Sex                               male\n",
       "Age                                NaN\n",
       "SibSp                                0\n",
       "Parch                                0\n",
       "Ticket                            2631\n",
       "Fare                             7.225\n",
       "Cabin                              NaN\n",
       "Embarked                             C\n",
       "Name: 26, dtype: object"
      ]
     },
     "execution_count": 10,
     "metadata": {},
     "output_type": "execute_result"
    }
   ],
   "source": [
    "train.iloc[26]"
   ]
  },
  {
   "cell_type": "code",
   "execution_count": 11,
   "id": "9ed12c3d",
   "metadata": {},
   "outputs": [
    {
     "name": "stdout",
     "output_type": "stream",
     "text": [
      "[0.6314181584306999, 0.49215543190732464]\n"
     ]
    }
   ],
   "source": [
    "# a male passenger with 3rd class ticket\n",
    "print (pre_process(train.iloc[26]))"
   ]
  },
  {
   "cell_type": "code",
   "execution_count": 12,
   "id": "8cc45032",
   "metadata": {},
   "outputs": [],
   "source": [
    "def prob_to_angle(prob):\n",
    "    \"\"\"\n",
    "    Converts a given P(psi) value into an equivalent theta value.\n",
    "    \"\"\"\n",
    "    return 2*asin(sqrt(prob))"
   ]
  },
  {
   "cell_type": "code",
   "execution_count": 13,
   "id": "b64425a4",
   "metadata": {},
   "outputs": [],
   "source": [
    "def pqc(backend, prior, modifiers, shots=1, hist=False, measure=False):\n",
    "    \n",
    "    # Prepare the circuit with qubits and a classical bit to hold the measurement\n",
    "    qr = QuantumRegister(7)\n",
    "    cr = ClassicalRegister(1)\n",
    "    qc = QuantumCircuit(qr, cr) if measure else QuantumCircuit(qr)\n",
    "\n",
    "    # the qubit positions\n",
    "    trunks = 3\n",
    "    aux = trunks+1\n",
    "    aux_half = trunks+1\n",
    "    aux_full = trunks+2\n",
    "    target = trunks+3\n",
    "\n",
    "    # Apply prior to qubit to the target qubit\n",
    "    qc.ry(prob_to_angle(prior), target)\n",
    "\n",
    "    # Work with the remainder\n",
    "    qc.x(target)\n",
    "\n",
    "    # Apply prior to full auxiliary qubit\n",
    "    qc.cry(prob_to_angle(prior/(1-prior)), target, aux_full)\n",
    "\n",
    "    # Work with the remainder\n",
    "    qc.cx(aux_full,target)\n",
    "\n",
    "    # Apply 0.5*prior to qubit 1\n",
    "    qc.cry(prob_to_angle(0.5*prior/(1-(2*prior))), target,aux_half)\n",
    "\n",
    "    # Rearrange states to separated qubits\n",
    "    qc.x(target)\n",
    "    qc.cx(aux_full, target)\n",
    "    \n",
    "    sorted_modifiers = sorted(modifiers)\n",
    "\n",
    "    for step in range(0, len(modifiers)):\n",
    "        \n",
    "        if sorted_modifiers[step] > 1:\n",
    "            qc.cry(prob_to_angle(min(1, sorted_modifiers[step]-1)), aux_full, target)\n",
    "\n",
    "            # separate the aux_full and the target qubit\n",
    "            qc.ccx(target, aux_full, 0)\n",
    "            qc.ccx(target, 0, aux_full)\n",
    "            \n",
    "            if step == 0:\n",
    "                # equalize what we transferred to the target (*2) and increase the aux_full to reflect the modifier (*2)\n",
    "                qc.cry(prob_to_angle(min(1,(sorted_modifiers[step]-1)*2*2)), aux_half, aux_full)\n",
    "\n",
    "        else: \n",
    "            # apply modifier to the target qubit\n",
    "            qc.cry(prob_to_angle(1-sorted_modifiers[step]), target, step*2)\n",
    "            qc.cx(step*2,target)\n",
    "\n",
    "            if step == 0:\n",
    "                # apply modifier to full auxiliary qubit\n",
    "                qc.cry(prob_to_angle(1-sorted_modifiers[step]), aux_full, step*2+1)\n",
    "\n",
    "                # unentangle the full auxiliary from trunk\n",
    "                qc.cx(step*2+1,aux_full)\n",
    "\n",
    "    # measure the qubit only if we want the measurement to be included\n",
    "    if measure:\n",
    "        qc.measure(qr[target], cr[0])\n",
    "        \n",
    "    results = execute(qc,backend, shots=shots).result().get_counts()\n",
    "    return plot_histogram(results, figsize=(12,4)) if hist else results"
   ]
  },
  {
   "cell_type": "code",
   "execution_count": 14,
   "id": "b54eb826",
   "metadata": {},
   "outputs": [
    {
     "data": {
      "image/png": "[encoded data removed]",
      "text/plain": [
       "<Figure size 504x360 with 1 Axes>"
      ]
     },
     "execution_count": 14,
     "metadata": {
      "image/png": {
       "height": 306,
       "width": 452
      }
     },
     "output_type": "execute_result"
    }
   ],
   "source": [
    "plot_histogram(pqc(Aer.get_backend('qasm_simulator') , 0.38, [1.4, 1.3], shots=1000, hist=False, measure=True))"
   ]
  },
  {
   "cell_type": "code",
   "execution_count": 15,
   "id": "771db122",
   "metadata": {},
   "outputs": [
    {
     "data": {
      "image/png": "[encoded data removed]",
      "text/plain": [
       "<Figure size 504x360 with 1 Axes>"
      ]
     },
     "execution_count": 15,
     "metadata": {
      "image/png": {
       "height": 306,
       "width": 461
      }
     },
     "output_type": "execute_result"
    }
   ],
   "source": [
    "plot_histogram(pqc(Aer.get_backend('qasm_simulator') , 0.38, \n",
    "                   [1.6403508771929822, 1.9332048273550118], shots=1000, hist=False, measure=True))"
   ]
  },
  {
   "cell_type": "code",
   "execution_count": 16,
   "id": "bd8ebcd8",
   "metadata": {},
   "outputs": [],
   "source": [
    "def post_process(counts):\n",
    "    \"\"\"\n",
    "    counts -- the result of the quantum circuit execution\n",
    "    returns the prediction\n",
    "    \"\"\"\n",
    "    return int(list(map(lambda item: item[0], counts.items()))[0])"
   ]
  },
  {
   "cell_type": "code",
   "execution_count": 17,
   "id": "d23737c9",
   "metadata": {},
   "outputs": [],
   "source": [
    "def run(f_classify, x):\n",
    "    return list(map(f_classify, x))\n",
    "\n",
    "def specificity(matrix):\n",
    "    return matrix[0][0]/(matrix[0][0]+matrix[0][1]) if (matrix[0][0]+matrix[0][1] > 0) else 0\n",
    "\n",
    "def npv(matrix):\n",
    "    return matrix[0][0]/(matrix[0][0]+matrix[1][0]) if (matrix[0][0]+matrix[1][0] > 0) else 0\n",
    "\n",
    "def classifier_report(name, run, classify, input, labels):\n",
    "    \n",
    "    cr_predictions = run(classify, input)\n",
    "    cr_cm = confusion_matrix(labels, cr_predictions)\n",
    "\n",
    "    cr_precision = precision_score(labels, cr_predictions)\n",
    "    cr_recall = recall_score(labels, cr_predictions)\n",
    "    cr_specificity = specificity(cr_cm)\n",
    "    cr_npv = npv(cr_cm)\n",
    "    cr_level = 0.25*(cr_precision + cr_recall + cr_specificity + cr_npv)\n",
    "\n",
    "    print('The precision score of the {} classifier is {:.2f}'.format(name, cr_precision))\n",
    "    print('The recall score of the {} classifier is {:.2f}'.format(name, cr_recall))\n",
    "    print('The specificity score of the {} classifier is {:.2f}'.format(name, cr_specificity))\n",
    "    print('The npv score of the {} classifier is {:.2f}'.format(name, cr_npv))\n",
    "    print('The information level is: {:.2f}'.format(cr_level))"
   ]
  },
  {
   "cell_type": "code",
   "execution_count": 18,
   "id": "030cb647",
   "metadata": {},
   "outputs": [
    {
     "name": "stdout",
     "output_type": "stream",
     "text": [
      "The precision score of the QuantumNaiveBayes classifier is 0.61\n",
      "The recall score of the QuantumNaiveBayes classifier is 0.59\n",
      "The specificity score of the QuantumNaiveBayes classifier is 0.76\n",
      "The npv score of the QuantumNaiveBayes classifier is 0.75\n",
      "The information level is: 0.68\n"
     ]
    }
   ],
   "source": [
    "def run(f_classify, data):\n",
    "    return [f_classify(data.iloc[i]) for i in range(0,len(data))]\n",
    "\n",
    "# specify a reusable backend\n",
    "backend = Aer.get_backend('qasm_simulator') \n",
    "\n",
    "# evaluate the Quantum Naive Bayes classifier\n",
    "classifier_report(\"QuantumNaiveBayes\",\n",
    "    run,\n",
    "    lambda passenger: post_process(pqc(backend, prob_survival, pre_process(passenger), measure=True, hist=False)),\n",
    "    train,\n",
    "    train['Survived'])"
   ]
  },
  {
   "cell_type": "code",
   "execution_count": null,
   "id": "f5a2219c",
   "metadata": {},
   "outputs": [],
   "source": []
  }
 ],
 "metadata": {
  "kernelspec": {
   "display_name": "Python 3 (ipykernel)",
   "language": "python",
   "name": "python3"
  },
  "language_info": {
   "codemirror_mode": {
    "name": "ipython",
    "version": 3
   },
   "file_extension": ".py",
   "mimetype": "text/x-python",
   "name": "python",
   "nbconvert_exporter": "python",
   "pygments_lexer": "ipython3",
   "version": "3.7.7"
  }
 },
 "nbformat": 4,
 "nbformat_minor": 5
}
