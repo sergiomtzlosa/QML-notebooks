{
 "cells": [
  {
   "cell_type": "code",
   "execution_count": 1,
   "metadata": {},
   "outputs": [
    {
     "name": "stdout",
     "output_type": "stream",
     "text": [
      "WARNING:tensorflow:From C:\\ProgramData\\Anaconda3\\lib\\site-packages\\tensorflow\\python\\compat\\v2_compat.py:107: disable_resource_variables (from tensorflow.python.ops.variable_scope) is deprecated and will be removed in a future version.\n",
      "Instructions for updating:\n",
      "non-resource variables are not supported in the long term\n"
     ]
    }
   ],
   "source": [
    "import tensorflow.compat.v1 as tf\n",
    "tf.disable_v2_behavior()\n",
    "\n",
    "import tensorflow as tf\n",
    "import numpy as np\n",
    "from keras.datasets import cifar10\n",
    "from keras.models import Sequential\n",
    "from keras.layers import Dense\n",
    "from keras.layers import Dropout\n",
    "from keras.layers import Flatten\n",
    "from keras.constraints import maxnorm\n",
    "from keras.optimizers import SGD\n",
    "from keras.layers.convolutional import Convolution2D\n",
    "from keras.layers.convolutional import MaxPooling2D\n",
    "from keras.utils import np_utils\n",
    "from keras import backend as K\n",
    "\n",
    "K.image_dim_ordering = 'th'\n",
    "\n",
    "seed = 7\n",
    "np.random.seed(seed)"
   ]
  },
  {
   "cell_type": "code",
   "execution_count": 2,
   "metadata": {},
   "outputs": [],
   "source": [
    "(X_train, y_train), (X_test, y_test) = cifar10.load_data()"
   ]
  },
  {
   "cell_type": "code",
   "execution_count": 3,
   "metadata": {},
   "outputs": [],
   "source": [
    "# normalize inputs from 0-255 to 0.0-1.0\n",
    "X_train = X_train.astype('float32')\n",
    "X_test = X_test.astype('float32')\n",
    "\n",
    "X_train = X_train / 255.0\n",
    "X_test = X_test / 255.0"
   ]
  },
  {
   "cell_type": "code",
   "execution_count": 4,
   "metadata": {},
   "outputs": [
    {
     "data": {
      "text/plain": [
       "10"
      ]
     },
     "execution_count": 4,
     "metadata": {},
     "output_type": "execute_result"
    }
   ],
   "source": [
    "# one hot encode outputs\n",
    "y_train = np_utils.to_categorical(y_train)\n",
    "y_test = np_utils.to_categorical(y_test)\n",
    "num_classes = y_test.shape[1]\n",
    "num_classes"
   ]
  },
  {
   "cell_type": "code",
   "execution_count": 5,
   "metadata": {},
   "outputs": [],
   "source": [
    "# Create the model\n",
    "model = Sequential()\n",
    "model.add(Convolution2D(32, 3, 3, input_shape = (32, 32, 3), padding= 'same', activation = 'relu', kernel_constraint = maxnorm(3)))\n",
    "model.add(Dropout(0.2))\n",
    "model.add(Convolution2D(32, 3, 3, activation = 'relu', padding = 'same', kernel_constraint = maxnorm(3)))\n",
    "model.add(MaxPooling2D(pool_size = (2, 2)))\n",
    "model.add(Flatten())\n",
    "model.add(Dense(512, activation = 'relu', kernel_constraint = maxnorm(3)))\n",
    "model.add(Dropout(0.5))\n",
    "model.add(Dense(num_classes, activation = 'softmax'))"
   ]
  },
  {
   "cell_type": "code",
   "execution_count": 6,
   "metadata": {},
   "outputs": [
    {
     "name": "stdout",
     "output_type": "stream",
     "text": [
      "Model: \"sequential\"\n",
      "_________________________________________________________________\n",
      " Layer (type)                Output Shape              Param #   \n",
      "=================================================================\n",
      " conv2d (Conv2D)             (None, 11, 11, 32)        896       \n",
      "                                                                 \n",
      " dropout (Dropout)           (None, 11, 11, 32)        0         \n",
      "                                                                 \n",
      " conv2d_1 (Conv2D)           (None, 4, 4, 32)          9248      \n",
      "                                                                 \n",
      " max_pooling2d (MaxPooling2D  (None, 2, 2, 32)         0         \n",
      " )                                                               \n",
      "                                                                 \n",
      " flatten (Flatten)           (None, 128)               0         \n",
      "                                                                 \n",
      " dense (Dense)               (None, 512)               66048     \n",
      "                                                                 \n",
      " dropout_1 (Dropout)         (None, 512)               0         \n",
      "                                                                 \n",
      " dense_1 (Dense)             (None, 10)                5130      \n",
      "                                                                 \n",
      "=================================================================\n",
      "Total params: 81,322\n",
      "Trainable params: 81,322\n",
      "Non-trainable params: 0\n",
      "_________________________________________________________________\n",
      "None\n"
     ]
    }
   ],
   "source": [
    "# Compile model\n",
    "epochs = 25\n",
    "lrate = 0.01\n",
    "decay = lrate/epochs\n",
    "sgd = SGD(learning_rate=lrate, momentum=0.9, decay=decay, nesterov=False)\n",
    "\n",
    "model.compile(loss = 'categorical_crossentropy', optimizer = sgd, metrics=['accuracy'])\n",
    "\n",
    "print(model.summary())"
   ]
  },
  {
   "cell_type": "code",
   "execution_count": 7,
   "metadata": {},
   "outputs": [
    {
     "name": "stdout",
     "output_type": "stream",
     "text": [
      "Train on 50000 samples, validate on 10000 samples\n",
      "Epoch 1/25\n"
     ]
    },
    {
     "name": "stderr",
     "output_type": "stream",
     "text": [
      "C:\\ProgramData\\Anaconda3\\lib\\site-packages\\keras\\engine\\training_v1.py:2045: UserWarning: `Model.state_updates` will be removed in a future version. This property should not be used in TensorFlow 2.0, as `updates` are applied automatically.\n",
      "  updates = self.state_updates\n"
     ]
    },
    {
     "name": "stdout",
     "output_type": "stream",
     "text": [
      "50000/50000 - 7s - loss: 1.9501 - acc: 0.2876 - val_loss: 1.6955 - val_acc: 0.3969 - 7s/epoch - 135us/sample\n",
      "Epoch 2/25\n",
      "50000/50000 - 6s - loss: 1.7017 - acc: 0.3851 - val_loss: 1.5578 - val_acc: 0.4379 - 6s/epoch - 120us/sample\n",
      "Epoch 3/25\n",
      "50000/50000 - 6s - loss: 1.6009 - acc: 0.4194 - val_loss: 1.4982 - val_acc: 0.4582 - 6s/epoch - 124us/sample\n",
      "Epoch 4/25\n",
      "50000/50000 - 5s - loss: 1.5403 - acc: 0.4420 - val_loss: 1.4766 - val_acc: 0.4667 - 5s/epoch - 109us/sample\n",
      "Epoch 5/25\n",
      "50000/50000 - 6s - loss: 1.5019 - acc: 0.4553 - val_loss: 1.4588 - val_acc: 0.4680 - 6s/epoch - 116us/sample\n",
      "Epoch 6/25\n",
      "50000/50000 - 6s - loss: 1.4742 - acc: 0.4662 - val_loss: 1.3979 - val_acc: 0.4888 - 6s/epoch - 116us/sample\n",
      "Epoch 7/25\n",
      "50000/50000 - 6s - loss: 1.4552 - acc: 0.4704 - val_loss: 1.3889 - val_acc: 0.4936 - 6s/epoch - 114us/sample\n",
      "Epoch 8/25\n",
      "50000/50000 - 6s - loss: 1.4313 - acc: 0.4813 - val_loss: 1.3647 - val_acc: 0.5049 - 6s/epoch - 111us/sample\n",
      "Epoch 9/25\n",
      "50000/50000 - 6s - loss: 1.4174 - acc: 0.4877 - val_loss: 1.3441 - val_acc: 0.5148 - 6s/epoch - 117us/sample\n",
      "Epoch 10/25\n",
      "50000/50000 - 6s - loss: 1.3968 - acc: 0.4940 - val_loss: 1.3345 - val_acc: 0.5133 - 6s/epoch - 126us/sample\n",
      "Epoch 11/25\n",
      "50000/50000 - 6s - loss: 1.3831 - acc: 0.4982 - val_loss: 1.3353 - val_acc: 0.5138 - 6s/epoch - 128us/sample\n",
      "Epoch 12/25\n",
      "50000/50000 - 6s - loss: 1.3797 - acc: 0.4994 - val_loss: 1.3129 - val_acc: 0.5218 - 6s/epoch - 119us/sample\n",
      "Epoch 13/25\n",
      "50000/50000 - 6s - loss: 1.3620 - acc: 0.5076 - val_loss: 1.3145 - val_acc: 0.5223 - 6s/epoch - 114us/sample\n",
      "Epoch 14/25\n",
      "50000/50000 - 6s - loss: 1.3521 - acc: 0.5093 - val_loss: 1.2990 - val_acc: 0.5296 - 6s/epoch - 117us/sample\n",
      "Epoch 15/25\n",
      "50000/50000 - 5s - loss: 1.3480 - acc: 0.5119 - val_loss: 1.2934 - val_acc: 0.5282 - 5s/epoch - 109us/sample\n",
      "Epoch 16/25\n",
      "50000/50000 - 5s - loss: 1.3371 - acc: 0.5174 - val_loss: 1.2826 - val_acc: 0.5332 - 5s/epoch - 106us/sample\n",
      "Epoch 17/25\n",
      "50000/50000 - 5s - loss: 1.3318 - acc: 0.5199 - val_loss: 1.2732 - val_acc: 0.5375 - 5s/epoch - 108us/sample\n",
      "Epoch 18/25\n",
      "50000/50000 - 6s - loss: 1.3216 - acc: 0.5245 - val_loss: 1.2767 - val_acc: 0.5388 - 6s/epoch - 110us/sample\n",
      "Epoch 19/25\n",
      "50000/50000 - 7s - loss: 1.3147 - acc: 0.5259 - val_loss: 1.2645 - val_acc: 0.5423 - 7s/epoch - 130us/sample\n",
      "Epoch 20/25\n",
      "50000/50000 - 7s - loss: 1.3113 - acc: 0.5275 - val_loss: 1.2607 - val_acc: 0.5435 - 7s/epoch - 134us/sample\n",
      "Epoch 21/25\n",
      "50000/50000 - 6s - loss: 1.3018 - acc: 0.5300 - val_loss: 1.2593 - val_acc: 0.5456 - 6s/epoch - 117us/sample\n",
      "Epoch 22/25\n",
      "50000/50000 - 6s - loss: 1.2982 - acc: 0.5328 - val_loss: 1.2529 - val_acc: 0.5465 - 6s/epoch - 116us/sample\n",
      "Epoch 23/25\n",
      "50000/50000 - 6s - loss: 1.2917 - acc: 0.5343 - val_loss: 1.2600 - val_acc: 0.5431 - 6s/epoch - 113us/sample\n",
      "Epoch 24/25\n",
      "50000/50000 - 6s - loss: 1.2886 - acc: 0.5357 - val_loss: 1.2495 - val_acc: 0.5466 - 6s/epoch - 113us/sample\n",
      "Epoch 25/25\n",
      "50000/50000 - 5s - loss: 1.2861 - acc: 0.5361 - val_loss: 1.2469 - val_acc: 0.5516 - 5s/epoch - 110us/sample\n"
     ]
    },
    {
     "data": {
      "text/plain": [
       "<keras.callbacks.History at 0x24bc3ff7e08>"
      ]
     },
     "execution_count": 7,
     "metadata": {},
     "output_type": "execute_result"
    }
   ],
   "source": [
    "# Fit the model\n",
    "model.fit(X_train, y_train, validation_data=(X_test, y_test), epochs=epochs, batch_size=32, verbose=2)"
   ]
  },
  {
   "cell_type": "code",
   "execution_count": 8,
   "metadata": {},
   "outputs": [
    {
     "name": "stdout",
     "output_type": "stream",
     "text": [
      "Accuracy: 55.16%\n"
     ]
    }
   ],
   "source": [
    "# Final evaluation of the model\n",
    "scores = model.evaluate(X_test, y_test, verbose=0)\n",
    "print(\"Accuracy: %.2f%%\" % (scores[1]*100))"
   ]
  },
  {
   "cell_type": "code",
   "execution_count": null,
   "metadata": {},
   "outputs": [],
   "source": []
  }
 ],
 "metadata": {
  "kernelspec": {
   "display_name": "Python 3 (ipykernel)",
   "language": "python",
   "name": "python3"
  },
  "language_info": {
   "codemirror_mode": {
    "name": "ipython",
    "version": 3
   },
   "file_extension": ".py",
   "mimetype": "text/x-python",
   "name": "python",
   "nbconvert_exporter": "python",
   "pygments_lexer": "ipython3",
   "version": "3.7.7"
  }
 },
 "nbformat": 4,
 "nbformat_minor": 4
}
