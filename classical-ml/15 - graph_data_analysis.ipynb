{
 "cells": [
  {
   "cell_type": "code",
   "execution_count": 1,
   "id": "601f2c23",
   "metadata": {},
   "outputs": [],
   "source": [
    "import pandas as pd\n",
    "import networkx as nx\n",
    "from networkx.algorithms import community\n",
    "import matplotlib.pyplot as plt\n",
    "\n",
    "import warnings\n",
    "warnings.filterwarnings('ignore')\n",
    "\n",
    "%matplotlib inline\n",
    "\n",
    "plt.rcParams['figure.figsize'] = [10, 7]\n",
    "%config InlineBackend.figure_format = 'retina'"
   ]
  },
  {
   "cell_type": "code",
   "execution_count": 2,
   "id": "ad93fbd7",
   "metadata": {},
   "outputs": [],
   "source": [
    "data = pd.read_csv(\"../datasets/heroes/hero-network.csv\")"
   ]
  },
  {
   "cell_type": "code",
   "execution_count": 3,
   "id": "e7b64b85",
   "metadata": {},
   "outputs": [
    {
     "name": "stdout",
     "output_type": "stream",
     "text": [
      "<class 'pandas.core.frame.DataFrame'>\n",
      "RangeIndex: 574467 entries, 0 to 574466\n",
      "Data columns (total 2 columns):\n",
      " #   Column  Non-Null Count   Dtype \n",
      "---  ------  --------------   ----- \n",
      " 0   hero1   574467 non-null  object\n",
      " 1   hero2   574467 non-null  object\n",
      "dtypes: object(2)\n",
      "memory usage: 8.8+ MB\n"
     ]
    }
   ],
   "source": [
    "data.info()"
   ]
  },
  {
   "cell_type": "code",
   "execution_count": 4,
   "id": "76fe48d5",
   "metadata": {},
   "outputs": [
    {
     "data": {
      "text/html": [
       "<div>\n",
       "<style scoped>\n",
       "    .dataframe tbody tr th:only-of-type {\n",
       "        vertical-align: middle;\n",
       "    }\n",
       "\n",
       "    .dataframe tbody tr th {\n",
       "        vertical-align: top;\n",
       "    }\n",
       "\n",
       "    .dataframe thead th {\n",
       "        text-align: right;\n",
       "    }\n",
       "</style>\n",
       "<table border=\"1\" class=\"dataframe\">\n",
       "  <thead>\n",
       "    <tr style=\"text-align: right;\">\n",
       "      <th></th>\n",
       "      <th>hero1</th>\n",
       "      <th>hero2</th>\n",
       "    </tr>\n",
       "  </thead>\n",
       "  <tbody>\n",
       "    <tr>\n",
       "      <th>0</th>\n",
       "      <td>LITTLE, ABNER</td>\n",
       "      <td>PRINCESS ZANDA</td>\n",
       "    </tr>\n",
       "    <tr>\n",
       "      <th>1</th>\n",
       "      <td>LITTLE, ABNER</td>\n",
       "      <td>BLACK PANTHER/T'CHAL</td>\n",
       "    </tr>\n",
       "    <tr>\n",
       "      <th>2</th>\n",
       "      <td>BLACK PANTHER/T'CHAL</td>\n",
       "      <td>PRINCESS ZANDA</td>\n",
       "    </tr>\n",
       "    <tr>\n",
       "      <th>3</th>\n",
       "      <td>LITTLE, ABNER</td>\n",
       "      <td>PRINCESS ZANDA</td>\n",
       "    </tr>\n",
       "    <tr>\n",
       "      <th>4</th>\n",
       "      <td>LITTLE, ABNER</td>\n",
       "      <td>BLACK PANTHER/T'CHAL</td>\n",
       "    </tr>\n",
       "  </tbody>\n",
       "</table>\n",
       "</div>"
      ],
      "text/plain": [
       "                  hero1                 hero2\n",
       "0         LITTLE, ABNER        PRINCESS ZANDA\n",
       "1         LITTLE, ABNER  BLACK PANTHER/T'CHAL\n",
       "2  BLACK PANTHER/T'CHAL        PRINCESS ZANDA\n",
       "3         LITTLE, ABNER        PRINCESS ZANDA\n",
       "4         LITTLE, ABNER  BLACK PANTHER/T'CHAL"
      ]
     },
     "execution_count": 4,
     "metadata": {},
     "output_type": "execute_result"
    }
   ],
   "source": [
    "data.head()"
   ]
  },
  {
   "cell_type": "code",
   "execution_count": 5,
   "id": "78c89f4b",
   "metadata": {},
   "outputs": [],
   "source": [
    "graph = nx.from_pandas_edgelist(data, source='hero1', target='hero2')"
   ]
  },
  {
   "cell_type": "code",
   "execution_count": 6,
   "id": "00055ec8",
   "metadata": {},
   "outputs": [
    {
     "name": "stdout",
     "output_type": "stream",
     "text": [
      "Graph with 6426 nodes and 167219 edges\n"
     ]
    }
   ],
   "source": [
    "print(nx.info(graph))"
   ]
  },
  {
   "cell_type": "code",
   "execution_count": 7,
   "id": "06ab26e5",
   "metadata": {},
   "outputs": [
    {
     "name": "stdout",
     "output_type": "stream",
     "text": [
      "Network density: 0.00810031232553549\n"
     ]
    }
   ],
   "source": [
    "print(\"Network density:\", nx.density(graph))"
   ]
  },
  {
   "cell_type": "markdown",
   "id": "c471ab70",
   "metadata": {},
   "source": [
    "### New subnetwork"
   ]
  },
  {
   "cell_type": "code",
   "execution_count": 8,
   "id": "223cfcae",
   "metadata": {},
   "outputs": [],
   "source": [
    "heroes = {\n",
    " 'MEDUSA/MEDUSALITH AM',\n",
    " 'ARCLIGHT/PHILLIPA SO',\n",
    " 'WOLVERINE/LOGAN ',\n",
    " 'SCARLET WITCH/WANDA ',\n",
    " 'ARAGORN',\n",
    " 'OVERMIND/GROM',\n",
    " 'BATTLEAXE/',\n",
    " 'ION/',\n",
    " 'PINK PEARL/'\n",
    "}"
   ]
  },
  {
   "cell_type": "code",
   "execution_count": 9,
   "id": "8b5525ce",
   "metadata": {},
   "outputs": [],
   "source": [
    "relations = data[(data.hero1.isin(heroes)) & (data.hero2.isin(heroes))]"
   ]
  },
  {
   "cell_type": "code",
   "execution_count": 10,
   "id": "17747b60",
   "metadata": {},
   "outputs": [
    {
     "name": "stdout",
     "output_type": "stream",
     "text": [
      "<class 'pandas.core.frame.DataFrame'>\n",
      "Int64Index: 103 entries, 895 to 573288\n",
      "Data columns (total 2 columns):\n",
      " #   Column  Non-Null Count  Dtype \n",
      "---  ------  --------------  ----- \n",
      " 0   hero1   103 non-null    object\n",
      " 1   hero2   103 non-null    object\n",
      "dtypes: object(2)\n",
      "memory usage: 2.4+ KB\n"
     ]
    }
   ],
   "source": [
    "relations.info()"
   ]
  },
  {
   "cell_type": "code",
   "execution_count": 11,
   "id": "174a224a",
   "metadata": {},
   "outputs": [
    {
     "data": {
      "text/html": [
       "<div>\n",
       "<style scoped>\n",
       "    .dataframe tbody tr th:only-of-type {\n",
       "        vertical-align: middle;\n",
       "    }\n",
       "\n",
       "    .dataframe tbody tr th {\n",
       "        vertical-align: top;\n",
       "    }\n",
       "\n",
       "    .dataframe thead th {\n",
       "        text-align: right;\n",
       "    }\n",
       "</style>\n",
       "<table border=\"1\" class=\"dataframe\">\n",
       "  <thead>\n",
       "    <tr style=\"text-align: right;\">\n",
       "      <th></th>\n",
       "      <th>hero1</th>\n",
       "      <th>hero2</th>\n",
       "    </tr>\n",
       "  </thead>\n",
       "  <tbody>\n",
       "    <tr>\n",
       "      <th>895</th>\n",
       "      <td>SCARLET WITCH/WANDA</td>\n",
       "      <td>WOLVERINE/LOGAN</td>\n",
       "    </tr>\n",
       "    <tr>\n",
       "      <th>16777</th>\n",
       "      <td>SCARLET WITCH/WANDA</td>\n",
       "      <td>WOLVERINE/LOGAN</td>\n",
       "    </tr>\n",
       "    <tr>\n",
       "      <th>29525</th>\n",
       "      <td>WOLVERINE/LOGAN</td>\n",
       "      <td>SCARLET WITCH/WANDA</td>\n",
       "    </tr>\n",
       "    <tr>\n",
       "      <th>30832</th>\n",
       "      <td>WOLVERINE/LOGAN</td>\n",
       "      <td>SCARLET WITCH/WANDA</td>\n",
       "    </tr>\n",
       "    <tr>\n",
       "      <th>33894</th>\n",
       "      <td>MEDUSA/MEDUSALITH AM</td>\n",
       "      <td>WOLVERINE/LOGAN</td>\n",
       "    </tr>\n",
       "  </tbody>\n",
       "</table>\n",
       "</div>"
      ],
      "text/plain": [
       "                      hero1                 hero2\n",
       "895    SCARLET WITCH/WANDA       WOLVERINE/LOGAN \n",
       "16777  SCARLET WITCH/WANDA       WOLVERINE/LOGAN \n",
       "29525      WOLVERINE/LOGAN   SCARLET WITCH/WANDA \n",
       "30832      WOLVERINE/LOGAN   SCARLET WITCH/WANDA \n",
       "33894  MEDUSA/MEDUSALITH AM      WOLVERINE/LOGAN "
      ]
     },
     "execution_count": 11,
     "metadata": {},
     "output_type": "execute_result"
    }
   ],
   "source": [
    "relations.head()"
   ]
  },
  {
   "cell_type": "markdown",
   "id": "c103c744",
   "metadata": {},
   "source": [
    "### Metrics"
   ]
  },
  {
   "cell_type": "code",
   "execution_count": 12,
   "id": "4b057ea4",
   "metadata": {},
   "outputs": [],
   "source": [
    "sub_graph = nx.from_pandas_edgelist(relations, source='hero1', target='hero2')"
   ]
  },
  {
   "cell_type": "code",
   "execution_count": 13,
   "id": "e41cad9d",
   "metadata": {},
   "outputs": [
    {
     "name": "stdout",
     "output_type": "stream",
     "text": [
      "Graph with 9 nodes and 13 edges\n",
      "\n",
      "Network density: 0.3611111111111111\n"
     ]
    }
   ],
   "source": [
    "print(nx.info(sub_graph))\n",
    "print(\"\\nNetwork density:\", nx.density(sub_graph))"
   ]
  },
  {
   "cell_type": "code",
   "execution_count": 14,
   "id": "4b8ce132",
   "metadata": {},
   "outputs": [
    {
     "data": {
      "image/png": "[encoded data removed]",
      "text/plain": [
       "<Figure size 720x504 with 1 Axes>"
      ]
     },
     "metadata": {
      "image/png": {
       "height": 394,
       "width": 572
      }
     },
     "output_type": "display_data"
    }
   ],
   "source": [
    "nx.draw_networkx(sub_graph)"
   ]
  },
  {
   "cell_type": "code",
   "execution_count": 15,
   "id": "ee71c686",
   "metadata": {},
   "outputs": [
    {
     "name": "stdout",
     "output_type": "stream",
     "text": [
      "Diameter of the subgraph: 4\n"
     ]
    }
   ],
   "source": [
    "print('Diameter of the subgraph: {}'.format(nx.diameter(sub_graph)))"
   ]
  },
  {
   "cell_type": "code",
   "execution_count": 16,
   "id": "dccc9a54",
   "metadata": {},
   "outputs": [
    {
     "name": "stdout",
     "output_type": "stream",
     "text": [
      "Shortest path between Overmind and ion is:\n",
      "−  OVERMIND/GROM\n",
      "−  SCARLET WITCH/WANDA \n",
      "−  WOLVERINE/LOGAN \n",
      "−  ARCLIGHT/PHILLIPA SO\n",
      "−  ION/\n",
      "With length 5\n"
     ]
    }
   ],
   "source": [
    "overmind_ion_path = nx.shortest_path(\n",
    " sub_graph, source=\"OVERMIND/GROM\", target=\"ION/\"\n",
    ")\n",
    "\n",
    "print(\"Shortest path between Overmind and ion is:\")\n",
    "\n",
    "for item in overmind_ion_path:\n",
    "    print (\"− \", item)\n",
    "\n",
    "print(\"With length {}\".format(len(overmind_ion_path)))"
   ]
  },
  {
   "cell_type": "code",
   "execution_count": 17,
   "id": "b90ce7ce",
   "metadata": {},
   "outputs": [
    {
     "data": {
      "text/plain": [
       "{'SCARLET WITCH/WANDA ': 3,\n",
       " 'WOLVERINE/LOGAN ': 2,\n",
       " 'MEDUSA/MEDUSALITH AM': 3,\n",
       " 'ARAGORN': 4,\n",
       " 'OVERMIND/GROM': 4,\n",
       " 'ARCLIGHT/PHILLIPA SO': 3,\n",
       " 'ION/': 4,\n",
       " 'BATTLEAXE/': 4,\n",
       " 'PINK PEARL/': 4}"
      ]
     },
     "execution_count": 17,
     "metadata": {},
     "output_type": "execute_result"
    }
   ],
   "source": [
    "nx.eccentricity(sub_graph)"
   ]
  },
  {
   "cell_type": "code",
   "execution_count": 18,
   "id": "4fec05bc",
   "metadata": {},
   "outputs": [
    {
     "data": {
      "text/plain": [
       "{'SCARLET WITCH/WANDA ': 4,\n",
       " 'WOLVERINE/LOGAN ': 3,\n",
       " 'MEDUSA/MEDUSALITH AM': 2,\n",
       " 'ARAGORN': 2,\n",
       " 'OVERMIND/GROM': 2,\n",
       " 'ARCLIGHT/PHILLIPA SO': 4,\n",
       " 'ION/': 3,\n",
       " 'BATTLEAXE/': 3,\n",
       " 'PINK PEARL/': 3}"
      ]
     },
     "execution_count": 18,
     "metadata": {},
     "output_type": "execute_result"
    }
   ],
   "source": [
    "dict(sub_graph.degree(sub_graph.nodes()))"
   ]
  },
  {
   "cell_type": "code",
   "execution_count": 28,
   "id": "63f51f26",
   "metadata": {},
   "outputs": [
    {
     "name": "stdout",
     "output_type": "stream",
     "text": [
      "Shortest path between Scarlet and Arclight is:\n",
      "−  SCARLET WITCH/WANDA \n",
      "−  WOLVERINE/LOGAN \n",
      "−  ARCLIGHT/PHILLIPA SO\n",
      "With length 3\n"
     ]
    }
   ],
   "source": [
    "scarlet_arclight_path = nx.shortest_path(\n",
    "sub_graph, source=\"SCARLET WITCH/WANDA \", target=\"ARCLIGHT/PHILLIPA SO\")\n",
    "\n",
    "print(\"Shortest path between Scarlet and Arclight is:\")\n",
    "\n",
    "for item in scarlet_arclight_path:\n",
    "    print (\"− \", item)\n",
    "\n",
    "print(\"With length {}\".format(len(scarlet_arclight_path)))"
   ]
  },
  {
   "cell_type": "code",
   "execution_count": 20,
   "id": "7488f22e",
   "metadata": {},
   "outputs": [
    {
     "data": {
      "text/plain": [
       "{'SCARLET WITCH/WANDA ': 0.42857142857142855,\n",
       " 'WOLVERINE/LOGAN ': 0.5714285714285714,\n",
       " 'MEDUSA/MEDUSALITH AM': 0.0,\n",
       " 'ARAGORN': 0.0,\n",
       " 'OVERMIND/GROM': 0.0,\n",
       " 'ARCLIGHT/PHILLIPA SO': 0.5357142857142857,\n",
       " 'ION/': 0.0,\n",
       " 'BATTLEAXE/': 0.0,\n",
       " 'PINK PEARL/': 0.0}"
      ]
     },
     "execution_count": 20,
     "metadata": {},
     "output_type": "execute_result"
    }
   ],
   "source": [
    "nx.betweenness_centrality(sub_graph)"
   ]
  },
  {
   "cell_type": "code",
   "execution_count": 21,
   "id": "0c59bd73",
   "metadata": {},
   "outputs": [
    {
     "name": "stdout",
     "output_type": "stream",
     "text": [
      "\n",
      "Community: \n",
      "−  OVERMIND/GROM\n",
      "−  MEDUSA/MEDUSALITH AM\n",
      "−  ARAGORN\n",
      "−  WOLVERINE/LOGAN \n",
      "−  SCARLET WITCH/WANDA \n",
      "\n",
      "Community: \n",
      "−  BATTLEAXE/\n",
      "−  ION/\n",
      "−  ARCLIGHT/PHILLIPA SO\n",
      "−  PINK PEARL/\n"
     ]
    }
   ],
   "source": [
    "for item in community.greedy_modularity_communities(sub_graph):\n",
    "    print(\"\\nCommunity: \")\n",
    "    for hero in item:\n",
    "        print(\"− \", hero)"
   ]
  },
  {
   "cell_type": "code",
   "execution_count": 22,
   "id": "1ebcbf36",
   "metadata": {},
   "outputs": [
    {
     "data": {
      "text/plain": [
       "{'OVERMIND/GROM': 0,\n",
       " 'MEDUSA/MEDUSALITH AM': 0,\n",
       " 'ARAGORN': 0,\n",
       " 'WOLVERINE/LOGAN ': 0,\n",
       " 'SCARLET WITCH/WANDA ': 0,\n",
       " 'BATTLEAXE/': 1,\n",
       " 'ION/': 1,\n",
       " 'ARCLIGHT/PHILLIPA SO': 1,\n",
       " 'PINK PEARL/': 1}"
      ]
     },
     "execution_count": 22,
     "metadata": {},
     "output_type": "execute_result"
    }
   ],
   "source": [
    "modularity_dict = {}\n",
    "\n",
    "for i,c in enumerate(community.greedy_modularity_communities(sub_graph)):\n",
    "    for name in c:\n",
    "        modularity_dict[name] = i\n",
    "\n",
    "modularity_dict"
   ]
  },
  {
   "cell_type": "code",
   "execution_count": 25,
   "id": "30ca19fa",
   "metadata": {},
   "outputs": [
    {
     "name": "stdout",
     "output_type": "stream",
     "text": [
      "Graph with 5 nodes and 6 edges\n",
      "\n",
      "Network density: 0.6 \n",
      "\n",
      "Graph with 4 nodes and 6 edges\n",
      "\n",
      "Network density: 1.0\n"
     ]
    }
   ],
   "source": [
    "comm = community.greedy_modularity_communities(sub_graph)\n",
    "\n",
    "l = [list(c) for c in comm]\n",
    "k = sub_graph.subgraph(l[0])\n",
    "\n",
    "print(nx.info(k))\n",
    "print(\"\\nNetwork density: {} \\n\".format(nx.density(k)))\n",
    "\n",
    "k2 = sub_graph.subgraph(l[1])\n",
    "\n",
    "print(nx.info(k2))\n",
    "print(\"\\nNetwork density:\", nx.density(k2))"
   ]
  },
  {
   "cell_type": "code",
   "execution_count": 26,
   "id": "4eee8dca",
   "metadata": {},
   "outputs": [
    {
     "name": "stdout",
     "output_type": "stream",
     "text": [
      "Shortest paths:\n",
      "−  SCARLET WITCH/WANDA  :  1\n",
      "−  WOLVERINE/LOGAN  :  2\n",
      "−  MEDUSA/MEDUSALITH AM :  2\n",
      "−  ARAGORN :  2\n",
      "−  OVERMIND/GROM :  2\n",
      "\n",
      "Connected edges:\n",
      "−  SCARLET WITCH/WANDA  :  4\n",
      "−  WOLVERINE/LOGAN  :  3\n",
      "−  MEDUSA/MEDUSALITH AM :  2\n",
      "−  ARAGORN :  2\n",
      "−  OVERMIND/GROM :  2\n",
      "\n",
      "Betweenness:\n",
      "−  SCARLET WITCH/WANDA  :  0.6666666666666666\n",
      "−  WOLVERINE/LOGAN  :  0.0\n",
      "−  MEDUSA/MEDUSALITH AM :  0.0\n",
      "−  ARAGORN :  0.0\n",
      "−  OVERMIND/GROM :  0.0\n"
     ]
    }
   ],
   "source": [
    "print(\"Shortest paths:\")\n",
    "\n",
    "sp = nx.eccentricity(k)\n",
    "\n",
    "for hero in sp:\n",
    "    print (\"− \", hero, \": \", sp[hero])\n",
    "\n",
    "ce = dict(sub_graph.degree(k.nodes()))\n",
    "\n",
    "print(\"\\nConnected edges:\")\n",
    "\n",
    "for hero in ce:\n",
    "    print (\"− \", hero, \": \", ce[hero])\n",
    "\n",
    "print(\"\\nBetweenness:\")\n",
    "\n",
    "bet = nx.betweenness_centrality(k)\n",
    "\n",
    "for hero in bet:\n",
    "    print (\"− \", hero, \": \", bet[hero])"
   ]
  },
  {
   "cell_type": "code",
   "execution_count": null,
   "id": "67f4ece0",
   "metadata": {},
   "outputs": [],
   "source": []
  }
 ],
 "metadata": {
  "kernelspec": {
   "display_name": "Python 3 (ipykernel)",
   "language": "python",
   "name": "python3"
  },
  "language_info": {
   "codemirror_mode": {
    "name": "ipython",
    "version": 3
   },
   "file_extension": ".py",
   "mimetype": "text/x-python",
   "name": "python",
   "nbconvert_exporter": "python",
   "pygments_lexer": "ipython3",
   "version": "3.7.7"
  }
 },
 "nbformat": 4,
 "nbformat_minor": 5
}
