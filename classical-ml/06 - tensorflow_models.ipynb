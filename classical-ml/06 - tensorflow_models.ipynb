{
 "cells": [
  {
   "cell_type": "code",
   "execution_count": 1,
   "metadata": {},
   "outputs": [
    {
     "name": "stdout",
     "output_type": "stream",
     "text": [
      "WARNING:tensorflow:From C:\\ProgramData\\Anaconda3\\lib\\site-packages\\tensorflow\\python\\compat\\v2_compat.py:107: disable_resource_variables (from tensorflow.python.ops.variable_scope) is deprecated and will be removed in a future version.\n",
      "Instructions for updating:\n",
      "non-resource variables are not supported in the long term\n"
     ]
    }
   ],
   "source": [
    "import tensorflow.compat.v1 as tf\n",
    "tf.disable_v2_behavior()\n",
    "\n",
    "import tensorflow as tf\n",
    "from keras.models import Sequential\n",
    "from keras.layers import Dense\n",
    "import numpy as np\n",
    "import pandas as pd\n",
    "import warnings\n",
    "\n",
    "warnings.filterwarnings('ignore')\n",
    "tf.compat.v1.logging.set_verbosity(tf.compat.v1.logging.ERROR)\n",
    "\n",
    "seed = 7\n",
    "np.random.seed(seed)"
   ]
  },
  {
   "cell_type": "code",
   "execution_count": 2,
   "metadata": {},
   "outputs": [],
   "source": [
    "names = ['preg', 'plas', 'pres', 'skin', 'test', 'mass', 'pedi', 'age', 'class']\n",
    "dataset = pd.read_csv('../datasets/pima-indians-diabetes.data.csv', names = names)"
   ]
  },
  {
   "cell_type": "code",
   "execution_count": 3,
   "metadata": {},
   "outputs": [
    {
     "data": {
      "text/html": [
       "<div>\n",
       "<style scoped>\n",
       "    .dataframe tbody tr th:only-of-type {\n",
       "        vertical-align: middle;\n",
       "    }\n",
       "\n",
       "    .dataframe tbody tr th {\n",
       "        vertical-align: top;\n",
       "    }\n",
       "\n",
       "    .dataframe thead th {\n",
       "        text-align: right;\n",
       "    }\n",
       "</style>\n",
       "<table border=\"1\" class=\"dataframe\">\n",
       "  <thead>\n",
       "    <tr style=\"text-align: right;\">\n",
       "      <th></th>\n",
       "      <th>preg</th>\n",
       "      <th>plas</th>\n",
       "      <th>pres</th>\n",
       "      <th>skin</th>\n",
       "      <th>test</th>\n",
       "      <th>mass</th>\n",
       "      <th>pedi</th>\n",
       "      <th>age</th>\n",
       "      <th>class</th>\n",
       "    </tr>\n",
       "  </thead>\n",
       "  <tbody>\n",
       "    <tr>\n",
       "      <th>0</th>\n",
       "      <td>6</td>\n",
       "      <td>148</td>\n",
       "      <td>72</td>\n",
       "      <td>35</td>\n",
       "      <td>0</td>\n",
       "      <td>33.6</td>\n",
       "      <td>0.627</td>\n",
       "      <td>50</td>\n",
       "      <td>1</td>\n",
       "    </tr>\n",
       "    <tr>\n",
       "      <th>1</th>\n",
       "      <td>1</td>\n",
       "      <td>85</td>\n",
       "      <td>66</td>\n",
       "      <td>29</td>\n",
       "      <td>0</td>\n",
       "      <td>26.6</td>\n",
       "      <td>0.351</td>\n",
       "      <td>31</td>\n",
       "      <td>0</td>\n",
       "    </tr>\n",
       "    <tr>\n",
       "      <th>2</th>\n",
       "      <td>8</td>\n",
       "      <td>183</td>\n",
       "      <td>64</td>\n",
       "      <td>0</td>\n",
       "      <td>0</td>\n",
       "      <td>23.3</td>\n",
       "      <td>0.672</td>\n",
       "      <td>32</td>\n",
       "      <td>1</td>\n",
       "    </tr>\n",
       "    <tr>\n",
       "      <th>3</th>\n",
       "      <td>1</td>\n",
       "      <td>89</td>\n",
       "      <td>66</td>\n",
       "      <td>23</td>\n",
       "      <td>94</td>\n",
       "      <td>28.1</td>\n",
       "      <td>0.167</td>\n",
       "      <td>21</td>\n",
       "      <td>0</td>\n",
       "    </tr>\n",
       "    <tr>\n",
       "      <th>4</th>\n",
       "      <td>0</td>\n",
       "      <td>137</td>\n",
       "      <td>40</td>\n",
       "      <td>35</td>\n",
       "      <td>168</td>\n",
       "      <td>43.1</td>\n",
       "      <td>2.288</td>\n",
       "      <td>33</td>\n",
       "      <td>1</td>\n",
       "    </tr>\n",
       "  </tbody>\n",
       "</table>\n",
       "</div>"
      ],
      "text/plain": [
       "   preg  plas  pres  skin  test  mass   pedi  age  class\n",
       "0     6   148    72    35     0  33.6  0.627   50      1\n",
       "1     1    85    66    29     0  26.6  0.351   31      0\n",
       "2     8   183    64     0     0  23.3  0.672   32      1\n",
       "3     1    89    66    23    94  28.1  0.167   21      0\n",
       "4     0   137    40    35   168  43.1  2.288   33      1"
      ]
     },
     "execution_count": 3,
     "metadata": {},
     "output_type": "execute_result"
    }
   ],
   "source": [
    "dataset.head()"
   ]
  },
  {
   "cell_type": "code",
   "execution_count": 4,
   "metadata": {},
   "outputs": [],
   "source": [
    "# split into input (X) and output (Y) variables\n",
    "X = dataset.values[:,0:8]\n",
    "Y = dataset.values[:,8]"
   ]
  },
  {
   "cell_type": "code",
   "execution_count": 5,
   "metadata": {},
   "outputs": [],
   "source": [
    "inputs = len(dataset.columns) - 1\n",
    "\n",
    "# create model\n",
    "model = Sequential()\n",
    "model.add(Dense(12, input_dim = 8, kernel_initializer='random_uniform', activation = 'relu'))\n",
    "model.add(Dense(8, kernel_initializer='random_uniform' , activation = 'relu'))\n",
    "model.add(Dense(1, kernel_initializer='random_uniform' , activation = 'sigmoid'))"
   ]
  },
  {
   "cell_type": "code",
   "execution_count": 6,
   "metadata": {},
   "outputs": [],
   "source": [
    "# compile model\n",
    "model.compile(loss = 'binary_crossentropy', optimizer = 'adam', metrics = ['accuracy'])"
   ]
  },
  {
   "cell_type": "code",
   "execution_count": 7,
   "metadata": {},
   "outputs": [
    {
     "name": "stdout",
     "output_type": "stream",
     "text": [
      "Train on 768 samples\n",
      "Epoch 1/150\n",
      "768/768 [==============================] - 0s 134us/sample - loss: 0.6779 - acc: 0.6510\n",
      "Epoch 2/150\n",
      "768/768 [==============================] - 0s 63us/sample - loss: 0.6595 - acc: 0.6497\n",
      "Epoch 3/150\n",
      "768/768 [==============================] - 0s 64us/sample - loss: 0.6449 - acc: 0.6549\n",
      "Epoch 4/150\n",
      "768/768 [==============================] - 0s 64us/sample - loss: 0.6272 - acc: 0.6602\n",
      "Epoch 5/150\n",
      "768/768 [==============================] - 0s 62us/sample - loss: 0.6123 - acc: 0.6823\n",
      "Epoch 6/150\n",
      "768/768 [==============================] - 0s 62us/sample - loss: 0.6019 - acc: 0.6940\n",
      "Epoch 7/150\n",
      "768/768 [==============================] - 0s 60us/sample - loss: 0.5989 - acc: 0.6823\n",
      "Epoch 8/150\n",
      "768/768 [==============================] - 0s 62us/sample - loss: 0.5929 - acc: 0.6823\n",
      "Epoch 9/150\n",
      "768/768 [==============================] - 0s 62us/sample - loss: 0.5914 - acc: 0.6797\n",
      "Epoch 10/150\n",
      "768/768 [==============================] - 0s 62us/sample - loss: 0.5915 - acc: 0.7083\n",
      "Epoch 11/150\n",
      "768/768 [==============================] - 0s 65us/sample - loss: 0.5900 - acc: 0.6862\n",
      "Epoch 12/150\n",
      "768/768 [==============================] - 0s 61us/sample - loss: 0.5813 - acc: 0.6966\n",
      "Epoch 13/150\n",
      "768/768 [==============================] - 0s 60us/sample - loss: 0.5821 - acc: 0.7005\n",
      "Epoch 14/150\n",
      "768/768 [==============================] - 0s 64us/sample - loss: 0.5828 - acc: 0.6992\n",
      "Epoch 15/150\n",
      "768/768 [==============================] - 0s 61us/sample - loss: 0.5758 - acc: 0.6992\n",
      "Epoch 16/150\n",
      "768/768 [==============================] - 0s 65us/sample - loss: 0.5799 - acc: 0.7005\n",
      "Epoch 17/150\n",
      "768/768 [==============================] - 0s 63us/sample - loss: 0.5748 - acc: 0.7018\n",
      "Epoch 18/150\n",
      "768/768 [==============================] - 0s 62us/sample - loss: 0.5814 - acc: 0.6927\n",
      "Epoch 19/150\n",
      "768/768 [==============================] - 0s 59us/sample - loss: 0.5788 - acc: 0.6992\n",
      "Epoch 20/150\n",
      "768/768 [==============================] - 0s 60us/sample - loss: 0.5724 - acc: 0.7070\n",
      "Epoch 21/150\n",
      "768/768 [==============================] - 0s 60us/sample - loss: 0.5688 - acc: 0.7070\n",
      "Epoch 22/150\n",
      "768/768 [==============================] - 0s 60us/sample - loss: 0.5653 - acc: 0.7109\n",
      "Epoch 23/150\n",
      "768/768 [==============================] - 0s 60us/sample - loss: 0.5687 - acc: 0.7096\n",
      "Epoch 24/150\n",
      "768/768 [==============================] - 0s 61us/sample - loss: 0.5724 - acc: 0.7044\n",
      "Epoch 25/150\n",
      "768/768 [==============================] - 0s 61us/sample - loss: 0.5678 - acc: 0.6979\n",
      "Epoch 26/150\n",
      "768/768 [==============================] - 0s 60us/sample - loss: 0.5592 - acc: 0.7083\n",
      "Epoch 27/150\n",
      "768/768 [==============================] - 0s 60us/sample - loss: 0.5548 - acc: 0.7070\n",
      "Epoch 28/150\n",
      "768/768 [==============================] - 0s 61us/sample - loss: 0.5493 - acc: 0.7331\n",
      "Epoch 29/150\n",
      "768/768 [==============================] - 0s 60us/sample - loss: 0.5656 - acc: 0.7096\n",
      "Epoch 30/150\n",
      "768/768 [==============================] - 0s 79us/sample - loss: 0.5533 - acc: 0.7279\n",
      "Epoch 31/150\n",
      "768/768 [==============================] - 0s 82us/sample - loss: 0.5599 - acc: 0.7109\n",
      "Epoch 32/150\n",
      "768/768 [==============================] - 0s 60us/sample - loss: 0.5486 - acc: 0.7161\n",
      "Epoch 33/150\n",
      "768/768 [==============================] - 0s 59us/sample - loss: 0.5658 - acc: 0.6979\n",
      "Epoch 34/150\n",
      "768/768 [==============================] - 0s 60us/sample - loss: 0.5512 - acc: 0.7214\n",
      "Epoch 35/150\n",
      "768/768 [==============================] - 0s 62us/sample - loss: 0.5459 - acc: 0.7266\n",
      "Epoch 36/150\n",
      "768/768 [==============================] - 0s 61us/sample - loss: 0.5489 - acc: 0.7227\n",
      "Epoch 37/150\n",
      "768/768 [==============================] - 0s 63us/sample - loss: 0.5455 - acc: 0.7305\n",
      "Epoch 38/150\n",
      "768/768 [==============================] - 0s 61us/sample - loss: 0.5513 - acc: 0.7292\n",
      "Epoch 39/150\n",
      "768/768 [==============================] - 0s 61us/sample - loss: 0.5388 - acc: 0.7240\n",
      "Epoch 40/150\n",
      "768/768 [==============================] - 0s 61us/sample - loss: 0.5354 - acc: 0.7214\n",
      "Epoch 41/150\n",
      "768/768 [==============================] - 0s 60us/sample - loss: 0.5360 - acc: 0.7331\n",
      "Epoch 42/150\n",
      "768/768 [==============================] - 0s 60us/sample - loss: 0.5324 - acc: 0.7331\n",
      "Epoch 43/150\n",
      "768/768 [==============================] - 0s 65us/sample - loss: 0.5352 - acc: 0.7331\n",
      "Epoch 44/150\n",
      "768/768 [==============================] - 0s 60us/sample - loss: 0.5394 - acc: 0.7305\n",
      "Epoch 45/150\n",
      "768/768 [==============================] - 0s 60us/sample - loss: 0.5383 - acc: 0.7318\n",
      "Epoch 46/150\n",
      "768/768 [==============================] - 0s 61us/sample - loss: 0.5236 - acc: 0.7396\n",
      "Epoch 47/150\n",
      "768/768 [==============================] - 0s 59us/sample - loss: 0.5232 - acc: 0.7474\n",
      "Epoch 48/150\n",
      "768/768 [==============================] - 0s 61us/sample - loss: 0.5265 - acc: 0.7266\n",
      "Epoch 49/150\n",
      "768/768 [==============================] - 0s 63us/sample - loss: 0.5231 - acc: 0.7435\n",
      "Epoch 50/150\n",
      "768/768 [==============================] - 0s 63us/sample - loss: 0.5248 - acc: 0.7500\n",
      "Epoch 51/150\n",
      "768/768 [==============================] - 0s 61us/sample - loss: 0.5321 - acc: 0.7435\n",
      "Epoch 52/150\n",
      "768/768 [==============================] - 0s 59us/sample - loss: 0.5137 - acc: 0.7539\n",
      "Epoch 53/150\n",
      "768/768 [==============================] - 0s 64us/sample - loss: 0.5250 - acc: 0.7396\n",
      "Epoch 54/150\n",
      "768/768 [==============================] - 0s 62us/sample - loss: 0.5157 - acc: 0.7578\n",
      "Epoch 55/150\n",
      "768/768 [==============================] - 0s 61us/sample - loss: 0.5113 - acc: 0.7474\n",
      "Epoch 56/150\n",
      "768/768 [==============================] - 0s 60us/sample - loss: 0.5124 - acc: 0.7461\n",
      "Epoch 57/150\n",
      "768/768 [==============================] - 0s 60us/sample - loss: 0.5223 - acc: 0.7513\n",
      "Epoch 58/150\n",
      "768/768 [==============================] - 0s 61us/sample - loss: 0.5137 - acc: 0.7461\n",
      "Epoch 59/150\n",
      "768/768 [==============================] - 0s 60us/sample - loss: 0.5094 - acc: 0.7552\n",
      "Epoch 60/150\n",
      "768/768 [==============================] - 0s 57us/sample - loss: 0.5123 - acc: 0.7487\n",
      "Epoch 61/150\n",
      "768/768 [==============================] - 0s 62us/sample - loss: 0.5044 - acc: 0.7617\n",
      "Epoch 62/150\n",
      "768/768 [==============================] - 0s 64us/sample - loss: 0.5037 - acc: 0.7526\n",
      "Epoch 63/150\n",
      "768/768 [==============================] - 0s 61us/sample - loss: 0.5024 - acc: 0.7487\n",
      "Epoch 64/150\n",
      "768/768 [==============================] - 0s 65us/sample - loss: 0.5001 - acc: 0.7682\n",
      "Epoch 65/150\n",
      "768/768 [==============================] - 0s 60us/sample - loss: 0.5078 - acc: 0.7539\n",
      "Epoch 66/150\n",
      "768/768 [==============================] - 0s 60us/sample - loss: 0.4991 - acc: 0.7643\n",
      "Epoch 67/150\n",
      "768/768 [==============================] - 0s 60us/sample - loss: 0.4990 - acc: 0.7604\n",
      "Epoch 68/150\n",
      "768/768 [==============================] - 0s 61us/sample - loss: 0.5025 - acc: 0.7474\n",
      "Epoch 69/150\n",
      "768/768 [==============================] - 0s 60us/sample - loss: 0.4940 - acc: 0.7656\n",
      "Epoch 70/150\n",
      "768/768 [==============================] - 0s 61us/sample - loss: 0.4986 - acc: 0.7539\n",
      "Epoch 71/150\n",
      "768/768 [==============================] - 0s 61us/sample - loss: 0.5012 - acc: 0.7552\n",
      "Epoch 72/150\n",
      "768/768 [==============================] - 0s 61us/sample - loss: 0.4886 - acc: 0.7695\n",
      "Epoch 73/150\n",
      "768/768 [==============================] - 0s 60us/sample - loss: 0.4914 - acc: 0.7695\n",
      "Epoch 74/150\n",
      "768/768 [==============================] - 0s 60us/sample - loss: 0.4910 - acc: 0.7656\n",
      "Epoch 75/150\n",
      "768/768 [==============================] - 0s 61us/sample - loss: 0.4893 - acc: 0.7591\n",
      "Epoch 76/150\n",
      "768/768 [==============================] - 0s 61us/sample - loss: 0.4933 - acc: 0.7617\n",
      "Epoch 77/150\n",
      "768/768 [==============================] - 0s 61us/sample - loss: 0.4922 - acc: 0.7643\n",
      "Epoch 78/150\n",
      "768/768 [==============================] - 0s 60us/sample - loss: 0.4865 - acc: 0.7799\n",
      "Epoch 79/150\n",
      "768/768 [==============================] - 0s 59us/sample - loss: 0.4948 - acc: 0.7552\n",
      "Epoch 80/150\n",
      "768/768 [==============================] - 0s 61us/sample - loss: 0.4857 - acc: 0.7682\n",
      "Epoch 81/150\n",
      "768/768 [==============================] - 0s 63us/sample - loss: 0.4811 - acc: 0.7578\n",
      "Epoch 82/150\n",
      "768/768 [==============================] - 0s 62us/sample - loss: 0.4876 - acc: 0.7656\n",
      "Epoch 83/150\n",
      "768/768 [==============================] - 0s 61us/sample - loss: 0.4810 - acc: 0.7630\n",
      "Epoch 84/150\n",
      "768/768 [==============================] - 0s 61us/sample - loss: 0.4817 - acc: 0.7656\n",
      "Epoch 85/150\n",
      "768/768 [==============================] - 0s 59us/sample - loss: 0.4813 - acc: 0.7708\n",
      "Epoch 86/150\n",
      "768/768 [==============================] - 0s 57us/sample - loss: 0.4832 - acc: 0.7708\n",
      "Epoch 87/150\n",
      "768/768 [==============================] - 0s 61us/sample - loss: 0.4808 - acc: 0.7682\n",
      "Epoch 88/150\n",
      "768/768 [==============================] - 0s 60us/sample - loss: 0.4791 - acc: 0.7682\n",
      "Epoch 89/150\n",
      "768/768 [==============================] - 0s 60us/sample - loss: 0.4779 - acc: 0.7773\n",
      "Epoch 90/150\n",
      "768/768 [==============================] - 0s 60us/sample - loss: 0.4827 - acc: 0.7721\n",
      "Epoch 91/150\n",
      "768/768 [==============================] - 0s 60us/sample - loss: 0.4724 - acc: 0.7839\n",
      "Epoch 92/150\n",
      "768/768 [==============================] - 0s 60us/sample - loss: 0.4747 - acc: 0.7656\n",
      "Epoch 93/150\n",
      "768/768 [==============================] - 0s 62us/sample - loss: 0.4743 - acc: 0.7695\n",
      "Epoch 94/150\n",
      "768/768 [==============================] - 0s 60us/sample - loss: 0.4834 - acc: 0.7747\n",
      "Epoch 95/150\n",
      "768/768 [==============================] - 0s 57us/sample - loss: 0.4784 - acc: 0.7643\n",
      "Epoch 96/150\n",
      "768/768 [==============================] - 0s 59us/sample - loss: 0.4778 - acc: 0.7786\n",
      "Epoch 97/150\n",
      "768/768 [==============================] - 0s 61us/sample - loss: 0.4771 - acc: 0.7656\n",
      "Epoch 98/150\n",
      "768/768 [==============================] - 0s 60us/sample - loss: 0.4765 - acc: 0.7617\n",
      "Epoch 99/150\n",
      "768/768 [==============================] - 0s 68us/sample - loss: 0.4760 - acc: 0.7695\n",
      "Epoch 100/150\n",
      "768/768 [==============================] - 0s 59us/sample - loss: 0.4731 - acc: 0.7852\n",
      "Epoch 101/150\n",
      "768/768 [==============================] - 0s 63us/sample - loss: 0.4756 - acc: 0.7760\n",
      "Epoch 102/150\n",
      "768/768 [==============================] - 0s 59us/sample - loss: 0.4746 - acc: 0.7669\n",
      "Epoch 103/150\n",
      "768/768 [==============================] - 0s 61us/sample - loss: 0.4716 - acc: 0.7734\n",
      "Epoch 104/150\n",
      "768/768 [==============================] - 0s 61us/sample - loss: 0.4641 - acc: 0.7760\n",
      "Epoch 105/150\n",
      "768/768 [==============================] - 0s 60us/sample - loss: 0.4773 - acc: 0.7708\n",
      "Epoch 106/150\n",
      "768/768 [==============================] - 0s 59us/sample - loss: 0.4753 - acc: 0.7643\n",
      "Epoch 107/150\n",
      "768/768 [==============================] - 0s 60us/sample - loss: 0.4684 - acc: 0.7695\n",
      "Epoch 108/150\n",
      "768/768 [==============================] - 0s 59us/sample - loss: 0.4658 - acc: 0.7799\n",
      "Epoch 109/150\n",
      "768/768 [==============================] - 0s 60us/sample - loss: 0.4836 - acc: 0.7643\n",
      "Epoch 110/150\n",
      "768/768 [==============================] - 0s 60us/sample - loss: 0.4739 - acc: 0.7760\n",
      "Epoch 111/150\n",
      "768/768 [==============================] - 0s 59us/sample - loss: 0.4722 - acc: 0.7773\n",
      "Epoch 112/150\n",
      "768/768 [==============================] - 0s 60us/sample - loss: 0.4727 - acc: 0.7721\n",
      "Epoch 113/150\n",
      "768/768 [==============================] - 0s 60us/sample - loss: 0.4614 - acc: 0.7891\n",
      "Epoch 114/150\n",
      "768/768 [==============================] - 0s 59us/sample - loss: 0.4721 - acc: 0.7773\n",
      "Epoch 115/150\n",
      "768/768 [==============================] - 0s 60us/sample - loss: 0.4652 - acc: 0.7799\n",
      "Epoch 116/150\n",
      "768/768 [==============================] - 0s 60us/sample - loss: 0.4687 - acc: 0.7852\n",
      "Epoch 117/150\n",
      "768/768 [==============================] - 0s 61us/sample - loss: 0.4690 - acc: 0.7786\n",
      "Epoch 118/150\n",
      "768/768 [==============================] - 0s 60us/sample - loss: 0.4576 - acc: 0.7799\n",
      "Epoch 119/150\n",
      "768/768 [==============================] - 0s 59us/sample - loss: 0.4597 - acc: 0.7721\n",
      "Epoch 120/150\n",
      "768/768 [==============================] - 0s 61us/sample - loss: 0.4597 - acc: 0.7799\n",
      "Epoch 121/150\n",
      "768/768 [==============================] - 0s 62us/sample - loss: 0.4636 - acc: 0.7747\n",
      "Epoch 122/150\n",
      "768/768 [==============================] - 0s 59us/sample - loss: 0.4692 - acc: 0.7682\n",
      "Epoch 123/150\n",
      "768/768 [==============================] - 0s 60us/sample - loss: 0.4639 - acc: 0.7799\n",
      "Epoch 124/150\n",
      "768/768 [==============================] - 0s 61us/sample - loss: 0.4539 - acc: 0.7826\n",
      "Epoch 125/150\n",
      "768/768 [==============================] - 0s 60us/sample - loss: 0.4582 - acc: 0.7826\n",
      "Epoch 126/150\n",
      "768/768 [==============================] - 0s 62us/sample - loss: 0.4647 - acc: 0.7826\n",
      "Epoch 127/150\n",
      "768/768 [==============================] - 0s 64us/sample - loss: 0.4559 - acc: 0.7865\n",
      "Epoch 128/150\n",
      "768/768 [==============================] - 0s 61us/sample - loss: 0.4555 - acc: 0.7826\n",
      "Epoch 129/150\n",
      "768/768 [==============================] - 0s 60us/sample - loss: 0.4667 - acc: 0.7930\n",
      "Epoch 130/150\n",
      "768/768 [==============================] - 0s 61us/sample - loss: 0.4661 - acc: 0.7812\n",
      "Epoch 131/150\n",
      "768/768 [==============================] - 0s 61us/sample - loss: 0.4504 - acc: 0.7839\n",
      "Epoch 132/150\n",
      "768/768 [==============================] - 0s 61us/sample - loss: 0.4605 - acc: 0.7799\n",
      "Epoch 133/150\n",
      "768/768 [==============================] - 0s 61us/sample - loss: 0.4624 - acc: 0.7747\n",
      "Epoch 134/150\n",
      "768/768 [==============================] - 0s 60us/sample - loss: 0.4519 - acc: 0.7721\n",
      "Epoch 135/150\n",
      "768/768 [==============================] - 0s 59us/sample - loss: 0.4615 - acc: 0.7786\n",
      "Epoch 136/150\n",
      "768/768 [==============================] - 0s 61us/sample - loss: 0.4443 - acc: 0.7956\n",
      "Epoch 137/150\n",
      "768/768 [==============================] - 0s 59us/sample - loss: 0.4598 - acc: 0.7760\n",
      "Epoch 138/150\n",
      "768/768 [==============================] - 0s 65us/sample - loss: 0.4479 - acc: 0.7943\n",
      "Epoch 139/150\n",
      "768/768 [==============================] - 0s 85us/sample - loss: 0.4538 - acc: 0.7734\n",
      "Epoch 140/150\n",
      "768/768 [==============================] - 0s 83us/sample - loss: 0.4502 - acc: 0.7852\n",
      "Epoch 141/150\n",
      "768/768 [==============================] - 0s 62us/sample - loss: 0.4544 - acc: 0.7786\n",
      "Epoch 142/150\n",
      "768/768 [==============================] - 0s 56us/sample - loss: 0.4656 - acc: 0.7812\n",
      "Epoch 143/150\n",
      "768/768 [==============================] - 0s 59us/sample - loss: 0.4681 - acc: 0.7891\n",
      "Epoch 144/150\n",
      "768/768 [==============================] - 0s 63us/sample - loss: 0.4527 - acc: 0.7734\n",
      "Epoch 145/150\n",
      "768/768 [==============================] - 0s 61us/sample - loss: 0.4461 - acc: 0.7878\n",
      "Epoch 146/150\n",
      "768/768 [==============================] - 0s 61us/sample - loss: 0.4569 - acc: 0.7917\n",
      "Epoch 147/150\n",
      "768/768 [==============================] - 0s 61us/sample - loss: 0.4418 - acc: 0.7930\n",
      "Epoch 148/150\n",
      "768/768 [==============================] - 0s 65us/sample - loss: 0.4484 - acc: 0.7956\n",
      "Epoch 149/150\n",
      "768/768 [==============================] - 0s 68us/sample - loss: 0.4444 - acc: 0.7799\n",
      "Epoch 150/150\n",
      "768/768 [==============================] - 0s 64us/sample - loss: 0.4440 - acc: 0.7891\n"
     ]
    },
    {
     "data": {
      "text/plain": [
       "<keras.callbacks.History at 0x22c8f2ffb48>"
      ]
     },
     "execution_count": 7,
     "metadata": {},
     "output_type": "execute_result"
    }
   ],
   "source": [
    "# Fit the model\n",
    "model.fit(X, Y, epochs=150, batch_size=10)"
   ]
  },
  {
   "cell_type": "code",
   "execution_count": 8,
   "metadata": {},
   "outputs": [
    {
     "name": "stdout",
     "output_type": "stream",
     "text": [
      "acc: 78.65%\n"
     ]
    }
   ],
   "source": [
    "# evaluate the model\n",
    "scores = model.evaluate(X, Y)\n",
    "print(\"%s: %.2f%%\" % (model.metrics_names[1], scores[1]*100))"
   ]
  },
  {
   "cell_type": "markdown",
   "metadata": {},
   "source": [
    "## KFold model validation"
   ]
  },
  {
   "cell_type": "code",
   "execution_count": 9,
   "metadata": {},
   "outputs": [],
   "source": [
    "from keras.models import Sequential\n",
    "from keras.layers import Dense\n",
    "from sklearn.model_selection import StratifiedKFold\n",
    "import numpy as np\n",
    "\n",
    "seed = 7\n",
    "np.random.seed(seed)"
   ]
  },
  {
   "cell_type": "code",
   "execution_count": 10,
   "metadata": {},
   "outputs": [],
   "source": [
    "names = ['preg', 'plas', 'pres', 'skin', 'test', 'mass', 'pedi', 'age', 'class']\n",
    "dataset = pd.read_csv('../datasets/pima-indians-diabetes.data.csv', names = names)"
   ]
  },
  {
   "cell_type": "code",
   "execution_count": 11,
   "metadata": {},
   "outputs": [],
   "source": [
    "X = dataset.values[:,0:8]\n",
    "Y = dataset.values[:,8]"
   ]
  },
  {
   "cell_type": "code",
   "execution_count": 12,
   "metadata": {},
   "outputs": [
    {
     "name": "stdout",
     "output_type": "stream",
     "text": [
      "acc: 77.92%\n",
      "acc: 79.22%\n",
      "acc: 75.32%\n",
      "acc: 79.22%\n",
      "acc: 72.73%\n",
      "acc: 64.94%\n",
      "acc: 75.32%\n",
      "acc: 75.32%\n",
      "acc: 75.00%\n",
      "acc: 85.53%\n",
      "76.05% (+/- 5.01%)\n"
     ]
    }
   ],
   "source": [
    "# define 10-fold cross validation test harness\n",
    "kfold = StratifiedKFold(n_splits=10, shuffle=True, random_state=seed)\n",
    "\n",
    "cvscores = []\n",
    "\n",
    "for train, test in kfold.split(X, Y):\n",
    "    \n",
    "    # create model\n",
    "    model = Sequential()\n",
    "    model.add(Dense(12, input_dim = 8, kernel_initializer = 'random_uniform', activation ='relu'))\n",
    "    model.add(Dense(8, kernel_initializer = 'random_uniform', activation = 'relu'))\n",
    "    model.add(Dense(1, kernel_initializer = 'random_uniform', activation = 'sigmoid'))\n",
    "    \n",
    "    # Compile model\n",
    "    model.compile(loss = 'binary_crossentropy', optimizer = 'adam' , metrics = ['acc'])\n",
    "    \n",
    "    # Fit the model\n",
    "    model.fit(X[train], Y[train], epochs=150, batch_size=10, verbose=0)\n",
    "    \n",
    "    # evaluate the model\n",
    "    scores = model.evaluate(X[test], Y[test], verbose=0)\n",
    "    \n",
    "    print(\"%s: %.2f%%\" % (model.metrics_names[1], scores[1]*100))\n",
    "    cvscores.append(scores[1] * 100)\n",
    "    \n",
    "print(\"%.2f%% (+/- %.2f%%)\" % (np.mean(cvscores), np.std(cvscores)))"
   ]
  },
  {
   "cell_type": "markdown",
   "metadata": {},
   "source": [
    "## Evaluate Models with Cross Validation"
   ]
  },
  {
   "cell_type": "code",
   "execution_count": 13,
   "metadata": {},
   "outputs": [],
   "source": [
    "from keras.models import Sequential\n",
    "from keras.layers import Dense\n",
    "from keras.wrappers.scikit_learn import KerasClassifier\n",
    "from sklearn.model_selection import StratifiedKFold\n",
    "from sklearn.model_selection import cross_val_score\n",
    "import numpy as np\n",
    "import pandas as pd\n",
    "\n",
    "seed = 7\n",
    "np.random.seed(seed)"
   ]
  },
  {
   "cell_type": "code",
   "execution_count": 14,
   "metadata": {},
   "outputs": [],
   "source": [
    "names = ['preg', 'plas', 'pres', 'skin', 'test', 'mass', 'pedi', 'age', 'class']\n",
    "dataset = pd.read_csv('../datasets/pima-indians-diabetes.data.csv', names = names)"
   ]
  },
  {
   "cell_type": "code",
   "execution_count": 15,
   "metadata": {},
   "outputs": [
    {
     "data": {
      "text/html": [
       "<div>\n",
       "<style scoped>\n",
       "    .dataframe tbody tr th:only-of-type {\n",
       "        vertical-align: middle;\n",
       "    }\n",
       "\n",
       "    .dataframe tbody tr th {\n",
       "        vertical-align: top;\n",
       "    }\n",
       "\n",
       "    .dataframe thead th {\n",
       "        text-align: right;\n",
       "    }\n",
       "</style>\n",
       "<table border=\"1\" class=\"dataframe\">\n",
       "  <thead>\n",
       "    <tr style=\"text-align: right;\">\n",
       "      <th></th>\n",
       "      <th>preg</th>\n",
       "      <th>plas</th>\n",
       "      <th>pres</th>\n",
       "      <th>skin</th>\n",
       "      <th>test</th>\n",
       "      <th>mass</th>\n",
       "      <th>pedi</th>\n",
       "      <th>age</th>\n",
       "      <th>class</th>\n",
       "    </tr>\n",
       "  </thead>\n",
       "  <tbody>\n",
       "    <tr>\n",
       "      <th>0</th>\n",
       "      <td>6</td>\n",
       "      <td>148</td>\n",
       "      <td>72</td>\n",
       "      <td>35</td>\n",
       "      <td>0</td>\n",
       "      <td>33.6</td>\n",
       "      <td>0.627</td>\n",
       "      <td>50</td>\n",
       "      <td>1</td>\n",
       "    </tr>\n",
       "    <tr>\n",
       "      <th>1</th>\n",
       "      <td>1</td>\n",
       "      <td>85</td>\n",
       "      <td>66</td>\n",
       "      <td>29</td>\n",
       "      <td>0</td>\n",
       "      <td>26.6</td>\n",
       "      <td>0.351</td>\n",
       "      <td>31</td>\n",
       "      <td>0</td>\n",
       "    </tr>\n",
       "    <tr>\n",
       "      <th>2</th>\n",
       "      <td>8</td>\n",
       "      <td>183</td>\n",
       "      <td>64</td>\n",
       "      <td>0</td>\n",
       "      <td>0</td>\n",
       "      <td>23.3</td>\n",
       "      <td>0.672</td>\n",
       "      <td>32</td>\n",
       "      <td>1</td>\n",
       "    </tr>\n",
       "    <tr>\n",
       "      <th>3</th>\n",
       "      <td>1</td>\n",
       "      <td>89</td>\n",
       "      <td>66</td>\n",
       "      <td>23</td>\n",
       "      <td>94</td>\n",
       "      <td>28.1</td>\n",
       "      <td>0.167</td>\n",
       "      <td>21</td>\n",
       "      <td>0</td>\n",
       "    </tr>\n",
       "    <tr>\n",
       "      <th>4</th>\n",
       "      <td>0</td>\n",
       "      <td>137</td>\n",
       "      <td>40</td>\n",
       "      <td>35</td>\n",
       "      <td>168</td>\n",
       "      <td>43.1</td>\n",
       "      <td>2.288</td>\n",
       "      <td>33</td>\n",
       "      <td>1</td>\n",
       "    </tr>\n",
       "  </tbody>\n",
       "</table>\n",
       "</div>"
      ],
      "text/plain": [
       "   preg  plas  pres  skin  test  mass   pedi  age  class\n",
       "0     6   148    72    35     0  33.6  0.627   50      1\n",
       "1     1    85    66    29     0  26.6  0.351   31      0\n",
       "2     8   183    64     0     0  23.3  0.672   32      1\n",
       "3     1    89    66    23    94  28.1  0.167   21      0\n",
       "4     0   137    40    35   168  43.1  2.288   33      1"
      ]
     },
     "execution_count": 15,
     "metadata": {},
     "output_type": "execute_result"
    }
   ],
   "source": [
    "dataset.head()"
   ]
  },
  {
   "cell_type": "code",
   "execution_count": 16,
   "metadata": {},
   "outputs": [],
   "source": [
    "X = dataset.values[:,0:8]\n",
    "Y = dataset.values[:,8]"
   ]
  },
  {
   "cell_type": "code",
   "execution_count": 17,
   "metadata": {},
   "outputs": [],
   "source": [
    "# Function to create model, required for KerasClassifier\n",
    "def create_model():\n",
    "    \n",
    "    # create model\n",
    "    model = Sequential()\n",
    "    model.add(Dense(12, input_dim = 8, kernel_initializer = 'random_uniform', activation ='relu'))\n",
    "    model.add(Dense(8, kernel_initializer = 'random_uniform', activation = 'relu'))\n",
    "    model.add(Dense(1, kernel_initializer = 'random_uniform', activation = 'sigmoid'))\n",
    "    \n",
    "    # Compile model\n",
    "    model.compile(loss = 'binary_crossentropy' , optimizer = 'adam' , metrics = ['accuracy'])\n",
    "    \n",
    "    return model"
   ]
  },
  {
   "cell_type": "code",
   "execution_count": 18,
   "metadata": {},
   "outputs": [
    {
     "name": "stdout",
     "output_type": "stream",
     "text": [
      "0.7461893260478973\n"
     ]
    }
   ],
   "source": [
    "# create model\n",
    "model = KerasClassifier(build_fn = create_model, epochs=150, batch_size = 10, verbose = 0)\n",
    "\n",
    "# evaluate using 10-fold cross validation\n",
    "kfold = StratifiedKFold(n_splits = 10, shuffle = True, random_state = seed)\n",
    "results = cross_val_score(model, X, Y, cv = kfold)\n",
    "\n",
    "print(results.mean())"
   ]
  },
  {
   "cell_type": "code",
   "execution_count": 19,
   "metadata": {},
   "outputs": [
    {
     "data": {
      "text/plain": [
       "array([0.77922076, 0.79220778, 0.76623374, 0.8051948 , 0.67532468,\n",
       "       0.61038959, 0.77922076, 0.6883117 , 0.7631579 , 0.80263156])"
      ]
     },
     "execution_count": 19,
     "metadata": {},
     "output_type": "execute_result"
    }
   ],
   "source": [
    "results"
   ]
  },
  {
   "cell_type": "markdown",
   "metadata": {},
   "source": [
    "## Grid Search Deep Learning Model Parameters"
   ]
  },
  {
   "cell_type": "code",
   "execution_count": 20,
   "metadata": {},
   "outputs": [],
   "source": [
    "# MLP for Pima Indians Dataset with grid search via sklearn\n",
    "from keras.models import Sequential\n",
    "from keras.layers import Dense\n",
    "from keras.wrappers.scikit_learn import KerasClassifier\n",
    "from sklearn.model_selection import GridSearchCV\n",
    "import numpy as np\n",
    "\n",
    "seed = 7\n",
    "np.random.seed(seed)"
   ]
  },
  {
   "cell_type": "code",
   "execution_count": 33,
   "metadata": {},
   "outputs": [],
   "source": [
    "names = ['preg', 'plas', 'pres', 'skin', 'test', 'mass', 'pedi', 'age', 'class']\n",
    "dataset = pd.read_csv('../datasets/pima-indians-diabetes.data.csv', names = names)"
   ]
  },
  {
   "cell_type": "code",
   "execution_count": 34,
   "metadata": {},
   "outputs": [
    {
     "data": {
      "text/html": [
       "<div>\n",
       "<style scoped>\n",
       "    .dataframe tbody tr th:only-of-type {\n",
       "        vertical-align: middle;\n",
       "    }\n",
       "\n",
       "    .dataframe tbody tr th {\n",
       "        vertical-align: top;\n",
       "    }\n",
       "\n",
       "    .dataframe thead th {\n",
       "        text-align: right;\n",
       "    }\n",
       "</style>\n",
       "<table border=\"1\" class=\"dataframe\">\n",
       "  <thead>\n",
       "    <tr style=\"text-align: right;\">\n",
       "      <th></th>\n",
       "      <th>preg</th>\n",
       "      <th>plas</th>\n",
       "      <th>pres</th>\n",
       "      <th>skin</th>\n",
       "      <th>test</th>\n",
       "      <th>mass</th>\n",
       "      <th>pedi</th>\n",
       "      <th>age</th>\n",
       "      <th>class</th>\n",
       "    </tr>\n",
       "  </thead>\n",
       "  <tbody>\n",
       "    <tr>\n",
       "      <th>0</th>\n",
       "      <td>6</td>\n",
       "      <td>148</td>\n",
       "      <td>72</td>\n",
       "      <td>35</td>\n",
       "      <td>0</td>\n",
       "      <td>33.6</td>\n",
       "      <td>0.627</td>\n",
       "      <td>50</td>\n",
       "      <td>1</td>\n",
       "    </tr>\n",
       "    <tr>\n",
       "      <th>1</th>\n",
       "      <td>1</td>\n",
       "      <td>85</td>\n",
       "      <td>66</td>\n",
       "      <td>29</td>\n",
       "      <td>0</td>\n",
       "      <td>26.6</td>\n",
       "      <td>0.351</td>\n",
       "      <td>31</td>\n",
       "      <td>0</td>\n",
       "    </tr>\n",
       "    <tr>\n",
       "      <th>2</th>\n",
       "      <td>8</td>\n",
       "      <td>183</td>\n",
       "      <td>64</td>\n",
       "      <td>0</td>\n",
       "      <td>0</td>\n",
       "      <td>23.3</td>\n",
       "      <td>0.672</td>\n",
       "      <td>32</td>\n",
       "      <td>1</td>\n",
       "    </tr>\n",
       "    <tr>\n",
       "      <th>3</th>\n",
       "      <td>1</td>\n",
       "      <td>89</td>\n",
       "      <td>66</td>\n",
       "      <td>23</td>\n",
       "      <td>94</td>\n",
       "      <td>28.1</td>\n",
       "      <td>0.167</td>\n",
       "      <td>21</td>\n",
       "      <td>0</td>\n",
       "    </tr>\n",
       "    <tr>\n",
       "      <th>4</th>\n",
       "      <td>0</td>\n",
       "      <td>137</td>\n",
       "      <td>40</td>\n",
       "      <td>35</td>\n",
       "      <td>168</td>\n",
       "      <td>43.1</td>\n",
       "      <td>2.288</td>\n",
       "      <td>33</td>\n",
       "      <td>1</td>\n",
       "    </tr>\n",
       "  </tbody>\n",
       "</table>\n",
       "</div>"
      ],
      "text/plain": [
       "   preg  plas  pres  skin  test  mass   pedi  age  class\n",
       "0     6   148    72    35     0  33.6  0.627   50      1\n",
       "1     1    85    66    29     0  26.6  0.351   31      0\n",
       "2     8   183    64     0     0  23.3  0.672   32      1\n",
       "3     1    89    66    23    94  28.1  0.167   21      0\n",
       "4     0   137    40    35   168  43.1  2.288   33      1"
      ]
     },
     "execution_count": 34,
     "metadata": {},
     "output_type": "execute_result"
    }
   ],
   "source": [
    "dataset.head()"
   ]
  },
  {
   "cell_type": "code",
   "execution_count": 35,
   "metadata": {},
   "outputs": [],
   "source": [
    "X = dataset.values[:,0:8]\n",
    "Y = dataset.values[:,8]"
   ]
  },
  {
   "cell_type": "code",
   "execution_count": 32,
   "metadata": {},
   "outputs": [],
   "source": [
    "# Function to create model, required for KerasClassifier\n",
    "def create_model(optimizer = 'rmsprop', init = 'glorot_uniform'):\n",
    "    \n",
    "    # create model\n",
    "    model = Sequential()\n",
    "    model.add(Dense(12, input_dim=8, kernel_initializer = init, activation= 'relu' ))\n",
    "    model.add(Dense(8, kernel_initializer = init, activation = 'relu' ))\n",
    "    model.add(Dense(1, kernel_initializer = init, activation = 'sigmoid' ))\n",
    "    \n",
    "    # Compile model\n",
    "    model.compile(loss = 'binary_crossentropy' , optimizer=optimizer, metrics=['accuracy'])\n",
    "    \n",
    "    return model"
   ]
  },
  {
   "cell_type": "code",
   "execution_count": 38,
   "metadata": {},
   "outputs": [],
   "source": [
    "model = KerasClassifier(build_fn=create_model, verbose=0)\n",
    "\n",
    "# grid search epochs, batch size and optimizer\n",
    "optimizers = ['rmsprop', 'adam']\n",
    "init = ['glorot_uniform', 'normal', 'uniform']\n",
    "epochs = np.array([50, 100, 150])\n",
    "batches = np.array([5, 10, 20])\n",
    "\n",
    "param_grid = dict(optimizer=optimizers, epochs=epochs, batch_size = batches, init = init)\n",
    "\n",
    "#grid = GridSearchCV(estimator = model, param_grid = param_grid)\n",
    "#grid_result = grid.fit(X, Y)"
   ]
  },
  {
   "cell_type": "code",
   "execution_count": 37,
   "metadata": {},
   "outputs": [],
   "source": [
    "# summarize results\n",
    "#print(\"Best: %f using %s\" % (grid_result.best_score_, grid_result.best_params_))\n",
    "#for params, mean_score, scores in grid_result.grid_scores_:\n",
    "#    print(\"%f (%f) with: %r\" % (scores.mean(), scores.std(), params))"
   ]
  },
  {
   "cell_type": "code",
   "execution_count": 42,
   "metadata": {},
   "outputs": [],
   "source": [
    "import numpy as np\n",
    "import pandas as pd\n",
    "from keras.models import Sequential\n",
    "from keras.layers import Dense\n",
    "from keras.wrappers.scikit_learn import KerasClassifier\n",
    "from keras.utils import np_utils\n",
    "from sklearn.model_selection import cross_val_score\n",
    "from sklearn.model_selection import KFold\n",
    "from sklearn.preprocessing import LabelEncoder\n",
    "from sklearn.pipeline import Pipeline\n",
    "\n",
    "seed = 7\n",
    "np.random.seed(seed)"
   ]
  },
  {
   "cell_type": "code",
   "execution_count": 46,
   "metadata": {},
   "outputs": [],
   "source": [
    "# load dataset\n",
    "dataframe = pd.read_csv('../datasets/iris.csv', header = None)\n",
    "dataset = dataframe.values\n",
    "\n",
    "X = dataset[:,0:4].astype(float)\n",
    "Y = dataset[:,4]"
   ]
  },
  {
   "cell_type": "code",
   "execution_count": 50,
   "metadata": {},
   "outputs": [
    {
     "data": {
      "text/plain": [
       "array([[5.1, 3.5, 1.4, 0.2],\n",
       "       [4.9, 3. , 1.4, 0.2],\n",
       "       [4.7, 3.2, 1.3, 0.2],\n",
       "       [4.6, 3.1, 1.5, 0.2],\n",
       "       [5. , 3.6, 1.4, 0.2]])"
      ]
     },
     "execution_count": 50,
     "metadata": {},
     "output_type": "execute_result"
    }
   ],
   "source": [
    "X[:5]"
   ]
  },
  {
   "cell_type": "code",
   "execution_count": 51,
   "metadata": {},
   "outputs": [
    {
     "data": {
      "text/plain": [
       "array(['Iris-setosa', 'Iris-setosa', 'Iris-setosa', 'Iris-setosa',\n",
       "       'Iris-setosa', 'Iris-setosa', 'Iris-setosa', 'Iris-setosa',\n",
       "       'Iris-setosa', 'Iris-setosa'], dtype=object)"
      ]
     },
     "execution_count": 51,
     "metadata": {},
     "output_type": "execute_result"
    }
   ],
   "source": [
    "Y[:10]"
   ]
  },
  {
   "cell_type": "code",
   "execution_count": 52,
   "metadata": {},
   "outputs": [],
   "source": [
    "# encode class values as integers\n",
    "encoder = LabelEncoder()\n",
    "encoder.fit(Y)\n",
    "encoded_Y = encoder.transform(Y)\n",
    "\n",
    "# convert integers to dummy variables (i.e. one hot encoded)\n",
    "dummy_y = np_utils.to_categorical(encoded_Y)"
   ]
  },
  {
   "cell_type": "code",
   "execution_count": 55,
   "metadata": {},
   "outputs": [
    {
     "data": {
      "text/plain": [
       "array([[1., 0., 0.],\n",
       "       [1., 0., 0.],\n",
       "       [1., 0., 0.],\n",
       "       [1., 0., 0.],\n",
       "       [1., 0., 0.]], dtype=float32)"
      ]
     },
     "execution_count": 55,
     "metadata": {},
     "output_type": "execute_result"
    }
   ],
   "source": [
    "dummy_y[:5]"
   ]
  },
  {
   "cell_type": "code",
   "execution_count": 56,
   "metadata": {},
   "outputs": [],
   "source": [
    "# define baseline model\n",
    "def baseline_model():\n",
    "    \n",
    "    # create model\n",
    "    model = Sequential()\n",
    "    model.add(Dense(4, input_dim = 4, kernel_initializer = 'normal', activation = 'relu' ))\n",
    "    model.add(Dense(3, kernel_initializer = 'normal', activation = 'sigmoid' ))\n",
    "    \n",
    "    # Compile model\n",
    "    model.compile(loss = 'categorical_crossentropy' , optimizer = 'adam' , metrics = ['acc'])\n",
    "    \n",
    "    return model"
   ]
  },
  {
   "cell_type": "code",
   "execution_count": 60,
   "metadata": {},
   "outputs": [],
   "source": [
    "estimator = KerasClassifier(build_fn = baseline_model, epochs = 200, batch_size = 5, verbose = 0)\n",
    "\n",
    "kfold = KFold(n_splits=10, shuffle=True, random_state=seed)\n",
    "results = cross_val_score(estimator, X, dummy_y, cv=kfold)"
   ]
  },
  {
   "cell_type": "code",
   "execution_count": 61,
   "metadata": {},
   "outputs": [
    {
     "name": "stdout",
     "output_type": "stream",
     "text": [
      "Accuracy: 96.67% (4.47%)\n"
     ]
    }
   ],
   "source": [
    "print(\"Accuracy: %.2f%% (%.2f%%)\" % (results.mean()*100, results.std()*100))"
   ]
  },
  {
   "cell_type": "markdown",
   "metadata": {},
   "source": [
    "## Binary Classification"
   ]
  },
  {
   "cell_type": "code",
   "execution_count": 91,
   "metadata": {},
   "outputs": [],
   "source": [
    "import numpy as np\n",
    "import pandas as pd\n",
    "from keras.models import Sequential\n",
    "from keras.layers import Dense\n",
    "from keras.wrappers.scikit_learn import KerasClassifier\n",
    "from sklearn.model_selection import cross_val_score\n",
    "from sklearn.preprocessing import LabelEncoder\n",
    "from sklearn.model_selection import StratifiedKFold\n",
    "from sklearn.preprocessing import StandardScaler\n",
    "from sklearn.pipeline import Pipeline\n",
    "\n",
    "seed = 7\n",
    "np.random.seed(seed)"
   ]
  },
  {
   "cell_type": "code",
   "execution_count": 92,
   "metadata": {},
   "outputs": [
    {
     "data": {
      "text/html": [
       "<div>\n",
       "<style scoped>\n",
       "    .dataframe tbody tr th:only-of-type {\n",
       "        vertical-align: middle;\n",
       "    }\n",
       "\n",
       "    .dataframe tbody tr th {\n",
       "        vertical-align: top;\n",
       "    }\n",
       "\n",
       "    .dataframe thead th {\n",
       "        text-align: right;\n",
       "    }\n",
       "</style>\n",
       "<table border=\"1\" class=\"dataframe\">\n",
       "  <thead>\n",
       "    <tr style=\"text-align: right;\">\n",
       "      <th></th>\n",
       "      <th>0</th>\n",
       "      <th>1</th>\n",
       "      <th>2</th>\n",
       "      <th>3</th>\n",
       "      <th>4</th>\n",
       "      <th>5</th>\n",
       "      <th>6</th>\n",
       "      <th>7</th>\n",
       "      <th>8</th>\n",
       "      <th>9</th>\n",
       "      <th>...</th>\n",
       "      <th>51</th>\n",
       "      <th>52</th>\n",
       "      <th>53</th>\n",
       "      <th>54</th>\n",
       "      <th>55</th>\n",
       "      <th>56</th>\n",
       "      <th>57</th>\n",
       "      <th>58</th>\n",
       "      <th>59</th>\n",
       "      <th>60</th>\n",
       "    </tr>\n",
       "  </thead>\n",
       "  <tbody>\n",
       "    <tr>\n",
       "      <th>0</th>\n",
       "      <td>0.0200</td>\n",
       "      <td>0.0371</td>\n",
       "      <td>0.0428</td>\n",
       "      <td>0.0207</td>\n",
       "      <td>0.0954</td>\n",
       "      <td>0.0986</td>\n",
       "      <td>0.1539</td>\n",
       "      <td>0.1601</td>\n",
       "      <td>0.3109</td>\n",
       "      <td>0.2111</td>\n",
       "      <td>...</td>\n",
       "      <td>0.0027</td>\n",
       "      <td>0.0065</td>\n",
       "      <td>0.0159</td>\n",
       "      <td>0.0072</td>\n",
       "      <td>0.0167</td>\n",
       "      <td>0.0180</td>\n",
       "      <td>0.0084</td>\n",
       "      <td>0.0090</td>\n",
       "      <td>0.0032</td>\n",
       "      <td>R</td>\n",
       "    </tr>\n",
       "    <tr>\n",
       "      <th>1</th>\n",
       "      <td>0.0453</td>\n",
       "      <td>0.0523</td>\n",
       "      <td>0.0843</td>\n",
       "      <td>0.0689</td>\n",
       "      <td>0.1183</td>\n",
       "      <td>0.2583</td>\n",
       "      <td>0.2156</td>\n",
       "      <td>0.3481</td>\n",
       "      <td>0.3337</td>\n",
       "      <td>0.2872</td>\n",
       "      <td>...</td>\n",
       "      <td>0.0084</td>\n",
       "      <td>0.0089</td>\n",
       "      <td>0.0048</td>\n",
       "      <td>0.0094</td>\n",
       "      <td>0.0191</td>\n",
       "      <td>0.0140</td>\n",
       "      <td>0.0049</td>\n",
       "      <td>0.0052</td>\n",
       "      <td>0.0044</td>\n",
       "      <td>R</td>\n",
       "    </tr>\n",
       "    <tr>\n",
       "      <th>2</th>\n",
       "      <td>0.0262</td>\n",
       "      <td>0.0582</td>\n",
       "      <td>0.1099</td>\n",
       "      <td>0.1083</td>\n",
       "      <td>0.0974</td>\n",
       "      <td>0.2280</td>\n",
       "      <td>0.2431</td>\n",
       "      <td>0.3771</td>\n",
       "      <td>0.5598</td>\n",
       "      <td>0.6194</td>\n",
       "      <td>...</td>\n",
       "      <td>0.0232</td>\n",
       "      <td>0.0166</td>\n",
       "      <td>0.0095</td>\n",
       "      <td>0.0180</td>\n",
       "      <td>0.0244</td>\n",
       "      <td>0.0316</td>\n",
       "      <td>0.0164</td>\n",
       "      <td>0.0095</td>\n",
       "      <td>0.0078</td>\n",
       "      <td>R</td>\n",
       "    </tr>\n",
       "    <tr>\n",
       "      <th>3</th>\n",
       "      <td>0.0100</td>\n",
       "      <td>0.0171</td>\n",
       "      <td>0.0623</td>\n",
       "      <td>0.0205</td>\n",
       "      <td>0.0205</td>\n",
       "      <td>0.0368</td>\n",
       "      <td>0.1098</td>\n",
       "      <td>0.1276</td>\n",
       "      <td>0.0598</td>\n",
       "      <td>0.1264</td>\n",
       "      <td>...</td>\n",
       "      <td>0.0121</td>\n",
       "      <td>0.0036</td>\n",
       "      <td>0.0150</td>\n",
       "      <td>0.0085</td>\n",
       "      <td>0.0073</td>\n",
       "      <td>0.0050</td>\n",
       "      <td>0.0044</td>\n",
       "      <td>0.0040</td>\n",
       "      <td>0.0117</td>\n",
       "      <td>R</td>\n",
       "    </tr>\n",
       "    <tr>\n",
       "      <th>4</th>\n",
       "      <td>0.0762</td>\n",
       "      <td>0.0666</td>\n",
       "      <td>0.0481</td>\n",
       "      <td>0.0394</td>\n",
       "      <td>0.0590</td>\n",
       "      <td>0.0649</td>\n",
       "      <td>0.1209</td>\n",
       "      <td>0.2467</td>\n",
       "      <td>0.3564</td>\n",
       "      <td>0.4459</td>\n",
       "      <td>...</td>\n",
       "      <td>0.0031</td>\n",
       "      <td>0.0054</td>\n",
       "      <td>0.0105</td>\n",
       "      <td>0.0110</td>\n",
       "      <td>0.0015</td>\n",
       "      <td>0.0072</td>\n",
       "      <td>0.0048</td>\n",
       "      <td>0.0107</td>\n",
       "      <td>0.0094</td>\n",
       "      <td>R</td>\n",
       "    </tr>\n",
       "  </tbody>\n",
       "</table>\n",
       "<p>5 rows × 61 columns</p>\n",
       "</div>"
      ],
      "text/plain": [
       "       0       1       2       3       4       5       6       7       8   \\\n",
       "0  0.0200  0.0371  0.0428  0.0207  0.0954  0.0986  0.1539  0.1601  0.3109   \n",
       "1  0.0453  0.0523  0.0843  0.0689  0.1183  0.2583  0.2156  0.3481  0.3337   \n",
       "2  0.0262  0.0582  0.1099  0.1083  0.0974  0.2280  0.2431  0.3771  0.5598   \n",
       "3  0.0100  0.0171  0.0623  0.0205  0.0205  0.0368  0.1098  0.1276  0.0598   \n",
       "4  0.0762  0.0666  0.0481  0.0394  0.0590  0.0649  0.1209  0.2467  0.3564   \n",
       "\n",
       "       9   ...      51      52      53      54      55      56      57  \\\n",
       "0  0.2111  ...  0.0027  0.0065  0.0159  0.0072  0.0167  0.0180  0.0084   \n",
       "1  0.2872  ...  0.0084  0.0089  0.0048  0.0094  0.0191  0.0140  0.0049   \n",
       "2  0.6194  ...  0.0232  0.0166  0.0095  0.0180  0.0244  0.0316  0.0164   \n",
       "3  0.1264  ...  0.0121  0.0036  0.0150  0.0085  0.0073  0.0050  0.0044   \n",
       "4  0.4459  ...  0.0031  0.0054  0.0105  0.0110  0.0015  0.0072  0.0048   \n",
       "\n",
       "       58      59  60  \n",
       "0  0.0090  0.0032   R  \n",
       "1  0.0052  0.0044   R  \n",
       "2  0.0095  0.0078   R  \n",
       "3  0.0040  0.0117   R  \n",
       "4  0.0107  0.0094   R  \n",
       "\n",
       "[5 rows x 61 columns]"
      ]
     },
     "execution_count": 92,
     "metadata": {},
     "output_type": "execute_result"
    }
   ],
   "source": [
    "dataframe = pd.read_csv(\"../datasets/sonar.csv\", header=None)\n",
    "dataset = dataframe.values\n",
    "\n",
    "dataframe.head()"
   ]
  },
  {
   "cell_type": "code",
   "execution_count": 71,
   "metadata": {},
   "outputs": [],
   "source": [
    "# split into input (X) and output (Y) variables\n",
    "X = dataset[:,0:60].astype(float)\n",
    "Y = dataset[:,60]"
   ]
  },
  {
   "cell_type": "code",
   "execution_count": 73,
   "metadata": {},
   "outputs": [
    {
     "data": {
      "text/plain": [
       "array([[0.02  , 0.0371, 0.0428, 0.0207, 0.0954, 0.0986, 0.1539, 0.1601,\n",
       "        0.3109, 0.2111, 0.1609, 0.1582, 0.2238, 0.0645, 0.066 , 0.2273,\n",
       "        0.31  , 0.2999, 0.5078, 0.4797, 0.5783, 0.5071, 0.4328, 0.555 ,\n",
       "        0.6711, 0.6415, 0.7104, 0.808 , 0.6791, 0.3857, 0.1307, 0.2604,\n",
       "        0.5121, 0.7547, 0.8537, 0.8507, 0.6692, 0.6097, 0.4943, 0.2744,\n",
       "        0.051 , 0.2834, 0.2825, 0.4256, 0.2641, 0.1386, 0.1051, 0.1343,\n",
       "        0.0383, 0.0324, 0.0232, 0.0027, 0.0065, 0.0159, 0.0072, 0.0167,\n",
       "        0.018 , 0.0084, 0.009 , 0.0032]])"
      ]
     },
     "execution_count": 73,
     "metadata": {},
     "output_type": "execute_result"
    }
   ],
   "source": [
    "X[:1]"
   ]
  },
  {
   "cell_type": "code",
   "execution_count": 74,
   "metadata": {},
   "outputs": [
    {
     "data": {
      "text/plain": [
       "array(['R', 'R', 'R', 'R', 'R', 'R', 'R', 'R', 'R', 'R'], dtype=object)"
      ]
     },
     "execution_count": 74,
     "metadata": {},
     "output_type": "execute_result"
    }
   ],
   "source": [
    "Y[:10]"
   ]
  },
  {
   "cell_type": "code",
   "execution_count": 76,
   "metadata": {},
   "outputs": [],
   "source": [
    "# encode class values as integers\n",
    "encoder = LabelEncoder()\n",
    "encoder.fit(Y)\n",
    "\n",
    "encoded_Y = encoder.transform(Y)"
   ]
  },
  {
   "cell_type": "code",
   "execution_count": 78,
   "metadata": {},
   "outputs": [
    {
     "data": {
      "text/plain": [
       "array([1, 1, 1, 1, 1, 1, 1, 1, 1, 1])"
      ]
     },
     "execution_count": 78,
     "metadata": {},
     "output_type": "execute_result"
    }
   ],
   "source": [
    "encoded_Y[:10]"
   ]
  },
  {
   "cell_type": "code",
   "execution_count": 79,
   "metadata": {},
   "outputs": [],
   "source": [
    "# baseline model\n",
    "def create_baseline():\n",
    "    \n",
    "    # create model\n",
    "    model = Sequential()\n",
    "    model.add(Dense(60, input_dim = 60, kernel_initializer = 'normal', activation = 'relu' ))\n",
    "    model.add(Dense(1, kernel_initializer = 'normal', activation= 'sigmoid' ))\n",
    "    \n",
    "    # Compile model\n",
    "    model.compile(loss = 'binary_crossentropy', optimizer= 'adam' , metrics = ['accuracy'])\n",
    "    \n",
    "    return model"
   ]
  },
  {
   "cell_type": "code",
   "execution_count": 82,
   "metadata": {},
   "outputs": [
    {
     "name": "stdout",
     "output_type": "stream",
     "text": [
      "Baseline: 81.21% (8.52%)\n"
     ]
    }
   ],
   "source": [
    "# evaluate model with standardized dataset\n",
    "estimator = KerasClassifier(build_fn = create_baseline, epochs = 100, batch_size = 5, verbose = 0)\n",
    "\n",
    "kfold = StratifiedKFold(n_splits = 10, shuffle=True, random_state=seed)\n",
    "\n",
    "results = cross_val_score(estimator, X, encoded_Y, cv = kfold)\n",
    "\n",
    "print(\"Baseline: %.2f%% (%.2f%%)\" % (results.mean()*100, results.std()*100))"
   ]
  },
  {
   "cell_type": "markdown",
   "metadata": {},
   "source": [
    "## Model Tunning"
   ]
  },
  {
   "cell_type": "code",
   "execution_count": 83,
   "metadata": {},
   "outputs": [
    {
     "name": "stdout",
     "output_type": "stream",
     "text": [
      "Standardized: 85.55% (7.63%)\n"
     ]
    }
   ],
   "source": [
    "estimators = []\n",
    "estimators.append(('standardize' , StandardScaler()))\n",
    "estimators.append(('mlp' , KerasClassifier(build_fn = create_baseline, epochs = 100, batch_size = 5, verbose = 0)))\n",
    "pipeline = Pipeline(estimators)\n",
    "\n",
    "kfold = StratifiedKFold(n_splits = 10, shuffle = True, random_state = seed)\n",
    "results = cross_val_score(pipeline, X, encoded_Y, cv = kfold)\n",
    "\n",
    "print(\"Standardized: %.2f%% (%.2f%%)\" % (results.mean()*100, results.std()*100))"
   ]
  },
  {
   "cell_type": "markdown",
   "metadata": {},
   "source": [
    "## Evaluate a Smaller Network"
   ]
  },
  {
   "cell_type": "code",
   "execution_count": 85,
   "metadata": {},
   "outputs": [],
   "source": [
    "def create_smaller():\n",
    "    \n",
    "    # create model\n",
    "    model = Sequential()\n",
    "    model.add(Dense(30, input_dim = 60, kernel_initializer = 'normal', activation = 'relu' ))\n",
    "    model.add(Dense(1, kernel_initializer = 'normal' , activation = 'sigmoid' ))\n",
    "    \n",
    "    # Compile model\n",
    "    model.compile(loss = 'binary_crossentropy', optimizer = 'adam', metrics = ['accuracy'])\n",
    "    \n",
    "    return model"
   ]
  },
  {
   "cell_type": "code",
   "execution_count": 86,
   "metadata": {},
   "outputs": [
    {
     "name": "stdout",
     "output_type": "stream",
     "text": [
      "Smaller: 84.60% (7.24%)\n"
     ]
    }
   ],
   "source": [
    "estimators = []\n",
    "estimators.append(('standardize' , StandardScaler()))\n",
    "estimators.append(('mlp' , KerasClassifier(build_fn = create_smaller, epochs = 100, batch_size = 5, verbose = 0)))\n",
    "\n",
    "pipeline = Pipeline(estimators)\n",
    "\n",
    "kfold = StratifiedKFold(n_splits = 10, shuffle = True, random_state = seed)\n",
    "results = cross_val_score(pipeline, X, encoded_Y, cv=kfold)\n",
    "\n",
    "print(\"Smaller: %.2f%% (%.2f%%)\" % (results.mean()*100, results.std()*100))"
   ]
  },
  {
   "cell_type": "markdown",
   "metadata": {},
   "source": [
    "## Evaluate a Larger Network"
   ]
  },
  {
   "cell_type": "code",
   "execution_count": 89,
   "metadata": {},
   "outputs": [
    {
     "name": "stdout",
     "output_type": "stream",
     "text": [
      "Larger: 85.07% (5.96%)\n"
     ]
    }
   ],
   "source": [
    "def create_larger():\n",
    "    \n",
    "    # create model\n",
    "    model = Sequential()\n",
    "    model.add(Dense(60, input_dim = 60, kernel_initializer = 'normal' , activation = 'relu'))\n",
    "    model.add(Dense(30, kernel_initializer = 'normal', activation = 'relu'))\n",
    "    model.add(Dense(1, kernel_initializer = 'normal', activation = 'sigmoid'))\n",
    "    \n",
    "    # Compile model\n",
    "    model.compile(loss = 'binary_crossentropy', optimizer = 'adam' , metrics=['accuracy'])\n",
    "    \n",
    "    return model\n",
    "\n",
    "estimators = []\n",
    "estimators.append(('standardize', StandardScaler()))\n",
    "estimators.append(('mlp', KerasClassifier(build_fn = create_larger, epochs = 100, batch_size = 5, verbose = 0)))\n",
    "\n",
    "pipeline = Pipeline(estimators)\n",
    "\n",
    "kfold = StratifiedKFold(n_splits = 10, shuffle = True, random_state = seed)\n",
    "results = cross_val_score(pipeline, X, encoded_Y, cv = kfold)\n",
    "\n",
    "print(\"Larger: %.2f%% (%.2f%%)\" % (results.mean()*100, results.std()*100))"
   ]
  },
  {
   "cell_type": "markdown",
   "metadata": {},
   "source": [
    "## Linear regression"
   ]
  },
  {
   "cell_type": "code",
   "execution_count": 102,
   "metadata": {},
   "outputs": [],
   "source": [
    "import numpy as np\n",
    "import pandas as pd\n",
    "from keras.models import Sequential\n",
    "from keras.layers import Dense\n",
    "from keras.wrappers.scikit_learn import KerasRegressor\n",
    "from sklearn.model_selection import cross_val_score\n",
    "from sklearn.model_selection import KFold\n",
    "from sklearn.preprocessing import StandardScaler\n",
    "from sklearn.pipeline import Pipeline\n",
    "\n",
    "seed = 7\n",
    "np.random.seed(seed)"
   ]
  },
  {
   "cell_type": "code",
   "execution_count": 103,
   "metadata": {},
   "outputs": [],
   "source": [
    "dataframe = pd.read_csv(\"../datasets/housing.csv\", delim_whitespace=True, header=None)\n",
    "dataset = dataframe.values\n",
    "\n",
    "X = dataset[:,0:13]\n",
    "Y = dataset[:,13]"
   ]
  },
  {
   "cell_type": "code",
   "execution_count": 104,
   "metadata": {},
   "outputs": [
    {
     "data": {
      "text/html": [
       "<div>\n",
       "<style scoped>\n",
       "    .dataframe tbody tr th:only-of-type {\n",
       "        vertical-align: middle;\n",
       "    }\n",
       "\n",
       "    .dataframe tbody tr th {\n",
       "        vertical-align: top;\n",
       "    }\n",
       "\n",
       "    .dataframe thead th {\n",
       "        text-align: right;\n",
       "    }\n",
       "</style>\n",
       "<table border=\"1\" class=\"dataframe\">\n",
       "  <thead>\n",
       "    <tr style=\"text-align: right;\">\n",
       "      <th></th>\n",
       "      <th>0</th>\n",
       "      <th>1</th>\n",
       "      <th>2</th>\n",
       "      <th>3</th>\n",
       "      <th>4</th>\n",
       "      <th>5</th>\n",
       "      <th>6</th>\n",
       "      <th>7</th>\n",
       "      <th>8</th>\n",
       "      <th>9</th>\n",
       "      <th>10</th>\n",
       "      <th>11</th>\n",
       "      <th>12</th>\n",
       "      <th>13</th>\n",
       "    </tr>\n",
       "  </thead>\n",
       "  <tbody>\n",
       "    <tr>\n",
       "      <th>0</th>\n",
       "      <td>0.00632</td>\n",
       "      <td>18.0</td>\n",
       "      <td>2.31</td>\n",
       "      <td>0</td>\n",
       "      <td>0.538</td>\n",
       "      <td>6.575</td>\n",
       "      <td>65.2</td>\n",
       "      <td>4.0900</td>\n",
       "      <td>1</td>\n",
       "      <td>296.0</td>\n",
       "      <td>15.3</td>\n",
       "      <td>396.90</td>\n",
       "      <td>4.98</td>\n",
       "      <td>24.0</td>\n",
       "    </tr>\n",
       "    <tr>\n",
       "      <th>1</th>\n",
       "      <td>0.02731</td>\n",
       "      <td>0.0</td>\n",
       "      <td>7.07</td>\n",
       "      <td>0</td>\n",
       "      <td>0.469</td>\n",
       "      <td>6.421</td>\n",
       "      <td>78.9</td>\n",
       "      <td>4.9671</td>\n",
       "      <td>2</td>\n",
       "      <td>242.0</td>\n",
       "      <td>17.8</td>\n",
       "      <td>396.90</td>\n",
       "      <td>9.14</td>\n",
       "      <td>21.6</td>\n",
       "    </tr>\n",
       "    <tr>\n",
       "      <th>2</th>\n",
       "      <td>0.02729</td>\n",
       "      <td>0.0</td>\n",
       "      <td>7.07</td>\n",
       "      <td>0</td>\n",
       "      <td>0.469</td>\n",
       "      <td>7.185</td>\n",
       "      <td>61.1</td>\n",
       "      <td>4.9671</td>\n",
       "      <td>2</td>\n",
       "      <td>242.0</td>\n",
       "      <td>17.8</td>\n",
       "      <td>392.83</td>\n",
       "      <td>4.03</td>\n",
       "      <td>34.7</td>\n",
       "    </tr>\n",
       "    <tr>\n",
       "      <th>3</th>\n",
       "      <td>0.03237</td>\n",
       "      <td>0.0</td>\n",
       "      <td>2.18</td>\n",
       "      <td>0</td>\n",
       "      <td>0.458</td>\n",
       "      <td>6.998</td>\n",
       "      <td>45.8</td>\n",
       "      <td>6.0622</td>\n",
       "      <td>3</td>\n",
       "      <td>222.0</td>\n",
       "      <td>18.7</td>\n",
       "      <td>394.63</td>\n",
       "      <td>2.94</td>\n",
       "      <td>33.4</td>\n",
       "    </tr>\n",
       "    <tr>\n",
       "      <th>4</th>\n",
       "      <td>0.06905</td>\n",
       "      <td>0.0</td>\n",
       "      <td>2.18</td>\n",
       "      <td>0</td>\n",
       "      <td>0.458</td>\n",
       "      <td>7.147</td>\n",
       "      <td>54.2</td>\n",
       "      <td>6.0622</td>\n",
       "      <td>3</td>\n",
       "      <td>222.0</td>\n",
       "      <td>18.7</td>\n",
       "      <td>396.90</td>\n",
       "      <td>5.33</td>\n",
       "      <td>36.2</td>\n",
       "    </tr>\n",
       "  </tbody>\n",
       "</table>\n",
       "</div>"
      ],
      "text/plain": [
       "        0     1     2   3      4      5     6       7   8      9     10  \\\n",
       "0  0.00632  18.0  2.31   0  0.538  6.575  65.2  4.0900   1  296.0  15.3   \n",
       "1  0.02731   0.0  7.07   0  0.469  6.421  78.9  4.9671   2  242.0  17.8   \n",
       "2  0.02729   0.0  7.07   0  0.469  7.185  61.1  4.9671   2  242.0  17.8   \n",
       "3  0.03237   0.0  2.18   0  0.458  6.998  45.8  6.0622   3  222.0  18.7   \n",
       "4  0.06905   0.0  2.18   0  0.458  7.147  54.2  6.0622   3  222.0  18.7   \n",
       "\n",
       "       11    12    13  \n",
       "0  396.90  4.98  24.0  \n",
       "1  396.90  9.14  21.6  \n",
       "2  392.83  4.03  34.7  \n",
       "3  394.63  2.94  33.4  \n",
       "4  396.90  5.33  36.2  "
      ]
     },
     "execution_count": 104,
     "metadata": {},
     "output_type": "execute_result"
    }
   ],
   "source": [
    "dataframe.head()"
   ]
  },
  {
   "cell_type": "code",
   "execution_count": 105,
   "metadata": {},
   "outputs": [],
   "source": [
    "def baseline_model():\n",
    "\n",
    "    # create model\n",
    "    #model = Sequential()\n",
    "    #model.add(Dense(13, input_dim = 13, kernel_initializer = 'normal', activation = 'relu'))\n",
    "    #model.add(Dense(1, kernel_initializer = 'normal'))\n",
    "    \n",
    "    model.add(Dense(13, input_dim = 13, kernel_initializer = 'normal', activation= 'relu'))\n",
    "    model.add(Dense(6, kernel_initializer = 'normal', activation = 'relu' ))\n",
    "    model.add(Dense(1, kernel_initializer = 'normal'))\n",
    "    \n",
    "    # Compile model\n",
    "    model.compile(loss = 'mean_squared_error', optimizer = 'adam')\n",
    "    \n",
    "    return model"
   ]
  },
  {
   "cell_type": "code",
   "execution_count": 108,
   "metadata": {},
   "outputs": [
    {
     "name": "stdout",
     "output_type": "stream",
     "text": [
      "Baseline: -28.63 (13.57) MSE\n"
     ]
    }
   ],
   "source": [
    "estimator = KerasRegressor(build_fn = baseline_model, epochs = 100, batch_size = 5, verbose = 0)\n",
    "\n",
    "kfold = KFold(n_splits = 10, random_state = seed, shuffle = True)\n",
    "results = cross_val_score(estimator, X, Y, cv=kfold)\n",
    "\n",
    "print(\"Baseline: %.2f (%.2f) MSE\" % (results.mean(), results.std()))"
   ]
  },
  {
   "cell_type": "code",
   "execution_count": 109,
   "metadata": {},
   "outputs": [
    {
     "name": "stdout",
     "output_type": "stream",
     "text": [
      "Standardized: -19.15 (6.46) MSE\n"
     ]
    }
   ],
   "source": [
    "estimators = []\n",
    "estimators.append(('standardize', StandardScaler()))\n",
    "estimators.append(('mlp', KerasRegressor(build_fn = baseline_model, epochs = 50, batch_size = 5, verbose = 0)))\n",
    "\n",
    "pipeline = Pipeline(estimators)\n",
    "\n",
    "kfold = KFold(n_splits = 10, random_state = seed, shuffle = True)\n",
    "results = cross_val_score(pipeline, X, Y, cv=kfold)\n",
    "\n",
    "print(\"Standardized: %.2f (%.2f) MSE\" % (results.mean(), results.std()))"
   ]
  },
  {
   "cell_type": "code",
   "execution_count": null,
   "metadata": {},
   "outputs": [],
   "source": []
  }
 ],
 "metadata": {
  "kernelspec": {
   "display_name": "Python 3",
   "language": "python",
   "name": "python3"
  },
  "language_info": {
   "codemirror_mode": {
    "name": "ipython",
    "version": 3
   },
   "file_extension": ".py",
   "mimetype": "text/x-python",
   "name": "python",
   "nbconvert_exporter": "python",
   "pygments_lexer": "ipython3",
   "version": "3.7.7"
  }
 },
 "nbformat": 4,
 "nbformat_minor": 4
}
