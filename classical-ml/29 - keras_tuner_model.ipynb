{
 "cells": [
  {
   "cell_type": "code",
   "execution_count": 1,
   "id": "72b50ff9",
   "metadata": {},
   "outputs": [],
   "source": [
    "#!pip install -U keras-tuner\n",
    "#!pip install -U tensorflow-addons"
   ]
  },
  {
   "cell_type": "code",
   "execution_count": 2,
   "id": "29872142",
   "metadata": {},
   "outputs": [],
   "source": [
    "import numpy as np\n",
    "import pandas as pd\n",
    "from tensorflow.keras.models import Sequential\n",
    "from tensorflow.keras import layers\n",
    "from tensorflow.keras.optimizers import SGD\n",
    "from tensorflow.keras import datasets\n",
    "\n",
    "from keras_tuner import RandomSearch\n",
    "from keras_tuner import Objective\n",
    "\n",
    "import warnings\n",
    "warnings.filterwarnings('ignore')"
   ]
  },
  {
   "cell_type": "code",
   "execution_count": 3,
   "id": "2e700f1f",
   "metadata": {},
   "outputs": [],
   "source": [
    "(X_train_reg, Y_train_reg), (X_test_reg, Y_test_reg) = datasets.boston_housing.load_data()"
   ]
  },
  {
   "cell_type": "code",
   "execution_count": 4,
   "id": "c0bcb429",
   "metadata": {},
   "outputs": [
    {
     "data": {
      "text/plain": [
       "((404, 13), (102, 13), (404,), (102,))"
      ]
     },
     "execution_count": 4,
     "metadata": {},
     "output_type": "execute_result"
    }
   ],
   "source": [
    "X_train_reg.shape, X_test_reg.shape, Y_train_reg.shape, Y_test_reg.shape"
   ]
  },
  {
   "cell_type": "code",
   "execution_count": 7,
   "id": "06da9eca",
   "metadata": {},
   "outputs": [],
   "source": [
    "def build_model(hyperparams):\n",
    "    \n",
    "    model = Sequential()\n",
    "    \n",
    "    model.add(layers.InputLayer(input_shape = (X_train_reg.shape[1],)))\n",
    "    model.add(layers.Dense(units = hyperparams.Int(\"units_l1\", 16, 50, step=16),\n",
    "                           use_bias = hyperparams.Boolean(\"bias_l1\"),\n",
    "                           activation = hyperparams.Choice(\"act_l1\", [\"relu\", \"tanh\"])))\n",
    "    model.add(layers.Dense(units = hyperparams.Int(\"units_l2\", 16, 50, step=16),\n",
    "                           use_bias = hyperparams.Boolean(\"bias_l2\"),\n",
    "                           activation = hyperparams.Choice(\"act_l2\", [\"relu\", \"tanh\"])))\n",
    "    model.add(layers.Dense(1))\n",
    "\n",
    "    optim = hyperparams.Choice(\"optimizer\",[\"sgd\",\"rmsprop\",\"adam\"])\n",
    "    model.compile(optim, loss=\"mean_squared_error\", metrics=[\"mean_squared_error\"])\n",
    "\n",
    "    return model"
   ]
  },
  {
   "cell_type": "code",
   "execution_count": 8,
   "id": "3c0e2b14",
   "metadata": {},
   "outputs": [],
   "source": [
    "tuner1 =  RandomSearch(hypermodel=build_model,\n",
    "                      objective=\"val_mean_squared_error\",\n",
    "                      #objective=Objective(name=\"val_mean_squared_error\",direction=\"min\"),\n",
    "                      max_trials=5,\n",
    "                      #seed=123,\n",
    "                      project_name=\"Regression\",\n",
    "                      overwrite=True\n",
    "                    )"
   ]
  },
  {
   "cell_type": "code",
   "execution_count": 9,
   "id": "77add6aa",
   "metadata": {},
   "outputs": [
    {
     "name": "stdout",
     "output_type": "stream",
     "text": [
      "Trial 5 Complete [00h 00m 01s]\n",
      "val_mean_squared_error: 83.24462127685547\n",
      "\n",
      "Best val_mean_squared_error So Far: 69.69825744628906\n",
      "Total elapsed time: 00h 00m 04s\n",
      "INFO:tensorflow:Oracle triggered exit\n"
     ]
    }
   ],
   "source": [
    "tuner1.search(X_train_reg, Y_train_reg, batch_size=32, epochs=10, validation_data=(X_test_reg, Y_test_reg))"
   ]
  },
  {
   "cell_type": "code",
   "execution_count": 10,
   "id": "aee202be",
   "metadata": {},
   "outputs": [
    {
     "data": {
      "text/plain": [
       "{'units_l1': 32,\n",
       " 'bias_l1': False,\n",
       " 'act_l1': 'tanh',\n",
       " 'units_l2': 48,\n",
       " 'bias_l2': True,\n",
       " 'act_l2': 'relu',\n",
       " 'optimizer': 'adam'}"
      ]
     },
     "execution_count": 10,
     "metadata": {},
     "output_type": "execute_result"
    }
   ],
   "source": [
    "best_params = tuner1.get_best_hyperparameters()\n",
    "\n",
    "best_params[0].values"
   ]
  },
  {
   "cell_type": "code",
   "execution_count": 11,
   "id": "3ec55e9d",
   "metadata": {},
   "outputs": [
    {
     "name": "stdout",
     "output_type": "stream",
     "text": [
      "Model: \"sequential\"\n",
      "_________________________________________________________________\n",
      "Layer (type)                 Output Shape              Param #   \n",
      "=================================================================\n",
      "dense (Dense)                (None, 32)                416       \n",
      "_________________________________________________________________\n",
      "dense_1 (Dense)              (None, 48)                1584      \n",
      "_________________________________________________________________\n",
      "dense_2 (Dense)              (None, 1)                 49        \n",
      "=================================================================\n",
      "Total params: 2,049\n",
      "Trainable params: 2,049\n",
      "Non-trainable params: 0\n",
      "_________________________________________________________________\n"
     ]
    }
   ],
   "source": [
    "best_model = tuner1.get_best_models()[0]\n",
    "\n",
    "best_model.summary()"
   ]
  },
  {
   "cell_type": "code",
   "execution_count": 12,
   "id": "564ba5d7",
   "metadata": {},
   "outputs": [
    {
     "data": {
      "text/plain": [
       "(array([ 7.2, 18.8, 19. , 27. , 22.2]),\n",
       " array([[16.0698  ],\n",
       "        [24.366627],\n",
       "        [24.366615],\n",
       "        [24.366627],\n",
       "        [24.366627]], dtype=float32))"
      ]
     },
     "execution_count": 12,
     "metadata": {},
     "output_type": "execute_result"
    }
   ],
   "source": [
    "Y_test_reg_preds = best_model.predict(X_test_reg)\n",
    "\n",
    "Y_test_reg[:5], Y_test_reg_preds[:5]"
   ]
  },
  {
   "cell_type": "code",
   "execution_count": 13,
   "id": "acf3a21a",
   "metadata": {},
   "outputs": [
    {
     "name": "stdout",
     "output_type": "stream",
     "text": [
      "Results summary\n",
      "Results in .\\Regression\n",
      "Showing 3 best trials\n",
      "<keras_tuner.engine.objective.Objective object at 0x000002BDFB930888>\n",
      "Trial summary\n",
      "Hyperparameters:\n",
      "units_l1: 32\n",
      "bias_l1: False\n",
      "act_l1: tanh\n",
      "units_l2: 48\n",
      "bias_l2: True\n",
      "act_l2: relu\n",
      "optimizer: adam\n",
      "Score: 69.69825744628906\n",
      "Trial summary\n",
      "Hyperparameters:\n",
      "units_l1: 32\n",
      "bias_l1: True\n",
      "act_l1: tanh\n",
      "units_l2: 48\n",
      "bias_l2: True\n",
      "act_l2: tanh\n",
      "optimizer: sgd\n",
      "Score: 77.26081085205078\n",
      "Trial summary\n",
      "Hyperparameters:\n",
      "units_l1: 32\n",
      "bias_l1: True\n",
      "act_l1: relu\n",
      "units_l2: 16\n",
      "bias_l2: True\n",
      "act_l2: tanh\n",
      "optimizer: sgd\n",
      "Score: 83.24462127685547\n"
     ]
    }
   ],
   "source": [
    "tuner1.results_summary(num_trials=3)"
   ]
  },
  {
   "cell_type": "code",
   "execution_count": null,
   "id": "20f7cbfa",
   "metadata": {},
   "outputs": [],
   "source": []
  }
 ],
 "metadata": {
  "kernelspec": {
   "display_name": "Python 3 (ipykernel)",
   "language": "python",
   "name": "python3"
  },
  "language_info": {
   "codemirror_mode": {
    "name": "ipython",
    "version": 3
   },
   "file_extension": ".py",
   "mimetype": "text/x-python",
   "name": "python",
   "nbconvert_exporter": "python",
   "pygments_lexer": "ipython3",
   "version": "3.7.7"
  }
 },
 "nbformat": 4,
 "nbformat_minor": 5
}
