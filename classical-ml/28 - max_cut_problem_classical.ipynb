{
 "cells": [
  {
   "cell_type": "code",
   "execution_count": 1,
   "id": "c88314b1",
   "metadata": {},
   "outputs": [],
   "source": [
    "import pandas as pd\n",
    "import matplotlib.pyplot as plt\n",
    "from random import seed, random\n",
    "\n",
    "import warnings\n",
    "warnings.filterwarnings('ignore')\n",
    "\n",
    "%matplotlib inline\n",
    "\n",
    "plt.rcParams['figure.figsize'] = [10, 7]\n",
    "%config InlineBackend.figure_format = 'retina'"
   ]
  },
  {
   "cell_type": "code",
   "execution_count": 2,
   "id": "206b01da",
   "metadata": {},
   "outputs": [],
   "source": [
    "data = pd.read_csv(\"../datasets/heroes/hero-network.csv\")"
   ]
  },
  {
   "cell_type": "code",
   "execution_count": 3,
   "id": "aae757e3",
   "metadata": {},
   "outputs": [
    {
     "name": "stdout",
     "output_type": "stream",
     "text": [
      "<class 'pandas.core.frame.DataFrame'>\n",
      "RangeIndex: 574467 entries, 0 to 574466\n",
      "Data columns (total 2 columns):\n",
      " #   Column  Non-Null Count   Dtype \n",
      "---  ------  --------------   ----- \n",
      " 0   hero1   574467 non-null  object\n",
      " 1   hero2   574467 non-null  object\n",
      "dtypes: object(2)\n",
      "memory usage: 8.8+ MB\n"
     ]
    }
   ],
   "source": [
    "data.info()"
   ]
  },
  {
   "cell_type": "code",
   "execution_count": 4,
   "id": "c7ce810a",
   "metadata": {},
   "outputs": [
    {
     "data": {
      "text/html": [
       "<div>\n",
       "<style scoped>\n",
       "    .dataframe tbody tr th:only-of-type {\n",
       "        vertical-align: middle;\n",
       "    }\n",
       "\n",
       "    .dataframe tbody tr th {\n",
       "        vertical-align: top;\n",
       "    }\n",
       "\n",
       "    .dataframe thead th {\n",
       "        text-align: right;\n",
       "    }\n",
       "</style>\n",
       "<table border=\"1\" class=\"dataframe\">\n",
       "  <thead>\n",
       "    <tr style=\"text-align: right;\">\n",
       "      <th></th>\n",
       "      <th>hero1</th>\n",
       "      <th>hero2</th>\n",
       "    </tr>\n",
       "  </thead>\n",
       "  <tbody>\n",
       "    <tr>\n",
       "      <th>0</th>\n",
       "      <td>LITTLE, ABNER</td>\n",
       "      <td>PRINCESS ZANDA</td>\n",
       "    </tr>\n",
       "    <tr>\n",
       "      <th>1</th>\n",
       "      <td>LITTLE, ABNER</td>\n",
       "      <td>BLACK PANTHER/T'CHAL</td>\n",
       "    </tr>\n",
       "    <tr>\n",
       "      <th>2</th>\n",
       "      <td>BLACK PANTHER/T'CHAL</td>\n",
       "      <td>PRINCESS ZANDA</td>\n",
       "    </tr>\n",
       "    <tr>\n",
       "      <th>3</th>\n",
       "      <td>LITTLE, ABNER</td>\n",
       "      <td>PRINCESS ZANDA</td>\n",
       "    </tr>\n",
       "    <tr>\n",
       "      <th>4</th>\n",
       "      <td>LITTLE, ABNER</td>\n",
       "      <td>BLACK PANTHER/T'CHAL</td>\n",
       "    </tr>\n",
       "  </tbody>\n",
       "</table>\n",
       "</div>"
      ],
      "text/plain": [
       "                  hero1                 hero2\n",
       "0         LITTLE, ABNER        PRINCESS ZANDA\n",
       "1         LITTLE, ABNER  BLACK PANTHER/T'CHAL\n",
       "2  BLACK PANTHER/T'CHAL        PRINCESS ZANDA\n",
       "3         LITTLE, ABNER        PRINCESS ZANDA\n",
       "4         LITTLE, ABNER  BLACK PANTHER/T'CHAL"
      ]
     },
     "execution_count": 4,
     "metadata": {},
     "output_type": "execute_result"
    }
   ],
   "source": [
    "data.head()"
   ]
  },
  {
   "cell_type": "markdown",
   "id": "8c7f6e6b",
   "metadata": {},
   "source": [
    "## Solving Max-Cut problem classically"
   ]
  },
  {
   "cell_type": "code",
   "execution_count": 5,
   "id": "859a597b",
   "metadata": {},
   "outputs": [],
   "source": [
    "seed(None)"
   ]
  },
  {
   "cell_type": "code",
   "execution_count": 23,
   "id": "37f51baf",
   "metadata": {},
   "outputs": [],
   "source": [
    "heroes = [\n",
    " 'MEDUSA/MEDUSALITH AM',\n",
    " 'ARCLIGHT/PHILLIPA SO',\n",
    " 'WOLVERINE/LOGAN ',\n",
    " 'SCARLET WITCH/WANDA ',\n",
    " 'ARAGORN',\n",
    " 'OVERMIND/GROM',\n",
    " 'BATTLEAXE/',\n",
    " 'ION/',\n",
    " 'PINK PEARL/'\n",
    "]"
   ]
  },
  {
   "cell_type": "code",
   "execution_count": 24,
   "id": "4e3e0c07",
   "metadata": {},
   "outputs": [],
   "source": [
    "relations = data[(data.hero1.isin(heroes)) & (data.hero2.isin(heroes))]"
   ]
  },
  {
   "cell_type": "code",
   "execution_count": 25,
   "id": "6042c8c0",
   "metadata": {},
   "outputs": [],
   "source": [
    "def maxcut(assigned_nodes, edges):\n",
    "    return sum(edges.apply(lambda edge: (1 - assigned_nodes[edge['hero1']] *assigned_nodes[edge['hero2']])/2, axis=1))"
   ]
  },
  {
   "cell_type": "code",
   "execution_count": 26,
   "id": "9998786f",
   "metadata": {},
   "outputs": [
    {
     "data": {
      "text/plain": [
       "{'MEDUSA/MEDUSALITH AM': -1,\n",
       " 'ARCLIGHT/PHILLIPA SO': -1,\n",
       " 'WOLVERINE/LOGAN ': -1,\n",
       " 'SCARLET WITCH/WANDA ': -1,\n",
       " 'ARAGORN': -1,\n",
       " 'OVERMIND/GROM': -1,\n",
       " 'BATTLEAXE/': -1,\n",
       " 'ION/': -1,\n",
       " 'PINK PEARL/': -1}"
      ]
     },
     "execution_count": 26,
     "metadata": {},
     "output_type": "execute_result"
    }
   ],
   "source": [
    "single_group = { name: -1 for name in heroes }\n",
    "single_group"
   ]
  },
  {
   "cell_type": "code",
   "execution_count": 27,
   "id": "a45ee2ab",
   "metadata": {},
   "outputs": [],
   "source": [
    "edges = relations\n",
    "edges['check_string'] = edges.apply(lambda row: ''.join(sorted([row['hero1'], row['hero2']])), axis=1)"
   ]
  },
  {
   "cell_type": "code",
   "execution_count": 28,
   "id": "14ce5d4c",
   "metadata": {},
   "outputs": [
    {
     "name": "stdout",
     "output_type": "stream",
     "text": [
      "<class 'pandas.core.frame.DataFrame'>\n",
      "Int64Index: 13 entries, 895 to 390162\n",
      "Data columns (total 3 columns):\n",
      " #   Column        Non-Null Count  Dtype \n",
      "---  ------        --------------  ----- \n",
      " 0   hero1         13 non-null     object\n",
      " 1   hero2         13 non-null     object\n",
      " 2   check_string  13 non-null     object\n",
      "dtypes: object(3)\n",
      "memory usage: 416.0+ bytes\n"
     ]
    }
   ],
   "source": [
    "edges = edges.drop_duplicates('check_string')\n",
    "edges.info()"
   ]
  },
  {
   "cell_type": "code",
   "execution_count": 37,
   "id": "09b3859c",
   "metadata": {},
   "outputs": [
    {
     "data": {
      "text/html": [
       "<div>\n",
       "<style scoped>\n",
       "    .dataframe tbody tr th:only-of-type {\n",
       "        vertical-align: middle;\n",
       "    }\n",
       "\n",
       "    .dataframe tbody tr th {\n",
       "        vertical-align: top;\n",
       "    }\n",
       "\n",
       "    .dataframe thead th {\n",
       "        text-align: right;\n",
       "    }\n",
       "</style>\n",
       "<table border=\"1\" class=\"dataframe\">\n",
       "  <thead>\n",
       "    <tr style=\"text-align: right;\">\n",
       "      <th></th>\n",
       "      <th>hero1</th>\n",
       "      <th>hero2</th>\n",
       "      <th>check_string</th>\n",
       "    </tr>\n",
       "  </thead>\n",
       "  <tbody>\n",
       "    <tr>\n",
       "      <th>895</th>\n",
       "      <td>SCARLET WITCH/WANDA</td>\n",
       "      <td>WOLVERINE/LOGAN</td>\n",
       "      <td>SCARLET WITCH/WANDA WOLVERINE/LOGAN</td>\n",
       "    </tr>\n",
       "    <tr>\n",
       "      <th>33894</th>\n",
       "      <td>MEDUSA/MEDUSALITH AM</td>\n",
       "      <td>WOLVERINE/LOGAN</td>\n",
       "      <td>MEDUSA/MEDUSALITH AMWOLVERINE/LOGAN</td>\n",
       "    </tr>\n",
       "    <tr>\n",
       "      <th>34882</th>\n",
       "      <td>ARAGORN</td>\n",
       "      <td>SCARLET WITCH/WANDA</td>\n",
       "      <td>ARAGORNSCARLET WITCH/WANDA</td>\n",
       "    </tr>\n",
       "    <tr>\n",
       "      <th>34992</th>\n",
       "      <td>SCARLET WITCH/WANDA</td>\n",
       "      <td>MEDUSA/MEDUSALITH AM</td>\n",
       "      <td>MEDUSA/MEDUSALITH AMSCARLET WITCH/WANDA</td>\n",
       "    </tr>\n",
       "    <tr>\n",
       "      <th>42019</th>\n",
       "      <td>SCARLET WITCH/WANDA</td>\n",
       "      <td>OVERMIND/GROM</td>\n",
       "      <td>OVERMIND/GROMSCARLET WITCH/WANDA</td>\n",
       "    </tr>\n",
       "  </tbody>\n",
       "</table>\n",
       "</div>"
      ],
      "text/plain": [
       "                      hero1                 hero2  \\\n",
       "895    SCARLET WITCH/WANDA       WOLVERINE/LOGAN    \n",
       "33894  MEDUSA/MEDUSALITH AM      WOLVERINE/LOGAN    \n",
       "34882               ARAGORN  SCARLET WITCH/WANDA    \n",
       "34992  SCARLET WITCH/WANDA   MEDUSA/MEDUSALITH AM   \n",
       "42019  SCARLET WITCH/WANDA          OVERMIND/GROM   \n",
       "\n",
       "                                   check_string  \n",
       "895        SCARLET WITCH/WANDA WOLVERINE/LOGAN   \n",
       "33894      MEDUSA/MEDUSALITH AMWOLVERINE/LOGAN   \n",
       "34882               ARAGORNSCARLET WITCH/WANDA   \n",
       "34992  MEDUSA/MEDUSALITH AMSCARLET WITCH/WANDA   \n",
       "42019         OVERMIND/GROMSCARLET WITCH/WANDA   "
      ]
     },
     "execution_count": 37,
     "metadata": {},
     "output_type": "execute_result"
    }
   ],
   "source": [
    "edges.head()"
   ]
  },
  {
   "cell_type": "code",
   "execution_count": 29,
   "id": "aedc5227",
   "metadata": {},
   "outputs": [
    {
     "data": {
      "text/plain": [
       "0.0"
      ]
     },
     "execution_count": 29,
     "metadata": {},
     "output_type": "execute_result"
    }
   ],
   "source": [
    "maxcut(single_group, edges)"
   ]
  },
  {
   "cell_type": "code",
   "execution_count": 30,
   "id": "2a509d2c",
   "metadata": {},
   "outputs": [],
   "source": [
    "random_groups = {name: -1 if round(random()) == 0 else 1 for name in heroes}"
   ]
  },
  {
   "cell_type": "code",
   "execution_count": 31,
   "id": "c522a3d5",
   "metadata": {},
   "outputs": [
    {
     "data": {
      "text/plain": [
       "{'MEDUSA/MEDUSALITH AM': 1,\n",
       " 'ARCLIGHT/PHILLIPA SO': 1,\n",
       " 'WOLVERINE/LOGAN ': 1,\n",
       " 'SCARLET WITCH/WANDA ': 1,\n",
       " 'ARAGORN': -1,\n",
       " 'OVERMIND/GROM': -1,\n",
       " 'BATTLEAXE/': 1,\n",
       " 'ION/': -1,\n",
       " 'PINK PEARL/': -1}"
      ]
     },
     "execution_count": 31,
     "metadata": {},
     "output_type": "execute_result"
    }
   ],
   "source": [
    "random_groups"
   ]
  },
  {
   "cell_type": "code",
   "execution_count": 32,
   "id": "488982c7",
   "metadata": {},
   "outputs": [
    {
     "data": {
      "text/plain": [
       "6.0"
      ]
     },
     "execution_count": 32,
     "metadata": {},
     "output_type": "execute_result"
    }
   ],
   "source": [
    "maxcut(random_groups, edges)"
   ]
  },
  {
   "cell_type": "code",
   "execution_count": 33,
   "id": "1d8a0be3",
   "metadata": {},
   "outputs": [],
   "source": [
    "# brute force\n",
    "def search(group, open_heroes):\n",
    "    best = (0, None)\n",
    "    \n",
    "    if len(open_heroes) > 0:\n",
    "        new = dict(group)\n",
    "        new[open_heroes[0]] = new[open_heroes[0]]*(-1)\n",
    "\n",
    "        result1 = search(group, open_heroes[1:])\n",
    "        result2 = search(new, open_heroes[1:])\n",
    "    \n",
    "        best = result1 if result1[0] > result2[0] else result2\n",
    "    else:\n",
    "        return (maxcut(group, edges), group)\n",
    "    \n",
    "    return best"
   ]
  },
  {
   "cell_type": "code",
   "execution_count": 34,
   "id": "a46a107f",
   "metadata": {},
   "outputs": [
    {
     "data": {
      "text/plain": [
       "(9.0,\n",
       " {'MEDUSA/MEDUSALITH AM': 1,\n",
       "  'ARCLIGHT/PHILLIPA SO': 1,\n",
       "  'WOLVERINE/LOGAN ': -1,\n",
       "  'SCARLET WITCH/WANDA ': 1,\n",
       "  'ARAGORN': 1,\n",
       "  'OVERMIND/GROM': -1,\n",
       "  'BATTLEAXE/': 1,\n",
       "  'ION/': -1,\n",
       "  'PINK PEARL/': -1})"
      ]
     },
     "execution_count": 34,
     "metadata": {},
     "output_type": "execute_result"
    }
   ],
   "source": [
    "search(single_group, heroes)"
   ]
  },
  {
   "cell_type": "code",
   "execution_count": null,
   "id": "e03bb075",
   "metadata": {},
   "outputs": [],
   "source": []
  }
 ],
 "metadata": {
  "kernelspec": {
   "display_name": "Python 3 (ipykernel)",
   "language": "python",
   "name": "python3"
  },
  "language_info": {
   "codemirror_mode": {
    "name": "ipython",
    "version": 3
   },
   "file_extension": ".py",
   "mimetype": "text/x-python",
   "name": "python",
   "nbconvert_exporter": "python",
   "pygments_lexer": "ipython3",
   "version": "3.7.7"
  }
 },
 "nbformat": 4,
 "nbformat_minor": 5
}
