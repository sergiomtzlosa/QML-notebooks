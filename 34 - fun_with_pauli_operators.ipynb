{
 "cells": [
  {
   "cell_type": "markdown",
   "id": "87c2b0a3",
   "metadata": {},
   "source": [
    "# Fun with Pauli Operators 🎉🤡"
   ]
  },
  {
   "cell_type": "markdown",
   "id": "be059f48",
   "metadata": {},
   "source": [
    "<div class=\"alert alert-block alert-info\",text-align:center>\n",
    "<p style=\"text-align: left ;color: navy;\">  \n",
    "<b> Definition: </b>  $~$ Pauli Matrices\n",
    "<br>\n",
    "<br>\n",
    "$$\n",
    "\\sigma_x = \\begin{bmatrix} 0 & 1 \\\\ 1 & 0 \\end{bmatrix}~~~~~,~~~~~~~~~\n",
    "\\sigma_y = \\begin{bmatrix} 0 & -i \\\\ i & 0 \\end{bmatrix}~~~~~,~~~~~~~~~\n",
    "\\sigma_z = \\begin{bmatrix} 1 & 0 \\\\ 0 & -1 \\end{bmatrix} \\, .\n",
    "$$\n",
    "</div>"
   ]
  },
  {
   "cell_type": "markdown",
   "id": "cbecca19",
   "metadata": {},
   "source": [
    "$\\newcommand{\\ket}[1]{\\left|{#1}\\right\\rangle}$\n",
    "$\\newcommand{\\bra}[1]{\\left\\langle{#1}\\right|}$\n",
    "$\\newcommand{\\braket}[2]{\\left\\langle{#1}|#2\\right\\rangle}$\n",
    "$\\newcommand{\\abs}[1]{\\big|{#1}\\big|}$\n",
    "\n",
    "### Definition of spectral decomposition theorem\n",
    "\n",
    "$\n",
    "\\text{Assume the eigenvectors of}\\ \\hat{A}\\ \\text{define a basis}\\ \\beta = {\\ket{\\psi}}\\text{. Then}\\\\\n",
    "\\qquad\\\\\\\\\n",
    "A_{kj} = \\bra{\\psi_k}\\hat{A}\\ket{\\psi_j} = \\alpha_j\\delta_{jk},\\\\\n",
    "\\qquad\\\\\\\\\n",
    "\\text{and}\\\\\n",
    "\\qquad\\\\\\\\\n",
    "\\hat{A} = \\sum\\limits_{kj}A_{kj}\\ket{\\psi_k}\\bra{\\psi_j} = \\sum\\limits_{j}\\alpha_{j}\\ket{\\psi_j}\\bra{\\psi_j}\n",
    "$"
   ]
  },
  {
   "cell_type": "markdown",
   "id": "e7a26a4a",
   "metadata": {},
   "source": [
    "### Eigenvalues and Eigenvectors for Pauli-X"
   ]
  },
  {
   "cell_type": "markdown",
   "id": "76e5a78a",
   "metadata": {},
   "source": [
    "$\n",
    "\\sigma_x = \\begin{bmatrix} 0 & 1 \\\\ 1 & 0 \\end{bmatrix}\n",
    "$"
   ]
  },
  {
   "cell_type": "markdown",
   "id": "1c2effb1",
   "metadata": {},
   "source": [
    "$\n",
    "det(X-\\lambda I) = 0 \\Longrightarrow \\\\\n",
    "\\\\\\quad\\\\\n",
    "det\\Big(\\begin{bmatrix} 0 & 1 \\\\ 1 & 0 \\end{bmatrix} - \\begin{bmatrix} \\lambda & 0 \\\\ 0 & \\lambda \\end{bmatrix}\\Big) = 0 \\Longrightarrow \\\\\n",
    "\\\\\\quad\\\\\n",
    "det\\Big(\\begin{bmatrix} - \\lambda & 1 \\\\ 1 & -\\lambda \\end{bmatrix}\\Big) = (-\\lambda)* (-\\lambda) - (1 * 1) = \\lambda^2 - 1 = 0\\\\\n",
    "\\\\\\quad\\\\\n",
    "eigenvalues = 1, -1\n",
    "$"
   ]
  },
  {
   "cell_type": "markdown",
   "id": "45049927",
   "metadata": {},
   "source": [
    "$\n",
    "A\\ket{v} = \\lambda \\ket{v}\\\\\n",
    "\\\\\\quad\\\\\n",
    "\\begin{bmatrix} 0 & 1 \\\\ 1 & 0 \\end{bmatrix}\\begin{bmatrix} x_1 \\\\ x_2 \\end{bmatrix} = 1 * \\begin{bmatrix} x_1 \\\\ x_2 \\end{bmatrix} \n",
    "\\Longrightarrow\n",
    "\\begin{bmatrix} x_2 \\\\ x_1 \\end{bmatrix} = 1 * \\begin{bmatrix} x_1 \\\\ x_2 \\end{bmatrix}\n",
    "\\Longrightarrow\n",
    "\\left\\{\n",
    "\\begin{matrix}\n",
    "x_2 = x_1\\\\\n",
    "x_1 = x_2\n",
    "\\end{matrix}\n",
    "\\right.\n",
    "\\Longrightarrow\n",
    "\\begin{bmatrix} 1 \\\\ 1 \\end{bmatrix}\n",
    "\\\\\\quad\\\\\n",
    "eigenvector_1 = \\frac{1}{\\sqrt{2}}\\begin{bmatrix} 1 \\\\ 1 \\end{bmatrix}\\ for\\ eigenvalue = 1\\\\\n",
    "\\\\\\quad\\\\\n",
    "\\begin{bmatrix} 0 & 1 \\\\ 1 & 0 \\end{bmatrix}\\begin{bmatrix} x_1 \\\\ x_2 \\end{bmatrix} = -1 * \\begin{bmatrix} x_1 \\\\ x_2 \\end{bmatrix} \n",
    "\\Longrightarrow\n",
    "\\begin{bmatrix} x_2 \\\\ x_1 \\end{bmatrix} = -1 * \\begin{bmatrix} x_1 \\\\ x_2 \\end{bmatrix}\n",
    "\\Longrightarrow\n",
    "\\left\\{\n",
    "\\begin{matrix}\n",
    "x_2 = -x_1\\\\\n",
    "x_1 = -x_2\n",
    "\\end{matrix}\n",
    "\\right.\n",
    "\\Longrightarrow\n",
    "\\begin{bmatrix} 1 \\\\ -1 \\end{bmatrix}\n",
    "\\\\\\quad\\\\\n",
    "\\\\\\quad\\\\\n",
    "eigenvector_2 = \\frac{1}{\\sqrt{2}}\\begin{bmatrix} 1 \\\\ -1 \\end{bmatrix}\\ for\\ eigenvalue = -1\n",
    "$"
   ]
  },
  {
   "cell_type": "markdown",
   "id": "8decf6a5",
   "metadata": {},
   "source": [
    "###  Spectral decomposition in terms of the outer product representation"
   ]
  },
  {
   "cell_type": "markdown",
   "id": "d0a99612",
   "metadata": {},
   "source": [
    "$\n",
    "\\ket{\\psi_1} = \\frac{1}{\\sqrt{2}}\\big(\\ket{0} + \\ket{1}\\big) \\\\\n",
    "\\ket{\\psi_2} = \\frac{1}{\\sqrt{2}}\\big(\\ket{0} - \\ket{1}\\big) \\\\\\\\\n",
    "\\qquad\\\\\n",
    "\\text{Spectral decomposition with outer product:}\\ \\Psi = \\lambda_1\\big(\\ket{\\psi_1}\\bra{\\psi_1}\\big) + \\lambda_2\\big(\\ket{\\psi_2}\\bra{\\psi_2}\\big) \\\\\n",
    "\\\\\\quad\\\\\n",
    "(1)\\big(\\ket{\\psi_1}\\bra{\\psi_1}\\big) + (-1)\\big(\\ket{\\psi_2}\\bra{\\psi_2}\\big) \\Longrightarrow \n",
    "\\frac{1}{2}\\Big(\\big(\\ket{0} + \\ket{1}\\big)\\big(\\bra{0} + \\bra{1}\\big)\\Big) - \\frac{1}{2}\\Big(\\big(\\ket{0} - \\ket{1}\\big)\\big(\\bra{0} - \\bra{1}\\big)\\Big) \\Longrightarrow \\quad\\\\\n",
    "\\frac{1}{2}\\Big[\\big(\\ket{0}\\bra{0} + \\ket{0}\\bra{1} + \\ket{1}\\bra{0} + \\ket{1}\\bra{1}\\big) - \n",
    "\\big(\\ket{0}\\bra{0} - \\ket{0}\\bra{1} - \\ket{1}\\bra{0} + \\ket{1}\\bra{1}\\big)\\Big] \\Longrightarrow \\\\\n",
    "\\frac{1}{2}\\Big[\\big(\\ket{0}\\bra{1} + \\ket{1}\\bra{0}\\big) - \\big(-\\ket{0}\\bra{1} - \\ket{1}\\bra{0}\\big)\\Big] \\Longrightarrow\n",
    "\\frac{1}{2}\\Big[\\ket{0}\\bra{1} + \\ket{1}\\bra{0}\\Big]\n",
    "$"
   ]
  },
  {
   "cell_type": "markdown",
   "id": "7bf327c5",
   "metadata": {},
   "source": [
    "<hr/>"
   ]
  },
  {
   "cell_type": "markdown",
   "id": "c3ce58c4",
   "metadata": {},
   "source": [
    "### Eigenvalues and Eigenvectors for Pauli-Y"
   ]
  },
  {
   "cell_type": "markdown",
   "id": "e2413b90",
   "metadata": {},
   "source": [
    "$\\sigma_y = \\begin{bmatrix} 0 & -i \\\\ i & 0 \\end{bmatrix}$"
   ]
  },
  {
   "cell_type": "markdown",
   "id": "1ad21c5a",
   "metadata": {},
   "source": [
    "$\n",
    "det(Y-\\lambda I) = 0 \\Longrightarrow\n",
    "\\\\\\quad\\\\\n",
    "det\\Big(\\begin{bmatrix} 0 & -i \\\\ i & 0 \\end{bmatrix} - \\begin{bmatrix} \\lambda & 0 \\\\ 0 & \\lambda \\end{bmatrix}\\Big) = 0 \\Longrightarrow\n",
    "\\\\\\quad\\\\\n",
    "det\\Big(\\begin{bmatrix} - \\lambda & -i \\\\ i & -\\lambda \\end{bmatrix}\\Big) = (-\\lambda)* (-\\lambda) - (i * -i) = \\lambda^2 - 1 = 0\n",
    "\\\\\\quad\\\\\n",
    "eigenvalues = 1, -1\n",
    "$"
   ]
  },
  {
   "cell_type": "markdown",
   "id": "d022b253",
   "metadata": {},
   "source": [
    "$\n",
    "A\\ket{v} = \\lambda \\ket{v}\n",
    "\\\\\\quad\\\\\n",
    "\\begin{bmatrix} 0 & -i \\\\ i & 0 \\end{bmatrix}\\begin{bmatrix} x_1 \\\\ x_2 \\end{bmatrix} = 1 * \\begin{bmatrix} x_1 \\\\ x_2 \\end{bmatrix} \n",
    "\\Longrightarrow\n",
    "\\begin{bmatrix} -ix_2 \\\\ ix_1 \\end{bmatrix} = 1 * \\begin{bmatrix} x_1 \\\\ x_2 \\end{bmatrix}\n",
    "\\Longrightarrow\n",
    "\\left\\{\n",
    "\\begin{matrix}\n",
    "-ix_2 = x_1\\\\\n",
    "ix_1 = x_2\n",
    "\\end{matrix}\n",
    "\\right.\n",
    "\\Longrightarrow\n",
    "\\begin{bmatrix} 1 \\\\ i \\end{bmatrix}\n",
    "\\\\\\quad\\\\\n",
    "eigenvector_1 = \\frac{1}{\\sqrt{2}}\\begin{bmatrix} 1 \\\\ i \\end{bmatrix}\\ for\\ eigenvalue = 1\n",
    "\\\\\\quad\\\\\n",
    "\\begin{bmatrix} 0 & -i \\\\ i & 0 \\end{bmatrix}\\begin{bmatrix} x_1 \\\\ x_2 \\end{bmatrix} = -1 * \\begin{bmatrix} x_1 \\\\ x_2 \\end{bmatrix} \n",
    "\\Longrightarrow\n",
    "\\begin{bmatrix} -ix_2 \\\\ ix_1 \\end{bmatrix} = -1 * \\begin{bmatrix} x_1 \\\\ x_2 \\end{bmatrix}\n",
    "\\Longrightarrow\n",
    "\\left\\{\n",
    "\\begin{matrix}\n",
    "-ix_2 = -x_1\\\\\n",
    "ix_1 = -x_2\n",
    "\\end{matrix}\n",
    "\\right.\n",
    "\\Longrightarrow\n",
    "\\begin{bmatrix} 1 \\\\ -i \\end{bmatrix}\n",
    "\\\\\\quad\\\\\n",
    "eigenvector_2 = \\frac{1}{\\sqrt{2}}\\begin{bmatrix} 1 \\\\ -i \\end{bmatrix}\\ for\\ eigenvalue = -1\n",
    "$"
   ]
  },
  {
   "cell_type": "markdown",
   "id": "18d1b21a",
   "metadata": {},
   "source": [
    "###  Spectral decomposition in terms of the outer product representation"
   ]
  },
  {
   "cell_type": "markdown",
   "id": "bb04b379",
   "metadata": {},
   "source": [
    "$\n",
    "\\ket{\\psi_1} = \\frac{1}{\\sqrt{2}}\\big(\\ket{0} + i\\ket{1}\\big) \\\\\n",
    "\\ket{\\psi_2} = \\frac{1}{\\sqrt{2}}\\big(\\ket{0} - i\\ket{1}\\big) \\\\\\\\\n",
    "\\qquad\\\\\n",
    "\\text{Spectral decomposition with outer product:}\\ \\Psi = \\lambda_1\\big(\\ket{\\psi_1}\\bra{\\psi_1}\\big) + \\lambda_2\\big(\\ket{\\psi_2}\\bra{\\psi_2}\\big) \\\\\n",
    "\\\\\\quad\\\\\n",
    "(1)\\big(\\ket{\\psi_1}\\bra{\\psi_1}\\big) + (-1)\\big(\\ket{\\psi_2}\\bra{\\psi_2}\\big) \\Longrightarrow \n",
    "\\frac{1}{2}\\Big(\\big(\\ket{0} + i\\ket{1}\\big)\\big(\\bra{0} + i^*\\bra{1}\\big)\\Big) - \\frac{1}{2}\\Big(\\big(\\ket{0} - i\\ket{1}\\big)\\big(\\bra{0} - i^*\\bra{1}\\big)\\Big) \\Longrightarrow \\quad\\\\\n",
    "\\\\\n",
    "\\frac{1}{2}\\Big[\\big(\\ket{0}\\bra{0} + i^*\\ket{0}\\bra{1} + i\\ket{1}\\bra{0} + \\ket{1}\\bra{1}\\big) - \n",
    "\\big(\\ket{0}\\bra{0} - i^*\\ket{0}\\bra{1} - i\\ket{1}\\bra{0} + \\ket{1}\\bra{1}\\big)\\Big] \\Longrightarrow \\\\\n",
    "\\\\\n",
    "\\frac{1}{2}\\Big[\\big(i^*\\ket{0}\\bra{1} + i\\ket{1}\\bra{0}\\big)\\Big] \\Longrightarrow\n",
    "\\frac{1}{2}\\Big[\\ket{0}\\bra{1} - \\ket{1}\\bra{0}\\Big]\n",
    "$"
   ]
  },
  {
   "cell_type": "markdown",
   "id": "b6305de1",
   "metadata": {},
   "source": [
    "<hr/>"
   ]
  },
  {
   "cell_type": "markdown",
   "id": "fdb5ff43",
   "metadata": {},
   "source": [
    "### Eigenvalues and Eigenvectors for Pauli-Z"
   ]
  },
  {
   "cell_type": "markdown",
   "id": "329398c9",
   "metadata": {},
   "source": [
    "$\\sigma_z = \\begin{bmatrix} 1 & 0 \\\\ 0 & -1 \\end{bmatrix}$"
   ]
  },
  {
   "cell_type": "markdown",
   "id": "3fecfb83",
   "metadata": {},
   "source": [
    "$\n",
    "det(Z-\\lambda I) = 0 \\Longrightarrow\n",
    "\\\\\\quad\\\\\n",
    "det\\Big(\\begin{bmatrix} 1 & 0 \\\\ 0 & -1 \\end{bmatrix} - \\begin{bmatrix} \\lambda & 0 \\\\ 0 & \\lambda \\end{bmatrix}\\Big) = 0 \\Longrightarrow\n",
    "\\\\\\quad\\\\\n",
    "det\\Big(\\begin{bmatrix} 1 - \\lambda & 0 \\\\ 0 & -1 - \\lambda \\end{bmatrix}\\Big) = (1 -\\lambda) * (-1 - \\lambda) = \\lambda^2 - 1 = 0\n",
    "\\\\\\quad\\\\\n",
    "eigenvalues = 1, -1\n",
    "$"
   ]
  },
  {
   "cell_type": "markdown",
   "id": "9e15ef9d",
   "metadata": {},
   "source": [
    "$\n",
    "A\\ket{v} = \\lambda \\ket{v}\n",
    "\\\\\\quad\\\\\n",
    "\\begin{bmatrix} 1 & 0 \\\\ 0 & -1 \\end{bmatrix}\\begin{bmatrix} x_1 \\\\ x_2 \\end{bmatrix} = 1 * \\begin{bmatrix} x_1 \\\\ x_2 \\end{bmatrix} \n",
    "\\Longrightarrow\n",
    "\\begin{bmatrix} x_1 \\\\ -x_2 \\end{bmatrix} = 1 * \\begin{bmatrix} x_1 \\\\ x_2 \\end{bmatrix}\n",
    "\\Longrightarrow\n",
    "\\left\\{\n",
    "\\begin{matrix}\n",
    "x_1 = x_1\\\\\n",
    "-x_2 = x_2\n",
    "\\end{matrix}\n",
    "\\right.\n",
    "\\Longrightarrow\n",
    "\\begin{bmatrix} 1 \\\\ 0 \\end{bmatrix}\n",
    "\\\\\\quad\\\\\n",
    "eigenvector_1 = \\begin{bmatrix} 1 \\\\ 0 \\end{bmatrix}\\ for\\ eigenvalue = 1\n",
    "\\\\\\quad\\\\\n",
    "\\begin{bmatrix} 1 & 0 \\\\ 0 & -1 \\end{bmatrix}\\begin{bmatrix} x_1 \\\\ x_2 \\end{bmatrix} = -1 * \\begin{bmatrix} x_1 \\\\ x_2 \\end{bmatrix} \n",
    "\\Longrightarrow\n",
    "\\begin{bmatrix} x_1 \\\\ -x_2 \\end{bmatrix} = -1 * \\begin{bmatrix} x_1 \\\\ x_2 \\end{bmatrix}\n",
    "\\Longrightarrow\n",
    "\\left\\{\n",
    "\\begin{matrix}\n",
    "x_1 = -x_1\\\\\n",
    "-x_2 = -x_2\n",
    "\\end{matrix}\n",
    "\\right.\n",
    "\\Longrightarrow\n",
    "\\begin{bmatrix} 0 \\\\ 1 \\end{bmatrix}\n",
    "\\\\\\quad\\\\\n",
    "eigenvector_2 = \\begin{bmatrix} 0 \\\\ 1 \\end{bmatrix}\\ for\\ eigenvalue = -1\n",
    "$"
   ]
  },
  {
   "cell_type": "markdown",
   "id": "2bfb6303",
   "metadata": {},
   "source": [
    "###  Spectral decomposition in terms of the outer product representation"
   ]
  },
  {
   "cell_type": "markdown",
   "id": "a0d4d37d",
   "metadata": {},
   "source": [
    "$\n",
    "\\ket{\\psi_1} = \\ket{0} \\\\\n",
    "\\ket{\\psi_2} = \\ket{1} \\\\\\\\\n",
    "\\qquad\\\\\n",
    "\\text{Spectral decomposition with outer product:}\\ \\Psi = \\lambda_1\\big(\\ket{\\psi_1}\\bra{\\psi_1}\\big) + \\lambda_2\\big(\\ket{\\psi_2}\\bra{\\psi_2}\\big) \\\\\n",
    "\\\\\\quad\\\\\n",
    "(1)\\big(\\ket{\\psi_1}\\bra{\\psi_1}\\big) + (-1)\\big(\\ket{\\psi_2}\\bra{\\psi_2}\\big) \\Longrightarrow\n",
    "\\ket{0}\\bra{0}- \\ket{1}\\bra{1}\n",
    "$"
   ]
  },
  {
   "cell_type": "code",
   "execution_count": 1,
   "id": "6a3b8e2d",
   "metadata": {},
   "outputs": [],
   "source": [
    "import math\n",
    "import numpy as np\n",
    "\n",
    "from qiskit.visualization import array_to_latex"
   ]
  },
  {
   "cell_type": "code",
   "execution_count": 2,
   "id": "d3d70f25",
   "metadata": {},
   "outputs": [],
   "source": [
    "X = np.matrix([[0, 1], [1, 0]])\n",
    "Y = np.matrix([[0, -1j], [1j, 0]])\n",
    "Z = np.matrix([[1, 0], [0, -1]])\n",
    "I = np.matrix([[1, 0], [0, 1]])"
   ]
  },
  {
   "cell_type": "code",
   "execution_count": 3,
   "id": "a6c1f91d",
   "metadata": {},
   "outputs": [
    {
     "name": "stdout",
     "output_type": "stream",
     "text": [
      "XX = I\n",
      "[[ True  True]\n",
      " [ True  True]]\n",
      "\n",
      "XY = iZ\n",
      "[[ True  True]\n",
      " [ True  True]]\n",
      "\n",
      "XZ = -iY\n",
      "[[ True  True]\n",
      " [ True  True]]\n",
      "\n",
      "YX = -iZ\n",
      "[[ True  True]\n",
      " [ True  True]]\n",
      "\n",
      "YY = I\n",
      "[[ True  True]\n",
      " [ True  True]]\n",
      "\n",
      "YZ = iX\n",
      "[[ True  True]\n",
      " [ True  True]]\n",
      "\n",
      "ZX = iY\n",
      "[[ True  True]\n",
      " [ True  True]]\n",
      "\n",
      "ZY = -iX\n",
      "[[ True  True]\n",
      " [ True  True]]\n",
      "\n",
      "ZZ = I\n",
      "[[ True  True]\n",
      " [ True  True]]\n",
      "\n"
     ]
    }
   ],
   "source": [
    "XX = (X @ X)\n",
    "print(\"XX = I\")\n",
    "print(XX == I)\n",
    "print(\"\")\n",
    "\n",
    "XY = (X @ Y) \n",
    "print(\"XY = iZ\")\n",
    "print(XY == (1j * Z))\n",
    "print(\"\")\n",
    "\n",
    "XZ = (X @ Z) \n",
    "print(\"XZ = -iY\")\n",
    "print(XZ == (-1j * Y))\n",
    "print(\"\")\n",
    "\n",
    "YX = (Y @ X) \n",
    "print(\"YX = -iZ\")\n",
    "print(YX == (-1j * Z))\n",
    "print(\"\")\n",
    "\n",
    "YY = (Y @ Y) \n",
    "print(\"YY = I\")\n",
    "print(YY == I)\n",
    "print(\"\")\n",
    "\n",
    "YZ = (Y @ Z)\n",
    "print(\"YZ = iX\")\n",
    "print(YZ == (1j * X))\n",
    "print(\"\")\n",
    "\n",
    "ZX = (Z @ X)\n",
    "print(\"ZX = iY\")\n",
    "print(ZX == 1j*Y)\n",
    "print(\"\")\n",
    "\n",
    "ZY = (Z @ Y)\n",
    "print(\"ZY = -iX\")\n",
    "print(ZY == -1j *X)\n",
    "print(\"\")\n",
    "\n",
    "ZZ = (Z @ Z)\n",
    "print(\"ZZ = I\")\n",
    "print(ZZ == I)\n",
    "print(\"\")"
   ]
  },
  {
   "cell_type": "code",
   "execution_count": 4,
   "id": "14588a51",
   "metadata": {},
   "outputs": [
    {
     "name": "stdout",
     "output_type": "stream",
     "text": [
      "Apply the left operator and then the right one (compose): XX -> I\n",
      "Mathematical multiplication: X * X -> I\n",
      "\n",
      "Apply the left operator and then the right one (compose): XY -> -iZ\n",
      "Mathematical multiplication: X * Y -> iZ\n",
      "\n",
      "Apply the left operator and then the right one (compose): XZ -> iY\n",
      "Mathematical multiplication: X * Z -> -iY\n",
      "\n",
      "Apply the left operator and then the right one (compose): YX -> iZ\n",
      "Mathematical multiplication: Y * X -> -iZ\n",
      "\n",
      "Apply the left operator and then the right one (compose): YY -> I\n",
      "Mathematical multiplication: Y * Y -> I\n",
      "\n",
      "Apply the left operator and then the right one (compose): YZ -> -iX\n",
      "Mathematical multiplication: Y * Z -> iX\n",
      "\n",
      "Apply the left operator and then the right one (compose): ZX -> -iY\n",
      "Mathematical multiplication: Z * X -> iY\n",
      "\n",
      "Apply the left operator and then the right one (compose): ZY -> iX\n",
      "Mathematical multiplication: Z * Y -> -iX\n",
      "\n",
      "Apply the left operator and then the right one (compose): ZZ -> I\n",
      "Mathematical multiplication: Z * Z -> I\n",
      "\n"
     ]
    }
   ],
   "source": [
    "from qiskit.quantum_info import Pauli\n",
    "import itertools\n",
    "\n",
    "for a, b in itertools.product('XYZ', repeat=2):\n",
    "    print(f'Apply the left operator and then the right one (compose): {a}{b} -> {Pauli(a) & Pauli(b)}')\n",
    "    print(f'Mathematical multiplication: {a} * {b} -> {Pauli(a) @ Pauli(b)}')\n",
    "    print(\"\")"
   ]
  },
  {
   "cell_type": "markdown",
   "id": "aaf5ba78",
   "metadata": {},
   "source": [
    "<div class=\"alert alert-block alert-success\"> \n",
    "Change basis for Pauli operators: $Z\\to X$, $Z\\to Y$ y $X\\to Y$.\n",
    "</div>"
   ]
  },
  {
   "cell_type": "markdown",
   "id": "32f313ab",
   "metadata": {},
   "source": [
    "Given Pauli operator in Z-basis, to change the basis you just have to find the four matrix elements involving the eigenvectors of the new basis. For instance if we want to obtain the X operator in Z-basis to Y-basis:"
   ]
  },
  {
   "cell_type": "markdown",
   "id": "2e10009c",
   "metadata": {},
   "source": [
    "$$\\sigma_{y,x} = \\bra{y, \\pm}X\\ket{y,\\pm}$$"
   ]
  },
  {
   "cell_type": "markdown",
   "id": "4d701af4",
   "metadata": {},
   "source": [
    "$$Y_{z}-eigenvectors = \\Big\\{\\frac{1}{\\sqrt{2}}\\begin{bmatrix} 1 \\\\ i \\end{bmatrix}, \\frac{1}{\\sqrt{2}}\\begin{bmatrix} 1 \\\\ -i \\end{bmatrix}\\Big\\} \\Longrightarrow\n",
    "\\frac{1}{\\sqrt{2}} \\begin{bmatrix} 1 & 1 \\\\ i & -i \\end{bmatrix}\n",
    "$$"
   ]
  },
  {
   "cell_type": "markdown",
   "id": "63e9ad40",
   "metadata": {},
   "source": [
    "$$\n",
    "\\sigma_{y,x} = \\frac{1}{\\sqrt{2}} \\begin{bmatrix} 1 & -i \\\\ 1 & i \\end{bmatrix}\n",
    "\\begin{bmatrix} 0 & 1 \\\\ 1 & 0 \\end{bmatrix} \n",
    "\\frac{1}{\\sqrt{2}} \\begin{bmatrix} 1 & 1 \\\\ i & -i \\end{bmatrix} = \n",
    "\\begin{bmatrix} 0 & -i \\\\ i & 0 \\end{bmatrix}\n",
    "$$"
   ]
  },
  {
   "cell_type": "markdown",
   "id": "9d6fc219",
   "metadata": {},
   "source": [
    "### Change Pauli operators from Z-basis to X-basis"
   ]
  },
  {
   "cell_type": "code",
   "execution_count": 5,
   "id": "bffbc2f4",
   "metadata": {},
   "outputs": [
    {
     "data": {
      "text/latex": [
       "$$\n",
       "eigenvecs_{X_z} = \n",
       "\\begin{bmatrix}\n",
       "\\tfrac{1}{\\sqrt{2}} & \\tfrac{1}{\\sqrt{2}}  \\\\\n",
       " \\tfrac{1}{\\sqrt{2}} & -\\tfrac{1}{\\sqrt{2}}  \\\\\n",
       " \\end{bmatrix}\n",
       "$$"
      ],
      "text/plain": [
       "<IPython.core.display.Latex object>"
      ]
     },
     "execution_count": 5,
     "metadata": {},
     "output_type": "execute_result"
    }
   ],
   "source": [
    "eigen_vectors_x = 1/math.sqrt(2) * np.matrix([[1, 1], [1, -1]]).T # join both eigenvectors of X into a matrix\n",
    "\n",
    "array_to_latex(eigen_vectors_x, prefix = \"eigenvecs_{X_z} = \", precision = 5)"
   ]
  },
  {
   "cell_type": "code",
   "execution_count": 6,
   "id": "ab930994",
   "metadata": {},
   "outputs": [
    {
     "data": {
      "text/latex": [
       "$$\n",
       "\\sigma_{x,x} = \n",
       "\\begin{bmatrix}\n",
       "1 & 0  \\\\\n",
       " 0 & -1  \\\\\n",
       " \\end{bmatrix}\n",
       "$$"
      ],
      "text/plain": [
       "<IPython.core.display.Latex object>"
      ]
     },
     "execution_count": 6,
     "metadata": {},
     "output_type": "execute_result"
    }
   ],
   "source": [
    "X_X = eigen_vectors_x.conj().T @ X @ eigen_vectors_x\n",
    "array_to_latex(X_X, prefix = \"\\\\sigma_{x,x} = \")"
   ]
  },
  {
   "cell_type": "code",
   "execution_count": 7,
   "id": "09a7b232",
   "metadata": {},
   "outputs": [
    {
     "data": {
      "text/latex": [
       "$$\n",
       "\\sigma_{x,y} = \n",
       "\\begin{bmatrix}\n",
       "0 & i  \\\\\n",
       " -i & 0  \\\\\n",
       " \\end{bmatrix}\n",
       "$$"
      ],
      "text/plain": [
       "<IPython.core.display.Latex object>"
      ]
     },
     "execution_count": 7,
     "metadata": {},
     "output_type": "execute_result"
    }
   ],
   "source": [
    "X_Y = eigen_vectors_x.conj().T @ Y @ eigen_vectors_x\n",
    "array_to_latex(X_Y, prefix = \"\\\\sigma_{x,y} = \")"
   ]
  },
  {
   "cell_type": "code",
   "execution_count": 8,
   "id": "a114f24c",
   "metadata": {},
   "outputs": [
    {
     "data": {
      "text/latex": [
       "$$\n",
       "\\sigma_{x,z} = \n",
       "\\begin{bmatrix}\n",
       "0 & 1  \\\\\n",
       " 1 & 0  \\\\\n",
       " \\end{bmatrix}\n",
       "$$"
      ],
      "text/plain": [
       "<IPython.core.display.Latex object>"
      ]
     },
     "execution_count": 8,
     "metadata": {},
     "output_type": "execute_result"
    }
   ],
   "source": [
    "X_Z = eigen_vectors_x.conj().T @ Z @ eigen_vectors_x\n",
    "array_to_latex(X_Z, prefix = \"\\\\sigma_{x,z} = \")"
   ]
  },
  {
   "cell_type": "markdown",
   "id": "fd71cefa",
   "metadata": {},
   "source": [
    "#### Pauli operators from Z-basis to X-basis"
   ]
  },
  {
   "cell_type": "markdown",
   "id": "a80f8f47",
   "metadata": {},
   "source": [
    " $$\n",
    " \\sigma_{x,x} = \\begin{bmatrix} 1 & 0 \\\\ 0 & -1 \\end{bmatrix}, ~~~\n",
    " \\sigma_{x,y} = \\begin{bmatrix} 0 & i \\\\ -i & 0 \\end{bmatrix}, ~~~\n",
    " \\sigma_{x,z} = \\begin{bmatrix} 0 & 1 \\\\ 1 & 0 \\end{bmatrix}, \n",
    " $$"
   ]
  },
  {
   "cell_type": "markdown",
   "id": "c2215ae9",
   "metadata": {},
   "source": [
    "### Change Pauli operators from Z-basis to Y-basis"
   ]
  },
  {
   "cell_type": "code",
   "execution_count": 9,
   "id": "12c88f6f",
   "metadata": {},
   "outputs": [
    {
     "data": {
      "text/latex": [
       "$$\n",
       "eigenvecs_{Y_z} = \n",
       "\\begin{bmatrix}\n",
       "\\tfrac{1}{\\sqrt{2}} & \\tfrac{1}{\\sqrt{2}}  \\\\\n",
       " \\tfrac{1}{\\sqrt{2}}i & -\\tfrac{1}{\\sqrt{2}}i  \\\\\n",
       " \\end{bmatrix}\n",
       "$$"
      ],
      "text/plain": [
       "<IPython.core.display.Latex object>"
      ]
     },
     "execution_count": 9,
     "metadata": {},
     "output_type": "execute_result"
    }
   ],
   "source": [
    "eigen_vectors_y = 1/math.sqrt(2) * np.matrix([[1, 1j], [1, -1j]]).T # join both eigenvectors of Y into a matrix\n",
    "\n",
    "array_to_latex(eigen_vectors_y, prefix = \"eigenvecs_{Y_z} = \", precision = 5)"
   ]
  },
  {
   "cell_type": "code",
   "execution_count": 10,
   "id": "8645335b",
   "metadata": {},
   "outputs": [
    {
     "data": {
      "text/latex": [
       "$$\n",
       "\\sigma_{y,x} = \n",
       "\\begin{bmatrix}\n",
       "0 & -i  \\\\\n",
       " i & 0  \\\\\n",
       " \\end{bmatrix}\n",
       "$$"
      ],
      "text/plain": [
       "<IPython.core.display.Latex object>"
      ]
     },
     "execution_count": 10,
     "metadata": {},
     "output_type": "execute_result"
    }
   ],
   "source": [
    "Y_X = eigen_vectors_y.conj().T @ X @ eigen_vectors_y\n",
    "array_to_latex(Y_X, prefix = \"\\\\sigma_{y,x} = \")"
   ]
  },
  {
   "cell_type": "code",
   "execution_count": 11,
   "id": "b3aeae1e",
   "metadata": {},
   "outputs": [
    {
     "data": {
      "text/latex": [
       "$$\n",
       "\\sigma_{y,y} = \n",
       "\\begin{bmatrix}\n",
       "1 & 0  \\\\\n",
       " 0 & -1  \\\\\n",
       " \\end{bmatrix}\n",
       "$$"
      ],
      "text/plain": [
       "<IPython.core.display.Latex object>"
      ]
     },
     "execution_count": 11,
     "metadata": {},
     "output_type": "execute_result"
    }
   ],
   "source": [
    "Y_Y = eigen_vectors_y.conj().T @ Y @ eigen_vectors_y\n",
    "array_to_latex(Y_Y, prefix = \"\\sigma_{y,y} = \")"
   ]
  },
  {
   "cell_type": "code",
   "execution_count": 12,
   "id": "21d35ce4",
   "metadata": {},
   "outputs": [
    {
     "data": {
      "text/latex": [
       "$$\n",
       "\\sigma_{y,z} = \n",
       "\\begin{bmatrix}\n",
       "0 & 1  \\\\\n",
       " 1 & 0  \\\\\n",
       " \\end{bmatrix}\n",
       "$$"
      ],
      "text/plain": [
       "<IPython.core.display.Latex object>"
      ]
     },
     "execution_count": 12,
     "metadata": {},
     "output_type": "execute_result"
    }
   ],
   "source": [
    "Z_Y = eigen_vectors_y.getH() @ Z @ eigen_vectors_y\n",
    "array_to_latex(Z_Y, prefix = \"\\sigma_{y,z} = \")"
   ]
  },
  {
   "cell_type": "markdown",
   "id": "13676bbd",
   "metadata": {},
   "source": [
    "#### Pauli operators from Z-basis to base Y-basis"
   ]
  },
  {
   "cell_type": "markdown",
   "id": "5e886ebf",
   "metadata": {},
   "source": [
    " $$\n",
    " \\sigma_{y,x} = \\begin{bmatrix} 0 & -i \\\\ i & 0 \\end{bmatrix}, ~~~\n",
    " \\sigma_{y,y} = \\begin{bmatrix} 1 & 0 \\\\ 0 & -1 \\end{bmatrix}, ~~~\n",
    " \\sigma_{y,z} = \\begin{bmatrix} 0 & 1 \\\\ 1 & 0 \\end{bmatrix}, \n",
    " $$"
   ]
  },
  {
   "cell_type": "markdown",
   "id": "a60ad396",
   "metadata": {},
   "source": [
    "### Change Pauli operators from X-basis to Y-basis"
   ]
  },
  {
   "cell_type": "markdown",
   "id": "3d523700",
   "metadata": {},
   "source": [
    "Remember, Pauli operators in X-basis:"
   ]
  },
  {
   "cell_type": "markdown",
   "id": "50879bca",
   "metadata": {},
   "source": [
    " $$\n",
    " \\sigma_{x,x} = \\begin{bmatrix} 1 & 0 \\\\ 0 & -1 \\end{bmatrix}, ~~~\n",
    " \\sigma_{x,y} = \\begin{bmatrix} 0 & i \\\\ -i & 0 \\end{bmatrix}, ~~~\n",
    " \\sigma_{x,z} = \\begin{bmatrix} 0 & 1 \\\\ 1 & 0 \\end{bmatrix}, \n",
    " $$"
   ]
  },
  {
   "cell_type": "markdown",
   "id": "b15f18ba",
   "metadata": {},
   "source": [
    "##### Pauli operators in X-basis"
   ]
  },
  {
   "cell_type": "code",
   "execution_count": 13,
   "id": "a6f9b54b",
   "metadata": {},
   "outputs": [],
   "source": [
    "xbx = np.matrix([[1, 0], [0, -1]])\n",
    "ybx = np.matrix([[0, 1j], [-1j, 0]])\n",
    "zbx = np.matrix([[0, 1], [1, 0]])"
   ]
  },
  {
   "cell_type": "code",
   "execution_count": 14,
   "id": "519c50e8",
   "metadata": {},
   "outputs": [
    {
     "data": {
      "text/latex": [
       "$$\n",
       "\\sigma_{y,x} = \n",
       "\\begin{bmatrix}\n",
       "0 & 1  \\\\\n",
       " 1 & 0  \\\\\n",
       " \\end{bmatrix}\n",
       "$$"
      ],
      "text/plain": [
       "<IPython.core.display.Latex object>"
      ]
     },
     "execution_count": 14,
     "metadata": {},
     "output_type": "execute_result"
    }
   ],
   "source": [
    "X_X = eigen_vectors_y.getH() @ xbx @ eigen_vectors_y\n",
    "array_to_latex(X_X, prefix = \"\\sigma_{y,x} = \")"
   ]
  },
  {
   "cell_type": "code",
   "execution_count": 15,
   "id": "3af55a14",
   "metadata": {},
   "outputs": [
    {
     "data": {
      "text/latex": [
       "$$\n",
       "\\sigma_{y,y} = \n",
       "\\begin{bmatrix}\n",
       "-1 & 0  \\\\\n",
       " 0 & 1  \\\\\n",
       " \\end{bmatrix}\n",
       "$$"
      ],
      "text/plain": [
       "<IPython.core.display.Latex object>"
      ]
     },
     "execution_count": 15,
     "metadata": {},
     "output_type": "execute_result"
    }
   ],
   "source": [
    "X_Y = eigen_vectors_y.getH() @ ybx @ eigen_vectors_y\n",
    "array_to_latex(X_Y, prefix = \"\\sigma_{y,y} = \")"
   ]
  },
  {
   "cell_type": "code",
   "execution_count": 16,
   "id": "fc5e25e6",
   "metadata": {},
   "outputs": [
    {
     "data": {
      "text/latex": [
       "$$\n",
       "\\sigma_{y,z} = \n",
       "\\begin{bmatrix}\n",
       "0 & -i  \\\\\n",
       " i & 0  \\\\\n",
       " \\end{bmatrix}\n",
       "$$"
      ],
      "text/plain": [
       "<IPython.core.display.Latex object>"
      ]
     },
     "execution_count": 16,
     "metadata": {},
     "output_type": "execute_result"
    }
   ],
   "source": [
    "X_Z = eigen_vectors_y.getH() @ zbx @ eigen_vectors_y\n",
    "array_to_latex(X_Z, prefix = \"\\sigma_{y,z} = \")"
   ]
  },
  {
   "cell_type": "markdown",
   "id": "9f52d25f",
   "metadata": {},
   "source": [
    "#### Pauli operators from X-basis to Y-basis"
   ]
  },
  {
   "cell_type": "markdown",
   "id": "ac7e9a7f",
   "metadata": {},
   "source": [
    " $$\n",
    " \\sigma_{y,x} = \\begin{bmatrix} 0 & 1 \\\\ 1 & 0 \\end{bmatrix}, ~~~\n",
    " \\sigma_{y,y} = \\begin{bmatrix} -1 & 0 \\\\ 0 & 1 \\end{bmatrix}, ~~~\n",
    " \\sigma_{y,z} = \\begin{bmatrix} 0 & -i \\\\ i & 0 \\end{bmatrix}, \n",
    " $$"
   ]
  },
  {
   "cell_type": "markdown",
   "id": "ec0854b1",
   "metadata": {},
   "source": [
    "<div class=\"alert alert-block alert-success\">\n",
    "Obtain $X,Y,Z$ from $R_x(\\alpha),R_y(\\alpha)$ and $R_z(\\alpha)$ for some $\\alpha$ value.\n",
    "</div>"
   ]
  },
  {
   "cell_type": "markdown",
   "id": "3ba1e86d",
   "metadata": {},
   "source": [
    "$$\n",
    "R_{x}(\\alpha) = \\begin{bmatrix} cos\\Big(\\frac{\\alpha}{2}\\Big) & -i\\cdot sin\\Big(\\frac{\\alpha}{2}\\Big)  \\\\ -i\\cdot sin\\Big(\\frac{\\alpha}{2}\\Big) & cos\\Big(\\frac{\\alpha}{2}\\Big)  \\\\ \\end{bmatrix} \\Longrightarrow \\alpha = \\pi \\Longrightarrow\n",
    "\\begin{bmatrix} 0 & -i  \\\\ -i & 0  \\\\ \\end{bmatrix} \\Longrightarrow -i\\begin{bmatrix} 0 & 1  \\\\ 1 & 0  \\\\ \\end{bmatrix} \\Longrightarrow R_x(\\pi) =-iX \\Longrightarrow X = i \\cdot R_x(\\pi)\n",
    "$$"
   ]
  },
  {
   "cell_type": "markdown",
   "id": "9411b333",
   "metadata": {},
   "source": [
    "$$\n",
    "R_{y}(\\alpha) = \\begin{bmatrix} cos\\Big(\\frac{\\alpha}{2}\\Big) & -sin\\Big(\\frac{\\alpha}{2}\\Big)  \\\\  sin\\Big(\\frac{\\alpha}{2}\\Big) & cos\\Big(\\frac{\\alpha}{2}\\Big)  \\\\ \\end{bmatrix} \\Longrightarrow \\alpha = \\pi \\Longrightarrow\n",
    "\\begin{bmatrix} 0 & -1  \\\\ 1 & 0  \\\\ \\end{bmatrix} \\Longrightarrow R_y(\\pi) = -iY \\Longrightarrow Y = i\\cdot R_y(\\pi)\n",
    "$$"
   ]
  },
  {
   "cell_type": "markdown",
   "id": "ad5b66ec",
   "metadata": {},
   "source": [
    "$$\n",
    "R_{z}(\\alpha) = \\begin{bmatrix} e^{-i\\frac{\\alpha}{2}} & 0  \\\\  0 &  e^{i\\frac{\\alpha}{2}} \\\\ \\end{bmatrix} \\Longrightarrow \\alpha = \\pi \\Longrightarrow\n",
    "\\begin{bmatrix} e^{-i\\frac{\\pi}{2}} & 0  \\\\  0 &  e^{i\\frac{\\pi}{2}} \\\\ \\end{bmatrix} \\Longrightarrow\n",
    "\\begin{bmatrix} -i & 0  \\\\  0 &  i \\\\ \\end{bmatrix} \\Longrightarrow\n",
    "i\\begin{bmatrix} -i & 0  \\\\ 0 & i  \\\\ \\end{bmatrix} \\Longrightarrow \n",
    "\\begin{bmatrix} 1 & 0  \\\\ 0 & -1  \\\\ \\end{bmatrix} \\Longrightarrow \n",
    "R_z(\\pi) = -iZ \\Longrightarrow Z = i\\cdot R_z(\\pi)\n",
    "\\\\\n",
    "\\\\\\quad\\\\\n",
    "e^{i\\frac{\\pi}{2}} = cos\\Big(\\frac{\\pi}{2}\\Big) + i\\cdot sin\\Big(\\frac{\\pi}{2}\\Big) = i\\\\\\quad\\\\\n",
    "e^{-i\\frac{\\pi}{2}} = cos\\Big(\\frac{\\pi}{2}\\Big) - i\\cdot sin\\Big(\\frac{\\pi}{2}\\Big) = -i\n",
    "$$"
   ]
  },
  {
   "cell_type": "markdown",
   "id": "03b786ec",
   "metadata": {},
   "source": [
    "## Some more Quantum Information Theory"
   ]
  },
  {
   "cell_type": "markdown",
   "id": "9c76c183",
   "metadata": {},
   "source": [
    "#### Array decomposition in Pauli matrices into a one (or more) Qubit(s)"
   ]
  },
  {
   "cell_type": "markdown",
   "id": "3335e4b0",
   "metadata": {},
   "source": [
    "The formula to obtain a given matrix $A$ in Pauli matrices with a single Qubit is:"
   ]
  },
  {
   "cell_type": "markdown",
   "id": "caf6eaf4",
   "metadata": {},
   "source": [
    "$$a _{i_{1}i_{2}\\dots{i_n}} = \\frac{1}{2^n}Tr\\Big((\\sigma_{i_1} \\otimes \\sigma_{i_2} \\otimes \\dots \\otimes\\sigma_{i_n}) \\cdot A \\Big)\\\\\\quad\\\\\n",
    "\\ \\text{where}\\ \\sigma_{i_j} \\in \\{I, X, Y, Z\\}\\ \\text{and}\\ Tr\\ \\text{is the trace of the given matrix}$$"
   ]
  },
  {
   "cell_type": "code",
   "execution_count": 17,
   "id": "afc575a4",
   "metadata": {},
   "outputs": [],
   "source": [
    "from itertools import product\n",
    "from functools import reduce\n",
    "from collections import defaultdict\n",
    "import numpy as np\n",
    "import json"
   ]
  },
  {
   "cell_type": "code",
   "execution_count": 18,
   "id": "5205850f",
   "metadata": {},
   "outputs": [],
   "source": [
    "PAULIS = {\n",
    "    \"I\" : np.array(I, dtype=complex),\n",
    "    \"X\" : np.array(X, dtype=complex),\n",
    "    \"Y\" : np.array(Y, dtype=complex),\n",
    "    \"Z\" : np.array(Z, dtype=complex)\n",
    "}"
   ]
  },
  {
   "cell_type": "code",
   "execution_count": 19,
   "id": "d41f60fd",
   "metadata": {},
   "outputs": [
    {
     "data": {
      "text/latex": [
       "$$\n",
       "A = \n",
       "\\begin{bmatrix}\n",
       "3 & 1  \\\\\n",
       " 1 & 2  \\\\\n",
       " \\end{bmatrix}\n",
       "$$"
      ],
      "text/plain": [
       "<IPython.core.display.Latex object>"
      ]
     },
     "execution_count": 19,
     "metadata": {},
     "output_type": "execute_result"
    }
   ],
   "source": [
    "A = np.array([[3, 1], [1, 2]], dtype=complex)\n",
    "\n",
    "array_to_latex(A, prefix = \"A = \")"
   ]
  },
  {
   "cell_type": "code",
   "execution_count": 20,
   "id": "06f29ab1",
   "metadata": {},
   "outputs": [],
   "source": [
    "def array_to_pauli_ops(array):\n",
    "\n",
    "    n = int(math.log2(len(array)))\n",
    "    dims = 2 ** n\n",
    "\n",
    "    components = defaultdict(int)\n",
    "\n",
    "    keys = [\"\".join(k) for k in product(PAULIS.keys(), repeat = n)]\n",
    "\n",
    "    for i, val in enumerate(product(PAULIS.values(), repeat = n)):\n",
    "\n",
    "        basis_mat = reduce(np.kron, val)\n",
    "\n",
    "        coeff = np.dot(array.reshape(-1), basis_mat.reshape(-1)) / dims\n",
    "        coeff = np.real_if_close(coeff).item()\n",
    "\n",
    "        if not np.allclose(coeff, 0):\n",
    "            components[keys[i]] = coeff\n",
    "            \n",
    "    return components"
   ]
  },
  {
   "cell_type": "code",
   "execution_count": 21,
   "id": "6a9b2d7c",
   "metadata": {},
   "outputs": [
    {
     "name": "stdout",
     "output_type": "stream",
     "text": [
      "{\n",
      "  \"I\": 2.5,\n",
      "  \"X\": 1.0,\n",
      "  \"Z\": 0.5\n",
      "}\n"
     ]
    }
   ],
   "source": [
    "print(json.dumps(array_to_pauli_ops(A), indent=2))"
   ]
  },
  {
   "cell_type": "code",
   "execution_count": 22,
   "id": "1c895324",
   "metadata": {},
   "outputs": [
    {
     "name": "stdout",
     "output_type": "stream",
     "text": [
      "average of all eigenvalues:  3.0\n"
     ]
    }
   ],
   "source": [
    "avg_eig = 2.5 + (0.5*1 + 0.5*(-1)) + 0.5*1\n",
    "print(\"average of all eigenvalues: \", avg_eig)"
   ]
  },
  {
   "cell_type": "markdown",
   "id": "5694f46e",
   "metadata": {},
   "source": [
    "#### Array decomposition in Pauli matrices with two Qubit"
   ]
  },
  {
   "cell_type": "code",
   "execution_count": 23,
   "id": "3787af35",
   "metadata": {},
   "outputs": [
    {
     "data": {
      "text/plain": [
       "array([[1.+0.j, 3.+0.j, 1.+0.j, 3.+0.j],\n",
       "       [3.+0.j, 0.+0.j, 0.+0.j, 0.+0.j],\n",
       "       [1.+0.j, 0.+0.j, 1.+0.j, 3.+0.j],\n",
       "       [3.+0.j, 0.+0.j, 3.+0.j, 0.+0.j]])"
      ]
     },
     "execution_count": 23,
     "metadata": {},
     "output_type": "execute_result"
    }
   ],
   "source": [
    "B = np.array([[1,3,1,3], [3,0,0,0], [1,0,1,3], [3,0,3,0]], dtype=complex)\n",
    "B"
   ]
  },
  {
   "cell_type": "code",
   "execution_count": 24,
   "id": "f846d074",
   "metadata": {},
   "outputs": [
    {
     "name": "stdout",
     "output_type": "stream",
     "text": [
      "{\n",
      "  \"II\": 0.5,\n",
      "  \"IX\": 3.0,\n",
      "  \"IZ\": 0.5,\n",
      "  \"XI\": 0.5,\n",
      "  \"XX\": 1.5,\n",
      "  \"XZ\": 0.5,\n",
      "  \"YY\": -1.5\n",
      "}\n"
     ]
    }
   ],
   "source": [
    "print(json.dumps(array_to_pauli_ops(B), indent=2))"
   ]
  },
  {
   "cell_type": "markdown",
   "id": "d6aa75e0",
   "metadata": {},
   "source": [
    "### Measuring two-qubit observables"
   ]
  },
  {
   "cell_type": "markdown",
   "id": "bbc291ce",
   "metadata": {},
   "source": [
    "An arbitrary tensro product of Pauli operators has only two eigenvalues $\\{1, -1\\}$. We entangle the quantum system to reduce it into a system that only has two basis states. \n",
    "\n",
    "For conveninece, we measure always the highest qubit (leftmost qubits)"
   ]
  },
  {
   "cell_type": "code",
   "execution_count": 25,
   "id": "14597abf",
   "metadata": {},
   "outputs": [],
   "source": [
    "from qiskit import QuantumCircuit, Aer, execute\n",
    "from qiskit.visualization import plot_histogram"
   ]
  },
  {
   "cell_type": "code",
   "execution_count": 26,
   "id": "91450acb",
   "metadata": {},
   "outputs": [],
   "source": [
    "backend = Aer.get_backend('statevector_simulator')"
   ]
  },
  {
   "cell_type": "markdown",
   "id": "a5af765f",
   "metadata": {},
   "source": [
    "#### ZZ Observable"
   ]
  },
  {
   "cell_type": "code",
   "execution_count": 27,
   "id": "31d669a5",
   "metadata": {},
   "outputs": [
    {
     "data": {
      "image/png": "[encoded data removed]",
      "text/plain": [
       "<Figure size 146.652x144.48 with 1 Axes>"
      ]
     },
     "execution_count": 27,
     "metadata": {},
     "output_type": "execute_result"
    }
   ],
   "source": [
    "qc = QuantumCircuit(2)\n",
    "\n",
    "qc.z(0)\n",
    "qc.z(1)\n",
    "\n",
    "qc.draw('mpl')"
   ]
  },
  {
   "cell_type": "code",
   "execution_count": 28,
   "id": "ecff851d",
   "metadata": {},
   "outputs": [
    {
     "data": {
      "text/latex": [
       "$$\n",
       "U_{ZZ} = \n",
       "\\begin{bmatrix}\n",
       "1 & 0 & 0 & 0  \\\\\n",
       " 0 & -1 & 0 & 0  \\\\\n",
       " 0 & 0 & -1 & 0  \\\\\n",
       " 0 & 0 & 0 & 1  \\\\\n",
       " \\end{bmatrix}\n",
       "$$"
      ],
      "text/plain": [
       "<IPython.core.display.Latex object>"
      ]
     },
     "execution_count": 28,
     "metadata": {},
     "output_type": "execute_result"
    }
   ],
   "source": [
    "unitary_backend = Aer.get_backend('unitary_simulator')\n",
    "result = execute(qc, unitary_backend, shots = 1024).result()\n",
    "\n",
    "unitary_matrix_zz = result.get_unitary(qc, 2)\n",
    "\n",
    "array_to_latex(unitary_matrix_zz, prefix = \"U_{ZZ} = \")"
   ]
  },
  {
   "cell_type": "markdown",
   "id": "f8d794bc",
   "metadata": {},
   "source": [
    "The values of the diagonal are the eigenvalues, First row is $\\ket{00}$, the second $\\ket{01}$, third is $\\ket{10}$ and fourth $\\ket{11}$. So the the eigenvalues of state $\\ket{01}$ and $\\ket{10}$ are -1. The eigenvalues of $\\ket{00}$ and $\\ket{11}$ are 1."
   ]
  },
  {
   "cell_type": "code",
   "execution_count": 29,
   "id": "29e00561",
   "metadata": {},
   "outputs": [
    {
     "data": {
      "text/plain": [
       "matrix([[ True,  True,  True,  True],\n",
       "        [ True,  True,  True,  True],\n",
       "        [ True,  True,  True,  True],\n",
       "        [ True,  True,  True,  True]])"
      ]
     },
     "execution_count": 29,
     "metadata": {},
     "output_type": "execute_result"
    }
   ],
   "source": [
    "u_zz = np.matrix(unitary_matrix_zz)\n",
    "\n",
    "np.linalg.inv(u_zz) == u_zz.getH() # it is unitary matrix"
   ]
  },
  {
   "cell_type": "code",
   "execution_count": 30,
   "id": "a5496944",
   "metadata": {},
   "outputs": [
    {
     "data": {
      "text/latex": [
       "$$\n",
       "U^{-1}U^{\\dagger} = \n",
       "\\begin{bmatrix}\n",
       "1 & 0 & 0 & 0  \\\\\n",
       " 0 & 1 & 0 & 0  \\\\\n",
       " 0 & 0 & 1 & 0  \\\\\n",
       " 0 & 0 & 0 & 1  \\\\\n",
       " \\end{bmatrix}\n",
       "$$"
      ],
      "text/plain": [
       "<IPython.core.display.Latex object>"
      ]
     },
     "execution_count": 30,
     "metadata": {},
     "output_type": "execute_result"
    }
   ],
   "source": [
    "array_to_latex(np.linalg.inv(u_zz) @ u_zz.getH(), prefix = \"U^{-1}U^{\\dagger} = \")"
   ]
  },
  {
   "cell_type": "code",
   "execution_count": 31,
   "id": "a2d34601",
   "metadata": {},
   "outputs": [
    {
     "data": {
      "text/latex": [
       "$$\n",
       "U^{\\dagger}U^{-1} = \n",
       "\\begin{bmatrix}\n",
       "1 & 0 & 0 & 0  \\\\\n",
       " 0 & 1 & 0 & 0  \\\\\n",
       " 0 & 0 & 1 & 0  \\\\\n",
       " 0 & 0 & 0 & 1  \\\\\n",
       " \\end{bmatrix}\n",
       "$$"
      ],
      "text/plain": [
       "<IPython.core.display.Latex object>"
      ]
     },
     "execution_count": 31,
     "metadata": {},
     "output_type": "execute_result"
    }
   ],
   "source": [
    "array_to_latex(u_zz.getH() @ np.linalg.inv(u_zz), prefix = \"U^{\\dagger}U^{-1} = \")"
   ]
  },
  {
   "cell_type": "code",
   "execution_count": 32,
   "id": "c9083d1a",
   "metadata": {},
   "outputs": [
    {
     "data": {
      "text/plain": [
       "matrix([[ True,  True,  True,  True],\n",
       "        [ True,  True,  True,  True],\n",
       "        [ True,  True,  True,  True],\n",
       "        [ True,  True,  True,  True]])"
      ]
     },
     "execution_count": 32,
     "metadata": {},
     "output_type": "execute_result"
    }
   ],
   "source": [
    "u_zz == u_zz.getH() # it is hermitian matrix"
   ]
  },
  {
   "cell_type": "code",
   "execution_count": 33,
   "id": "4bd4f3a6",
   "metadata": {},
   "outputs": [
    {
     "data": {
      "text/plain": [
       "matrix([[ True,  True,  True,  True],\n",
       "        [ True,  True,  True,  True],\n",
       "        [ True,  True,  True,  True],\n",
       "        [ True,  True,  True,  True]])"
      ]
     },
     "execution_count": 33,
     "metadata": {},
     "output_type": "execute_result"
    }
   ],
   "source": [
    "np.dot(u_zz, u_zz.getH()) == np.dot(u_zz.getH(), u_zz) # it is normal matrix"
   ]
  },
  {
   "cell_type": "markdown",
   "id": "2b09283b",
   "metadata": {},
   "source": [
    "#### IX Observable"
   ]
  },
  {
   "cell_type": "code",
   "execution_count": 34,
   "id": "d23c1056",
   "metadata": {},
   "outputs": [
    {
     "data": {
      "image/png": "[encoded data removed]",
      "text/plain": [
       "<Figure size 267.052x204.68 with 1 Axes>"
      ]
     },
     "execution_count": 34,
     "metadata": {},
     "output_type": "execute_result"
    }
   ],
   "source": [
    "qc = QuantumCircuit(2, 2)\n",
    "\n",
    "qc.h(0)\n",
    "#qc.i(1)\n",
    "qc.swap(0,1)\n",
    "\n",
    "qc.measure(1,0)\n",
    "qc.draw('mpl')"
   ]
  },
  {
   "cell_type": "code",
   "execution_count": 35,
   "id": "d1266ad2",
   "metadata": {},
   "outputs": [
    {
     "data": {
      "image/png": "[encoded data removed]",
      "text/plain": [
       "<Figure size 504x360 with 1 Axes>"
      ]
     },
     "execution_count": 35,
     "metadata": {},
     "output_type": "execute_result"
    }
   ],
   "source": [
    "result = execute(qc, backend, shots = 1024).result()\n",
    "counts = result.get_counts()\n",
    "\n",
    "plot_histogram(counts)"
   ]
  },
  {
   "cell_type": "markdown",
   "id": "e9382c9b",
   "metadata": {},
   "source": [
    "#### XI Observable"
   ]
  },
  {
   "cell_type": "code",
   "execution_count": 36,
   "id": "3350e9c3",
   "metadata": {},
   "outputs": [
    {
     "data": {
      "image/png": "[encoded data removed]",
      "text/plain": [
       "<Figure size 206.852x204.68 with 1 Axes>"
      ]
     },
     "execution_count": 36,
     "metadata": {},
     "output_type": "execute_result"
    }
   ],
   "source": [
    "qc = QuantumCircuit(2, 2)\n",
    "\n",
    "#qc.i(0)\n",
    "qc.h(1)\n",
    "\n",
    "qc.measure(1,0)\n",
    "qc.draw('mpl')"
   ]
  },
  {
   "cell_type": "code",
   "execution_count": 37,
   "id": "cbf15ddb",
   "metadata": {},
   "outputs": [
    {
     "data": {
      "image/png": "[encoded data removed]",
      "text/plain": [
       "<Figure size 504x360 with 1 Axes>"
      ]
     },
     "execution_count": 37,
     "metadata": {},
     "output_type": "execute_result"
    }
   ],
   "source": [
    "result = execute(qc, backend, shots = 1024).result()\n",
    "counts = result.get_counts()\n",
    "\n",
    "plot_histogram(counts)"
   ]
  },
  {
   "cell_type": "markdown",
   "id": "aaa52685",
   "metadata": {},
   "source": [
    "#### IZ Observable"
   ]
  },
  {
   "cell_type": "code",
   "execution_count": 38,
   "id": "5034a4f3",
   "metadata": {},
   "outputs": [
    {
     "data": {
      "image/png": "[encoded data removed]",
      "text/plain": [
       "<Figure size 206.852x204.68 with 1 Axes>"
      ]
     },
     "execution_count": 38,
     "metadata": {},
     "output_type": "execute_result"
    }
   ],
   "source": [
    "qc = QuantumCircuit(2, 2)\n",
    "\n",
    "#qc.z(0)\n",
    "#qc.i(1)\n",
    "qc.swap(0,1)\n",
    "\n",
    "qc.measure(1,0)\n",
    "qc.draw('mpl')"
   ]
  },
  {
   "cell_type": "code",
   "execution_count": 39,
   "id": "280764bd",
   "metadata": {},
   "outputs": [
    {
     "data": {
      "image/png": "[encoded data removed]",
      "text/plain": [
       "<Figure size 504x360 with 1 Axes>"
      ]
     },
     "execution_count": 39,
     "metadata": {},
     "output_type": "execute_result"
    }
   ],
   "source": [
    "result = execute(qc, backend, shots = 1024).result()\n",
    "counts = result.get_counts()\n",
    "\n",
    "plot_histogram(counts)"
   ]
  },
  {
   "cell_type": "markdown",
   "id": "dab7b5db",
   "metadata": {},
   "source": [
    "#### XY Observable"
   ]
  },
  {
   "cell_type": "code",
   "execution_count": 40,
   "id": "a24d1168",
   "metadata": {},
   "outputs": [
    {
     "data": {
      "image/png": "[encoded data removed]",
      "text/plain": [
       "<Figure size 327.252x204.68 with 1 Axes>"
      ]
     },
     "execution_count": 40,
     "metadata": {},
     "output_type": "execute_result"
    }
   ],
   "source": [
    "qc = QuantumCircuit(2, 2)\n",
    "\n",
    "qc.h(0)\n",
    "qc.sdg(0)\n",
    "\n",
    "qc.h(1)\n",
    "qc.cnot(0,1)\n",
    "\n",
    "qc.measure(1,0)\n",
    "qc.draw('mpl')"
   ]
  },
  {
   "cell_type": "code",
   "execution_count": 41,
   "id": "028a0740",
   "metadata": {},
   "outputs": [
    {
     "data": {
      "image/png": "[encoded data removed]",
      "text/plain": [
       "<Figure size 504x360 with 1 Axes>"
      ]
     },
     "execution_count": 41,
     "metadata": {},
     "output_type": "execute_result"
    }
   ],
   "source": [
    "result = execute(qc, backend, shots = 1024).result()\n",
    "counts = result.get_counts()\n",
    "\n",
    "plot_histogram(counts)"
   ]
  },
  {
   "cell_type": "markdown",
   "id": "d91cda72",
   "metadata": {},
   "source": [
    "#### XZ Observable"
   ]
  },
  {
   "cell_type": "code",
   "execution_count": 42,
   "id": "597dade1",
   "metadata": {},
   "outputs": [
    {
     "data": {
      "image/png": "[encoded data removed]",
      "text/plain": [
       "<Figure size 267.052x204.68 with 1 Axes>"
      ]
     },
     "execution_count": 42,
     "metadata": {},
     "output_type": "execute_result"
    }
   ],
   "source": [
    "qc = QuantumCircuit(2, 2)\n",
    "\n",
    "#qc.z(0)\n",
    "qc.h(1)\n",
    "qc.cnot(0,1)\n",
    "\n",
    "qc.measure(1,0)\n",
    "qc.draw('mpl')"
   ]
  },
  {
   "cell_type": "code",
   "execution_count": 43,
   "id": "a44d34bb",
   "metadata": {},
   "outputs": [
    {
     "data": {
      "image/png": "[encoded data removed]",
      "text/plain": [
       "<Figure size 504x360 with 1 Axes>"
      ]
     },
     "execution_count": 43,
     "metadata": {},
     "output_type": "execute_result"
    }
   ],
   "source": [
    "result = execute(qc, backend, shots = 1024).result()\n",
    "counts = result.get_counts()\n",
    "\n",
    "plot_histogram(counts)"
   ]
  },
  {
   "cell_type": "markdown",
   "id": "ff5864cf",
   "metadata": {},
   "source": [
    "#### XX Observable"
   ]
  },
  {
   "cell_type": "code",
   "execution_count": 44,
   "id": "b94d254b",
   "metadata": {},
   "outputs": [
    {
     "data": {
      "image/png": "[encoded data removed]",
      "text/plain": [
       "<Figure size 267.052x204.68 with 1 Axes>"
      ]
     },
     "execution_count": 44,
     "metadata": {},
     "output_type": "execute_result"
    }
   ],
   "source": [
    "qc = QuantumCircuit(2, 2)\n",
    "\n",
    "qc.h(0)\n",
    "qc.h(1)\n",
    "qc.cnot(0,1)\n",
    "\n",
    "qc.measure(1,0)\n",
    "qc.draw('mpl')"
   ]
  },
  {
   "cell_type": "code",
   "execution_count": 45,
   "id": "8434c459",
   "metadata": {},
   "outputs": [
    {
     "data": {
      "image/png": "[encoded data removed]",
      "text/plain": [
       "<Figure size 504x360 with 1 Axes>"
      ]
     },
     "execution_count": 45,
     "metadata": {},
     "output_type": "execute_result"
    }
   ],
   "source": [
    "result = execute(qc, backend, shots = 1024).result()\n",
    "counts = result.get_counts()\n",
    "\n",
    "plot_histogram(counts)"
   ]
  },
  {
   "cell_type": "markdown",
   "id": "6278eeeb",
   "metadata": {},
   "source": [
    "#### YY Observable"
   ]
  },
  {
   "cell_type": "code",
   "execution_count": 46,
   "id": "f6588564",
   "metadata": {},
   "outputs": [
    {
     "data": {
      "image/png": "[encoded data removed]",
      "text/plain": [
       "<Figure size 327.252x204.68 with 1 Axes>"
      ]
     },
     "execution_count": 46,
     "metadata": {},
     "output_type": "execute_result"
    }
   ],
   "source": [
    "qc = QuantumCircuit(2, 2)\n",
    "\n",
    "qc.h(0)\n",
    "qc.sdg(0)\n",
    "\n",
    "qc.h(1)\n",
    "qc.sdg(1)\n",
    "\n",
    "qc.cx(0,1)\n",
    "\n",
    "qc.measure(1,0)\n",
    "qc.draw('mpl')"
   ]
  },
  {
   "cell_type": "code",
   "execution_count": 47,
   "id": "afc156a4",
   "metadata": {},
   "outputs": [
    {
     "data": {
      "image/png": "[encoded data removed]",
      "text/plain": [
       "<Figure size 504x360 with 1 Axes>"
      ]
     },
     "execution_count": 47,
     "metadata": {},
     "output_type": "execute_result"
    }
   ],
   "source": [
    "result = execute(qc, backend, shots = 1024).result()\n",
    "counts = result.get_counts()\n",
    "\n",
    "plot_histogram(counts)"
   ]
  },
  {
   "cell_type": "markdown",
   "id": "0140897f",
   "metadata": {},
   "source": [
    "#### IY Observable"
   ]
  },
  {
   "cell_type": "code",
   "execution_count": 48,
   "id": "4850a323",
   "metadata": {},
   "outputs": [
    {
     "data": {
      "image/png": "[encoded data removed]",
      "text/plain": [
       "<Figure size 327.252x204.68 with 1 Axes>"
      ]
     },
     "execution_count": 48,
     "metadata": {},
     "output_type": "execute_result"
    }
   ],
   "source": [
    "qc = QuantumCircuit(2, 2)\n",
    "\n",
    "qc.h(0)\n",
    "qc.sdg(0)\n",
    "\n",
    "qc.swap(0,1)\n",
    "\n",
    "qc.measure(1,0)\n",
    "qc.draw('mpl')"
   ]
  },
  {
   "cell_type": "code",
   "execution_count": 49,
   "id": "4d321992",
   "metadata": {},
   "outputs": [
    {
     "data": {
      "image/png": "[encoded data removed]",
      "text/plain": [
       "<Figure size 504x360 with 1 Axes>"
      ]
     },
     "execution_count": 49,
     "metadata": {},
     "output_type": "execute_result"
    }
   ],
   "source": [
    "result = execute(qc, backend, shots = 1024).result()\n",
    "counts = result.get_counts()\n",
    "\n",
    "plot_histogram(counts)"
   ]
  },
  {
   "cell_type": "markdown",
   "id": "a7321c42",
   "metadata": {},
   "source": [
    "#### YI Observable"
   ]
  },
  {
   "cell_type": "code",
   "execution_count": 50,
   "id": "73ebe3cc",
   "metadata": {},
   "outputs": [
    {
     "data": {
      "image/png": "[encoded data removed]",
      "text/plain": [
       "<Figure size 267.052x204.68 with 1 Axes>"
      ]
     },
     "execution_count": 50,
     "metadata": {},
     "output_type": "execute_result"
    }
   ],
   "source": [
    "qc = QuantumCircuit(2, 2)\n",
    "\n",
    "qc.h(1)\n",
    "qc.sdg(1)\n",
    "\n",
    "qc.measure(1,0)\n",
    "qc.draw('mpl')"
   ]
  },
  {
   "cell_type": "code",
   "execution_count": 51,
   "id": "d032941d",
   "metadata": {},
   "outputs": [
    {
     "data": {
      "image/png": "[encoded data removed]",
      "text/plain": [
       "<Figure size 504x360 with 1 Axes>"
      ]
     },
     "execution_count": 51,
     "metadata": {},
     "output_type": "execute_result"
    }
   ],
   "source": [
    "result = execute(qc, backend, shots = 1024).result()\n",
    "counts = result.get_counts()\n",
    "\n",
    "plot_histogram(counts)"
   ]
  },
  {
   "cell_type": "markdown",
   "id": "6d4a629f",
   "metadata": {},
   "source": [
    "After calculating the operators, the weighted sum of eigenvalues for this matrix descomposition is:"
   ]
  },
  {
   "cell_type": "markdown",
   "id": "6a05bb64",
   "metadata": {},
   "source": [
    "$$ w_{eig} = 0.5 \\cdot II +  3.0 \\cdot IX + 0.5 \\cdot IZ + 0.5 \\cdot XI + 1.5 \\cdot XX + 0.5 \\cdot XZ -1.5 \\cdot YY$$"
   ]
  },
  {
   "cell_type": "code",
   "execution_count": 52,
   "id": "c60ada10",
   "metadata": {},
   "outputs": [
    {
     "name": "stdout",
     "output_type": "stream",
     "text": [
      "Weighted sum of eigenvalues:  1.0\n"
     ]
    }
   ],
   "source": [
    "II_sum = 0.5 * 1\n",
    "IX_sum = 3 * (0.5*1 + 0.5*(-1))\n",
    "IZ_sum = 0.5 * 1\n",
    "XI_sum = 0.5 * (0.5*1 + 0.5*(-1))\n",
    "XX_sum = 1.5 *(0.5*1 + 0.5*(-1))\n",
    "XZ_sum = 0.5 * (0.5*1 + 0.5*(-1))\n",
    "YY_sum = -1.5 * (0.5*1 + 0.5*(-1))\n",
    "\n",
    "w_eig = II_sum + IX_sum + IZ_sum + XI_sum + XX_sum + XZ_sum + YY_sum\n",
    "\n",
    "print(\"Weighted sum of eigenvalues: \", w_eig)"
   ]
  },
  {
   "cell_type": "markdown",
   "id": "33892b19",
   "metadata": {},
   "source": [
    "### Multiqubit array decomposition in Pauli matrices"
   ]
  },
  {
   "cell_type": "code",
   "execution_count": 53,
   "id": "992948a8",
   "metadata": {},
   "outputs": [],
   "source": [
    "def multi_qubit_decomposition(arr):\n",
    "    \n",
    "    n = int(math.log2(len(arr))) # number of qubits \n",
    "    p_components = array_to_pauli_ops(arr)\n",
    "\n",
    "    final_circs = {}\n",
    "    \n",
    "    for paulis, weight in p_components.items():\n",
    "        \n",
    "        qc = QuantumCircuit(n, 1)\n",
    "        key_paulis = list(enumerate(reversed(paulis)))\n",
    "\n",
    "        if np.all([x[1] == 'I' for x in key_paulis]):\n",
    "            final_circs[paulis] = (qc, weight)\n",
    "            continue\n",
    "            \n",
    "        for i, l in key_paulis:\n",
    "            \n",
    "            if l == 'X':\n",
    "                qc.h(i)\n",
    "                \n",
    "            if l == 'Y':\n",
    "                qc.h(i)\n",
    "                qc.sdg(i)\n",
    "                \n",
    "        for i, (first, second) in enumerate(zip(key_paulis, key_paulis[1:])):\n",
    "\n",
    "            if second[1] == 'I':\n",
    "                qc.swap(first[0], second[0])\n",
    "                \n",
    "            elif first[1] != 'I':\n",
    "                key_paulis[i + 1] = (key_paulis[i + 1][0], key_paulis[i][1])          \n",
    "                qc.cx(first[0], second[0])\n",
    "\n",
    "        qc.measure(n-1, 0)\n",
    "        final_circs[paulis] = (qc, weight)\n",
    "\n",
    "    return final_circs"
   ]
  },
  {
   "cell_type": "code",
   "execution_count": 54,
   "id": "e690d105",
   "metadata": {},
   "outputs": [
    {
     "data": {
      "text/latex": [
       "$$\n",
       "B = \n",
       "\\begin{bmatrix}\n",
       "1 & 3 & 1 & 3  \\\\\n",
       " 3 & 0 & 0 & 0  \\\\\n",
       " 1 & 0 & 1 & 3  \\\\\n",
       " 3 & 0 & 3 & 0  \\\\\n",
       " \\end{bmatrix}\n",
       "$$"
      ],
      "text/plain": [
       "<IPython.core.display.Latex object>"
      ]
     },
     "execution_count": 54,
     "metadata": {},
     "output_type": "execute_result"
    }
   ],
   "source": [
    "B = np.array([[1,3,1,3], [3,0,0,0], [1,0,1,3], [3,0,3,0]], dtype = complex)\n",
    "\n",
    "array_to_latex(B, prefix = \"B = \")"
   ]
  },
  {
   "cell_type": "code",
   "execution_count": 55,
   "id": "b41ebace",
   "metadata": {},
   "outputs": [
    {
     "data": {
      "text/plain": [
       "{'II': (<qiskit.circuit.quantumcircuit.QuantumCircuit at 0x1ed756d7910>, 0.5),\n",
       " 'IX': (<qiskit.circuit.quantumcircuit.QuantumCircuit at 0x1ed756d79d0>, 3.0),\n",
       " 'IZ': (<qiskit.circuit.quantumcircuit.QuantumCircuit at 0x1ed75477700>, 0.5),\n",
       " 'XI': (<qiskit.circuit.quantumcircuit.QuantumCircuit at 0x1ed75662310>, 0.5),\n",
       " 'XX': (<qiskit.circuit.quantumcircuit.QuantumCircuit at 0x1ed75658820>, 1.5),\n",
       " 'XZ': (<qiskit.circuit.quantumcircuit.QuantumCircuit at 0x1ed756da850>, 0.5),\n",
       " 'YY': (<qiskit.circuit.quantumcircuit.QuantumCircuit at 0x1ed756da430>, -1.5)}"
      ]
     },
     "execution_count": 55,
     "metadata": {},
     "output_type": "execute_result"
    }
   ],
   "source": [
    "circuits = multi_qubit_decomposition(B)\n",
    "circuits"
   ]
  },
  {
   "cell_type": "code",
   "execution_count": 56,
   "id": "e76ff525",
   "metadata": {},
   "outputs": [
    {
     "data": {
      "image/png": "[encoded data removed]",
      "text/plain": [
       "<Figure size 267.052x204.68 with 1 Axes>"
      ]
     },
     "execution_count": 56,
     "metadata": {},
     "output_type": "execute_result"
    }
   ],
   "source": [
    "circuits['IX'][0].draw('mpl')"
   ]
  },
  {
   "cell_type": "code",
   "execution_count": 57,
   "id": "b88fde4d",
   "metadata": {},
   "outputs": [
    {
     "data": {
      "text/latex": [
       "$$\n",
       "C = \n",
       "\\begin{bmatrix}\n",
       "1 & 3 & 1 & 3 & 2 & 2 & 1 & 1  \\\\\n",
       " 3 & 0 & 0 & 0 & 1 & 2 & 1 & 1  \\\\\n",
       " 1 & 0 & 1 & 3 & 3 & 3 & 1 & 1  \\\\\n",
       " 3 & 0 & 3 & 0 & 0 & 0 & 1 & 1  \\\\\n",
       " 2 & 1 & 3 & 0 & 1 & 1 & 1 & 1  \\\\\n",
       " 2 & 2 & 3 & 0 & 1 & 1 & 1 & 1  \\\\\n",
       " 1 & 1 & 1 & 1 & 1 & 1 & 1 & 1  \\\\\n",
       " 1 & 1 & 1 & 1 & 1 & 1 & 1 & 1  \\\\\n",
       " \\end{bmatrix}\n",
       "$$"
      ],
      "text/plain": [
       "<IPython.core.display.Latex object>"
      ]
     },
     "execution_count": 57,
     "metadata": {},
     "output_type": "execute_result"
    }
   ],
   "source": [
    "C = np.array([[1,3,1,3,2,2,1,1],\n",
    "              [3,0,0,0,1,2,1,1],\n",
    "              [1,0,1,3,3,3,1,1],\n",
    "              [3,0,3,0,0,0,1,1],\n",
    "              [2,1,3,0,1,1,1,1],\n",
    "              [2,2,3,0,1,1,1,1],\n",
    "              [1,1,1,1,1,1,1,1],\n",
    "              [1,1,1,1,1,1,1,1]], dtype = complex)\n",
    "\n",
    "array_to_latex(C, prefix = \"C = \")"
   ]
  },
  {
   "cell_type": "code",
   "execution_count": 58,
   "id": "ab8304ee",
   "metadata": {},
   "outputs": [
    {
     "data": {
      "text/plain": [
       "{'III': (<qiskit.circuit.quantumcircuit.QuantumCircuit at 0x1ed7575d1c0>,\n",
       "  0.75),\n",
       " 'IIX': (<qiskit.circuit.quantumcircuit.QuantumCircuit at 0x1ed7575d070>, 2.0),\n",
       " 'IIZ': (<qiskit.circuit.quantumcircuit.QuantumCircuit at 0x1ed7575d250>,\n",
       "  0.25),\n",
       " 'IXI': (<qiskit.circuit.quantumcircuit.QuantumCircuit at 0x1ed7575d4f0>,\n",
       "  0.75),\n",
       " 'IXX': (<qiskit.circuit.quantumcircuit.QuantumCircuit at 0x1ed7575d850>,\n",
       "  1.25),\n",
       " 'IXZ': (<qiskit.circuit.quantumcircuit.QuantumCircuit at 0x1ed7575da00>,\n",
       "  0.25),\n",
       " 'IYY': (<qiskit.circuit.quantumcircuit.QuantumCircuit at 0x1ed75772610>,\n",
       "  -0.75),\n",
       " 'XII': (<qiskit.circuit.quantumcircuit.QuantumCircuit at 0x1ed75772400>, 1.5),\n",
       " 'XIX': (<qiskit.circuit.quantumcircuit.QuantumCircuit at 0x1ed75772760>,\n",
       "  1.25),\n",
       " 'XXI': (<qiskit.circuit.quantumcircuit.QuantumCircuit at 0x1ed75753cd0>,\n",
       "  1.25),\n",
       " 'XXX': (<qiskit.circuit.quantumcircuit.QuantumCircuit at 0x1ed75753ca0>,\n",
       "  1.25),\n",
       " 'XXZ': (<qiskit.circuit.quantumcircuit.QuantumCircuit at 0x1ed75753100>,\n",
       "  0.75),\n",
       " 'XYY': (<qiskit.circuit.quantumcircuit.QuantumCircuit at 0x1ed7572c0a0>,\n",
       "  0.75),\n",
       " 'XZI': (<qiskit.circuit.quantumcircuit.QuantumCircuit at 0x1ed7564f400>, 0.5),\n",
       " 'XZX': (<qiskit.circuit.quantumcircuit.QuantumCircuit at 0x1ed757905b0>,\n",
       "  0.25),\n",
       " 'YIY': (<qiskit.circuit.quantumcircuit.QuantumCircuit at 0x1ed75790040>,\n",
       "  -0.25),\n",
       " 'YXY': (<qiskit.circuit.quantumcircuit.QuantumCircuit at 0x1ed75790520>,\n",
       "  -0.75),\n",
       " 'YYI': (<qiskit.circuit.quantumcircuit.QuantumCircuit at 0x1ed757907c0>,\n",
       "  0.25),\n",
       " 'YYX': (<qiskit.circuit.quantumcircuit.QuantumCircuit at 0x1ed757b3430>,\n",
       "  0.25),\n",
       " 'YYZ': (<qiskit.circuit.quantumcircuit.QuantumCircuit at 0x1ed757b3670>,\n",
       "  0.75),\n",
       " 'YZY': (<qiskit.circuit.quantumcircuit.QuantumCircuit at 0x1ed757b3a30>,\n",
       "  -0.25),\n",
       " 'ZII': (<qiskit.circuit.quantumcircuit.QuantumCircuit at 0x1ed757b3df0>,\n",
       "  -0.25),\n",
       " 'ZIX': (<qiskit.circuit.quantumcircuit.QuantumCircuit at 0x1ed757b3fd0>, 1.0),\n",
       " 'ZIZ': (<qiskit.circuit.quantumcircuit.QuantumCircuit at 0x1ed757971f0>,\n",
       "  0.25),\n",
       " 'ZXI': (<qiskit.circuit.quantumcircuit.QuantumCircuit at 0x1ed757973d0>,\n",
       "  -0.25),\n",
       " 'ZXX': (<qiskit.circuit.quantumcircuit.QuantumCircuit at 0x1ed75797580>,\n",
       "  0.25),\n",
       " 'ZXZ': (<qiskit.circuit.quantumcircuit.QuantumCircuit at 0x1ed757978e0>,\n",
       "  0.25),\n",
       " 'ZYY': (<qiskit.circuit.quantumcircuit.QuantumCircuit at 0x1ed75797b80>,\n",
       "  -0.75)}"
      ]
     },
     "execution_count": 58,
     "metadata": {},
     "output_type": "execute_result"
    }
   ],
   "source": [
    "circuits = multi_qubit_decomposition(C)\n",
    "circuits"
   ]
  },
  {
   "cell_type": "code",
   "execution_count": 59,
   "id": "dde74e7f",
   "metadata": {},
   "outputs": [
    {
     "data": {
      "image/png": "[encoded data removed]",
      "text/plain": [
       "<Figure size 327.397x264.88 with 1 Axes>"
      ]
     },
     "execution_count": 59,
     "metadata": {},
     "output_type": "execute_result"
    }
   ],
   "source": [
    "circuits['IXZ'][0].draw('mpl')"
   ]
  },
  {
   "cell_type": "code",
   "execution_count": 60,
   "id": "f85bbd5b",
   "metadata": {},
   "outputs": [
    {
     "data": {
      "image/png": "[encoded data removed]",
      "text/plain": [
       "<Figure size 504x360 with 1 Axes>"
      ]
     },
     "execution_count": 60,
     "metadata": {},
     "output_type": "execute_result"
    }
   ],
   "source": [
    "result = execute(circuits['IXZ'][0], backend, shots = 1024).result()\n",
    "counts = result.get_counts()\n",
    "\n",
    "plot_histogram(counts)"
   ]
  },
  {
   "cell_type": "markdown",
   "id": "75e3222a",
   "metadata": {},
   "source": [
    "#### Expectation of a circuit"
   ]
  },
  {
   "cell_type": "markdown",
   "id": "add95ea6",
   "metadata": {},
   "source": [
    "The expectation formula is given by: $E_{\\psi} = \\bra{\\psi}H\\ket{\\psi}$. By expanding $\\psi$:\n",
    "\n",
    "\\begin{align*}\n",
    "E_{\\psi} &= \\bra{\\psi}H\\ket{\\psi} \\Longrightarrow\\\\\\quad\\\\\n",
    "         &=\\Big\\langle\\sum\\limits_{m} c_{m}\\psi_{m}\\ \\Big|\\ H \\sum\\limits_{n} c_{n}\\psi_{n}\\Big\\rangle \\Longrightarrow\\\\\\quad\\\\\n",
    "         &=\\Big\\langle\\sum\\limits_{m} c_{m}\\psi_{m}\\ \\Big|\\ \\sum\\limits_{n} c_{n}\\big(H\\psi_{n}\\big)\\Big\\rangle\\\\\n",
    "\\end{align*}\n",
    "\n",
    "Al this point, we know that $H\\psi_{n} = E_{n}\\psi_n$, then we continue with the expansion:\n",
    "\n",
    "\\begin{align*}\n",
    "    E_{\\psi} &=\\Big\\langle\\sum\\limits_{m} c_{m}\\psi_{m}\\ \\Big|\\ \\sum\\limits_{n} c_{n}\\big(E_{n}\\psi_{n}\\big)\\Big\\rangle \\Longrightarrow\\\\\\quad\\\\\n",
    "             &= \\sum\\limits_{m}\\sum\\limits_{n}c_{n}c_{m}^{*}E_{n}\\braket{\\psi_m}{\\psi_n}\\ \\ \\ \\ \\text{then}\\ \\braket{\\psi_m}{\\psi_n} = \\delta_{mn} \\Longrightarrow\\\\\\quad\\\\\n",
    "             & = \\sum\\limits_{m}\\sum\\limits_{n}C_{n}C_{m}^{*}E_{n}\\delta_{mn}\\ \\ \\ \\ \\ \\text{then}\\ \\delta_{mn} = 1,\\ \\text{only if}\\ m = n \\Longrightarrow\\\\\\quad\\\\\n",
    "             &= \\sum\\limits_{n}E_{n}\\abs{C_{n}}^2\n",
    "\\end{align*}"
   ]
  },
  {
   "cell_type": "code",
   "execution_count": 61,
   "id": "a9f24a29",
   "metadata": {},
   "outputs": [],
   "source": [
    "def run_circuit(circuit, backend, shots = 1024):\n",
    "\n",
    "    result = execute(circuit, backend, shots = shots).result()\n",
    "    counts = result.get_counts()\n",
    "\n",
    "    result = 0\n",
    "    \n",
    "    if \"0\" in counts.keys():\n",
    "        result = counts[\"0\"]\n",
    "        \n",
    "    if \"1\" in counts.keys():\n",
    "        result -= counts[\"1\"]\n",
    "    \n",
    "    return result / shots"
   ]
  },
  {
   "cell_type": "code",
   "execution_count": 62,
   "id": "4c87102d",
   "metadata": {},
   "outputs": [],
   "source": [
    "def expectation(H):\n",
    "    \n",
    "    backend = Aer.get_backend('statevector_simulator')\n",
    "    circuits = multi_qubit_decomposition(H)\n",
    "\n",
    "    expectation = 0.0\n",
    "    \n",
    "    for key in circuits.keys():\n",
    "        circuit = circuits[key][0]\n",
    "        weight = circuits[key][1]\n",
    "        expectation += (run_circuit(circuit, backend) * weight)\n",
    "\n",
    "    return expectation"
   ]
  },
  {
   "cell_type": "code",
   "execution_count": 63,
   "id": "f7bd09cf",
   "metadata": {},
   "outputs": [
    {
     "name": "stdout",
     "output_type": "stream",
     "text": [
      "Matrix expectation: 3.037109375\n"
     ]
    }
   ],
   "source": [
    "print(\"Matrix expectation:\", expectation(A))"
   ]
  },
  {
   "cell_type": "code",
   "execution_count": 64,
   "id": "d80ced67",
   "metadata": {},
   "outputs": [
    {
     "data": {
      "text/latex": [
       "$$\n",
       "M = \n",
       "\\begin{bmatrix}\n",
       "0.43 & 0.275 & 0.04 & 0.369  \\\\\n",
       " 0.275 & 0.631 & 0.248 & 0.215  \\\\\n",
       " 0.04 & 0.248 & 0.282 & 0.383  \\\\\n",
       " 0.369 & 0.215 & 0.383 & 0.658  \\\\\n",
       " \\end{bmatrix}\n",
       "$$"
      ],
      "text/plain": [
       "<IPython.core.display.Latex object>"
      ]
     },
     "execution_count": 64,
     "metadata": {},
     "output_type": "execute_result"
    }
   ],
   "source": [
    "rand_matrix = np.matrix(np.random.randint(0, 50, (4,4)))\n",
    "rand_matrix = (1/(rand_matrix.trace().A1[0])) * (rand_matrix + rand_matrix.getH()) \n",
    "rand_matrix = np.array(rand_matrix)\n",
    "\n",
    "array_to_latex(rand_matrix, prefix = \"M = \", precision = 3)"
   ]
  },
  {
   "cell_type": "code",
   "execution_count": 65,
   "id": "78274970",
   "metadata": {},
   "outputs": [
    {
     "data": {
      "text/plain": [
       "array([[ True,  True,  True,  True],\n",
       "       [ True,  True,  True,  True],\n",
       "       [ True,  True,  True,  True],\n",
       "       [ True,  True,  True,  True]])"
      ]
     },
     "execution_count": 65,
     "metadata": {},
     "output_type": "execute_result"
    }
   ],
   "source": [
    "rand_matrix == rand_matrix.conj().T # It is an hermitian matrix"
   ]
  },
  {
   "cell_type": "code",
   "execution_count": 66,
   "id": "69cd8c8d",
   "metadata": {},
   "outputs": [
    {
     "data": {
      "text/plain": [
       "array([[ True,  True,  True,  True],\n",
       "       [ True,  True,  True,  True],\n",
       "       [ True,  True,  True,  True],\n",
       "       [ True,  True,  True,  True]])"
      ]
     },
     "execution_count": 66,
     "metadata": {},
     "output_type": "execute_result"
    }
   ],
   "source": [
    "rand_matrix @ rand_matrix.conj().T ==  rand_matrix.conj().T @ rand_matrix # It is an normal matrix"
   ]
  },
  {
   "cell_type": "code",
   "execution_count": 67,
   "id": "eaa40320",
   "metadata": {},
   "outputs": [
    {
     "name": "stdout",
     "output_type": "stream",
     "text": [
      "Matrix expectation: 0.4451420931208055\n"
     ]
    }
   ],
   "source": [
    "print(\"Matrix expectation:\", expectation(rand_matrix))"
   ]
  },
  {
   "cell_type": "markdown",
   "id": "189c2104",
   "metadata": {},
   "source": [
    "Expectation value is always greater than or equal the smallest eigenvalue: $E_{\\psi} = \\langle\\hat{H}\\rangle_\\psi \\ge \\lambda_{min} $"
   ]
  },
  {
   "cell_type": "markdown",
   "id": "33860c21",
   "metadata": {},
   "source": [
    "<hr/>\n",
    "\n",
    "### Obtaining the Schrödinger Equation\n",
    "<br/>\n",
    "The wave function can be formulate as $\\Psi(x,t) = Ae^{i(kx -\\omega{t})}$, now we want to obtain $\\frac{\\partial{\\Psi}}{\\partial{t}}$.<br/><br/>\n",
    "By using the chain rule, for instance:\n",
    "$$f(x) = e^{2x} \\Longrightarrow f'(x) = 2e^{2x}$$<br/>\n",
    "Therefore:<br/>\n",
    "$$\\dot{\\Psi} = \\frac{\\partial{\\Psi}}{\\partial{t}} = -i\\omega{}e^{i(kx-\\omega{t})} = -i\\omega{\\Psi}$$ \n",
    "Where $E = \\hbar\\omega \\Longrightarrow \\omega = \\frac{E}{\\hbar}$, then:\n",
    "<br/>\n",
    "$$\\dot{\\Psi} = \\frac{\\partial{\\Psi}}{\\partial{t}} = -i \\frac{E}{\\hbar} \\Psi \\Longrightarrow E\\Psi = i\\hbar\\frac{\\partial}{\\partial{t}}\\Psi \\Longrightarrow E\\Psi = i\\hbar\\dot{\\Psi} \\Longrightarrow E\\Psi = \\hat{H}\\Psi$$\n",
    "<br/>\n",
    "<center>\n",
    "<img width=\"30%\" height=\"auto\" src=\"data:image/jpeg;base64,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\">\n",
    "</center>"
   ]
  },
  {
   "cell_type": "code",
   "execution_count": null,
   "id": "069dd8f7",
   "metadata": {},
   "outputs": [],
   "source": []
  }
 ],
 "metadata": {
  "kernelspec": {
   "display_name": "Python 3 (ipykernel)",
   "language": "python",
   "name": "python3"
  },
  "language_info": {
   "codemirror_mode": {
    "name": "ipython",
    "version": 3
   },
   "file_extension": ".py",
   "mimetype": "text/x-python",
   "name": "python",
   "nbconvert_exporter": "python",
   "pygments_lexer": "ipython3",
   "version": "3.9.12"
  }
 },
 "nbformat": 4,
 "nbformat_minor": 5
}
