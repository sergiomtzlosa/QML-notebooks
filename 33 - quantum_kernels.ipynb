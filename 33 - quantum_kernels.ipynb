{
 "cells": [
  {
   "cell_type": "code",
   "execution_count": 1,
   "id": "7283fda5",
   "metadata": {},
   "outputs": [],
   "source": [
    "from sklearn import metrics\n",
    "import pandas as pd\n",
    "from qiskit import QuantumCircuit\n",
    "from qiskit.circuit import ParameterVector\n",
    "from qiskit.circuit.library import ZZFeatureMap\n",
    "from qiskit.providers.aer import AerSimulator\n",
    "from qiskit.algorithms.optimizers import SPSA\n",
    "from qiskit_machine_learning.algorithms import QSVC\n",
    "from qiskit_machine_learning.kernels import QuantumKernel\n",
    "from qiskit_machine_learning.kernels.algorithms import QuantumKernelTrainer\n",
    "from sklearn.model_selection import train_test_split\n",
    "from sklearn.preprocessing import LabelEncoder\n",
    "import numpy as np"
   ]
  },
  {
   "cell_type": "code",
   "execution_count": 2,
   "id": "d3d4e638",
   "metadata": {},
   "outputs": [],
   "source": [
    "def read_data(csv_path):\n",
    "    rdata = pd.read_csv(csv_path, skiprows=[1,1])\n",
    "    split = int(len(rdata) * 0.50)\n",
    "\n",
    "    X = rdata.drop(['Persons_killed', 'PROV_NAME', 'DIST_CODE', 'DIST_NAME', 'INC_DATE', 'Families_affected', 'Houses_destroyed'], axis = 1)\n",
    "    y = rdata['Persons_killed']\n",
    "    \n",
    "    return X, y"
   ]
  },
  {
   "cell_type": "code",
   "execution_count": 3,
   "id": "7b0c2346",
   "metadata": {},
   "outputs": [],
   "source": [
    "# Read data and set training and testing sets\n",
    "X, y  = read_data('./datasets/flash_flood_data.csv')"
   ]
  },
  {
   "cell_type": "code",
   "execution_count": 4,
   "id": "ad65afab",
   "metadata": {},
   "outputs": [
    {
     "name": "stdout",
     "output_type": "stream",
     "text": [
      "<class 'pandas.core.frame.DataFrame'>\n",
      "RangeIndex: 720 entries, 0 to 719\n",
      "Data columns (total 6 columns):\n",
      " #   Column                 Non-Null Count  Dtype \n",
      "---  ------                 --------------  ----- \n",
      " 0   REGION                 720 non-null    object\n",
      " 1   PROV_CODE              720 non-null    int64 \n",
      " 2   INC_TYPE               720 non-null    object\n",
      " 3   Persons_injured        720 non-null    int64 \n",
      " 4   Individuals_affected2  720 non-null    int64 \n",
      " 5   Houses_damaged         720 non-null    int64 \n",
      "dtypes: int64(4), object(2)\n",
      "memory usage: 33.9+ KB\n"
     ]
    }
   ],
   "source": [
    "X.info()"
   ]
  },
  {
   "cell_type": "code",
   "execution_count": 5,
   "id": "01b0e131",
   "metadata": {},
   "outputs": [
    {
     "data": {
      "text/html": [
       "<div>\n",
       "<style scoped>\n",
       "    .dataframe tbody tr th:only-of-type {\n",
       "        vertical-align: middle;\n",
       "    }\n",
       "\n",
       "    .dataframe tbody tr th {\n",
       "        vertical-align: top;\n",
       "    }\n",
       "\n",
       "    .dataframe thead th {\n",
       "        text-align: right;\n",
       "    }\n",
       "</style>\n",
       "<table border=\"1\" class=\"dataframe\">\n",
       "  <thead>\n",
       "    <tr style=\"text-align: right;\">\n",
       "      <th></th>\n",
       "      <th>REGION</th>\n",
       "      <th>PROV_CODE</th>\n",
       "      <th>INC_TYPE</th>\n",
       "      <th>Persons_injured</th>\n",
       "      <th>Individuals_affected2</th>\n",
       "      <th>Houses_damaged</th>\n",
       "    </tr>\n",
       "  </thead>\n",
       "  <tbody>\n",
       "    <tr>\n",
       "      <th>0</th>\n",
       "      <td>Southern</td>\n",
       "      <td>33</td>\n",
       "      <td>Flood / flash flood</td>\n",
       "      <td>0</td>\n",
       "      <td>30</td>\n",
       "      <td>3</td>\n",
       "    </tr>\n",
       "    <tr>\n",
       "      <th>1</th>\n",
       "      <td>Southern</td>\n",
       "      <td>33</td>\n",
       "      <td>Flood / flash flood</td>\n",
       "      <td>0</td>\n",
       "      <td>25</td>\n",
       "      <td>3</td>\n",
       "    </tr>\n",
       "    <tr>\n",
       "      <th>2</th>\n",
       "      <td>Southern</td>\n",
       "      <td>33</td>\n",
       "      <td>Flood / flash flood</td>\n",
       "      <td>0</td>\n",
       "      <td>40</td>\n",
       "      <td>4</td>\n",
       "    </tr>\n",
       "    <tr>\n",
       "      <th>3</th>\n",
       "      <td>Southern</td>\n",
       "      <td>33</td>\n",
       "      <td>Flood / flash flood</td>\n",
       "      <td>0</td>\n",
       "      <td>232</td>\n",
       "      <td>29</td>\n",
       "    </tr>\n",
       "    <tr>\n",
       "      <th>4</th>\n",
       "      <td>Southern</td>\n",
       "      <td>32</td>\n",
       "      <td>Flood / flash flood</td>\n",
       "      <td>2</td>\n",
       "      <td>1360</td>\n",
       "      <td>129</td>\n",
       "    </tr>\n",
       "  </tbody>\n",
       "</table>\n",
       "</div>"
      ],
      "text/plain": [
       "     REGION  PROV_CODE             INC_TYPE  Persons_injured  \\\n",
       "0  Southern         33  Flood / flash flood                0   \n",
       "1  Southern         33  Flood / flash flood                0   \n",
       "2  Southern         33  Flood / flash flood                0   \n",
       "3  Southern         33  Flood / flash flood                0   \n",
       "4  Southern         32  Flood / flash flood                2   \n",
       "\n",
       "   Individuals_affected2  Houses_damaged  \n",
       "0                     30               3  \n",
       "1                     25               3  \n",
       "2                     40               4  \n",
       "3                    232              29  \n",
       "4                   1360             129  "
      ]
     },
     "execution_count": 5,
     "metadata": {},
     "output_type": "execute_result"
    }
   ],
   "source": [
    "X.head()"
   ]
  },
  {
   "cell_type": "code",
   "execution_count": 6,
   "id": "1ce0324d",
   "metadata": {},
   "outputs": [
    {
     "data": {
      "text/plain": [
       "array(['Flood / flash flood', 'Heavy snowfall', 'Earthquake',\n",
       "       'Landslide / mudflow', 'Avalanche'], dtype=object)"
      ]
     },
     "execution_count": 6,
     "metadata": {},
     "output_type": "execute_result"
    }
   ],
   "source": [
    "pd.unique(X['INC_TYPE'])"
   ]
  },
  {
   "cell_type": "code",
   "execution_count": 7,
   "id": "1a8eef1f",
   "metadata": {},
   "outputs": [
    {
     "data": {
      "text/plain": [
       "array(['Southern', 'Eastern', 'South Eastern', 'Capital', 'Western',\n",
       "       'North Eastern', 'Northern', 'Central Highland'], dtype=object)"
      ]
     },
     "execution_count": 7,
     "metadata": {},
     "output_type": "execute_result"
    }
   ],
   "source": [
    "pd.unique(X['REGION'])"
   ]
  },
  {
   "cell_type": "code",
   "execution_count": 8,
   "id": "43794628",
   "metadata": {},
   "outputs": [
    {
     "data": {
      "text/plain": [
       "array([33, 32, 13, 34, 26,  6,  7,  3, 24, 29, 30, 21, 15, 23, 16, 18, 20,\n",
       "       17, 10,  4, 19, 28,  9, 27, 25,  5, 12,  2, 11, 14, 22, 31,  1],\n",
       "      dtype=int64)"
      ]
     },
     "execution_count": 8,
     "metadata": {},
     "output_type": "execute_result"
    }
   ],
   "source": [
    "pd.unique(X['PROV_CODE'])"
   ]
  },
  {
   "cell_type": "code",
   "execution_count": 9,
   "id": "9e583cf5",
   "metadata": {},
   "outputs": [],
   "source": [
    "label_encoder = LabelEncoder()\n",
    "\n",
    "# Encode labels in column\n",
    "X['REGION']= label_encoder.fit_transform(X['REGION'])\n",
    "X['INC_TYPE']= label_encoder.fit_transform(X['INC_TYPE'])"
   ]
  },
  {
   "cell_type": "code",
   "execution_count": 10,
   "id": "c32dcefb",
   "metadata": {},
   "outputs": [
    {
     "data": {
      "text/html": [
       "<div>\n",
       "<style scoped>\n",
       "    .dataframe tbody tr th:only-of-type {\n",
       "        vertical-align: middle;\n",
       "    }\n",
       "\n",
       "    .dataframe tbody tr th {\n",
       "        vertical-align: top;\n",
       "    }\n",
       "\n",
       "    .dataframe thead th {\n",
       "        text-align: right;\n",
       "    }\n",
       "</style>\n",
       "<table border=\"1\" class=\"dataframe\">\n",
       "  <thead>\n",
       "    <tr style=\"text-align: right;\">\n",
       "      <th></th>\n",
       "      <th>REGION</th>\n",
       "      <th>PROV_CODE</th>\n",
       "      <th>INC_TYPE</th>\n",
       "      <th>Persons_injured</th>\n",
       "      <th>Individuals_affected2</th>\n",
       "      <th>Houses_damaged</th>\n",
       "    </tr>\n",
       "  </thead>\n",
       "  <tbody>\n",
       "    <tr>\n",
       "      <th>0</th>\n",
       "      <td>6</td>\n",
       "      <td>33</td>\n",
       "      <td>2</td>\n",
       "      <td>0</td>\n",
       "      <td>30</td>\n",
       "      <td>3</td>\n",
       "    </tr>\n",
       "    <tr>\n",
       "      <th>1</th>\n",
       "      <td>6</td>\n",
       "      <td>33</td>\n",
       "      <td>2</td>\n",
       "      <td>0</td>\n",
       "      <td>25</td>\n",
       "      <td>3</td>\n",
       "    </tr>\n",
       "    <tr>\n",
       "      <th>2</th>\n",
       "      <td>6</td>\n",
       "      <td>33</td>\n",
       "      <td>2</td>\n",
       "      <td>0</td>\n",
       "      <td>40</td>\n",
       "      <td>4</td>\n",
       "    </tr>\n",
       "    <tr>\n",
       "      <th>3</th>\n",
       "      <td>6</td>\n",
       "      <td>33</td>\n",
       "      <td>2</td>\n",
       "      <td>0</td>\n",
       "      <td>232</td>\n",
       "      <td>29</td>\n",
       "    </tr>\n",
       "    <tr>\n",
       "      <th>4</th>\n",
       "      <td>6</td>\n",
       "      <td>32</td>\n",
       "      <td>2</td>\n",
       "      <td>2</td>\n",
       "      <td>1360</td>\n",
       "      <td>129</td>\n",
       "    </tr>\n",
       "  </tbody>\n",
       "</table>\n",
       "</div>"
      ],
      "text/plain": [
       "   REGION  PROV_CODE  INC_TYPE  Persons_injured  Individuals_affected2  \\\n",
       "0       6         33         2                0                     30   \n",
       "1       6         33         2                0                     25   \n",
       "2       6         33         2                0                     40   \n",
       "3       6         33         2                0                    232   \n",
       "4       6         32         2                2                   1360   \n",
       "\n",
       "   Houses_damaged  \n",
       "0               3  \n",
       "1               3  \n",
       "2               4  \n",
       "3              29  \n",
       "4             129  "
      ]
     },
     "execution_count": 10,
     "metadata": {},
     "output_type": "execute_result"
    }
   ],
   "source": [
    "X.head()"
   ]
  },
  {
   "cell_type": "code",
   "execution_count": 11,
   "id": "4a9d8398",
   "metadata": {},
   "outputs": [
    {
     "data": {
      "text/plain": [
       "0    0\n",
       "1    0\n",
       "2    0\n",
       "3    0\n",
       "4    2\n",
       "Name: Persons_killed, dtype: int64"
      ]
     },
     "execution_count": 11,
     "metadata": {},
     "output_type": "execute_result"
    }
   ],
   "source": [
    "y.head()"
   ]
  },
  {
   "cell_type": "code",
   "execution_count": 12,
   "id": "c3144122",
   "metadata": {},
   "outputs": [],
   "source": [
    "X_train, X_test, y_train, y_test = train_test_split(X, y, test_size=0.33, random_state=42)"
   ]
  },
  {
   "cell_type": "code",
   "execution_count": 13,
   "id": "4120c627",
   "metadata": {},
   "outputs": [],
   "source": [
    "# Setting up ZZFeatureMap circut with feature dimension the same number as number of features\n",
    "feature_map = ZZFeatureMap(feature_dimension=X_train.shape[1])\n",
    "\n",
    "# Use the statevector backend\n",
    "backend = AerSimulator(method='statevector')\n",
    "\n",
    "# Instantiate quantum kernel\n",
    "quant_kernel = QuantumKernel(feature_map, quantum_instance=backend)"
   ]
  },
  {
   "cell_type": "code",
   "execution_count": 14,
   "id": "ac64a35d",
   "metadata": {},
   "outputs": [
    {
     "data": {
      "text/plain": [
       "QSVC(C=1.0, break_ties=False, cache_size=200, class_weight=None, coef0=0.0,\n",
       "     decision_function_shape='ovr', degree=3, gamma='scale', max_iter=-1,\n",
       "     probability=False,\n",
       "     quantum_kernel=<qiskit_machine_learning.kernels.quantum_kernel.QuantumKernel object at 0x0000017E7E030B88>,\n",
       "     random_state=None, shrinking=True, tol=0.001, verbose=False)"
      ]
     },
     "execution_count": 14,
     "metadata": {},
     "output_type": "execute_result"
    }
   ],
   "source": [
    "# Use QSVC for classification\n",
    "qsvc = QSVC(quantum_kernel=quant_kernel)\n",
    "\n",
    "# Fit the QSVC\n",
    "qsvc.fit(X_train, y_train)"
   ]
  },
  {
   "cell_type": "code",
   "execution_count": 15,
   "id": "dcdbf231",
   "metadata": {},
   "outputs": [],
   "source": [
    "# Predict the labels\n",
    "labels_test = qsvc.predict(X_test)"
   ]
  },
  {
   "cell_type": "code",
   "execution_count": 16,
   "id": "7033bcd5",
   "metadata": {},
   "outputs": [
    {
     "name": "stdout",
     "output_type": "stream",
     "text": [
      "accuracy test: 0.0625\n"
     ]
    }
   ],
   "source": [
    "# Evalaute the test accuracy\n",
    "accuracy_test = metrics.balanced_accuracy_score(y_true=y_test, y_pred=labels_test)\n",
    "\n",
    "print(f'accuracy test: {accuracy_test}')"
   ]
  },
  {
   "cell_type": "code",
   "execution_count": 18,
   "id": "c776d1f8",
   "metadata": {},
   "outputs": [],
   "source": [
    "num_features = X_train.shape[1]\n",
    "\n",
    "# Number of parameters equal to number of features\n",
    "num_params = num_features"
   ]
  },
  {
   "cell_type": "code",
   "execution_count": 21,
   "id": "892f0302",
   "metadata": {},
   "outputs": [],
   "source": [
    "# Create vector containing number of trainable parameters\n",
    "user_params = ParameterVector('θ', num_params)"
   ]
  },
  {
   "cell_type": "code",
   "execution_count": 23,
   "id": "38387ca1",
   "metadata": {},
   "outputs": [
    {
     "data": {
      "text/plain": [
       "QSVC(C=1.0, break_ties=False, cache_size=200, class_weight=None, coef0=0.0,\n",
       "     decision_function_shape='ovr', degree=3, gamma='scale', max_iter=-1,\n",
       "     probability=False,\n",
       "     quantum_kernel=<qiskit_machine_learning.kernels.quantum_kernel.QuantumKernel object at 0x0000017E7EFD5088>,\n",
       "     random_state=None, shrinking=True, tol=0.001, verbose=False)"
      ]
     },
     "execution_count": 23,
     "metadata": {},
     "output_type": "execute_result"
    }
   ],
   "source": [
    "# Create circuit for num_features qbit system\n",
    "fm0 = QuantumCircuit(num_features)\n",
    "\n",
    "# First feature map component comprises a Y rotation with parameter theta on both qubit regs\n",
    "for qubit in range(num_features):\n",
    "    fm0.ry(user_params[(qubit%num_params)], qubit)\n",
    "\n",
    "# Use ZZFeatureMap to represent input data\n",
    "fm1 = ZZFeatureMap(feature_dimension=num_features)\n",
    "\n",
    "# Compose both maps to create one feature map circuit\n",
    "feature_map = fm0.compose(fm1)\n",
    "\n",
    "# Use the statevector backend\n",
    "backend = AerSimulator(method='statevector')\n",
    "\n",
    "# Instantiate quantum kernel\n",
    "quant_kernel = QuantumKernel(feature_map, user_parameters=user_params, quantum_instance=backend)\n",
    "\n",
    "# Set up model optimizer\n",
    "spsa_opt = SPSA(maxiter=10, learning_rate=0.05, perturbation=0.05)\n",
    "\n",
    "# Instantiate a quantum kernel trainer\n",
    "qkt = QuantumKernelTrainer(\n",
    "    quantum_kernel=quant_kernel, loss=\"svc_loss\", optimizer=spsa_opt, initial_point=[np.pi/2 for i in range(len(user_params))])\n",
    "\n",
    "# Use QuantumKernelTrainer object to fit model to training data\n",
    "qka_results = qkt.fit(X_train, y_train)\n",
    "optimized_kernel = qka_results.quantum_kernel\n",
    "\n",
    "# Use QSVC for classification\n",
    "qsvc = QSVC(quantum_kernel=optimized_kernel)\n",
    "\n",
    "# Fit the QSVC\n",
    "qsvc.fit(X_train, y_train)"
   ]
  },
  {
   "cell_type": "code",
   "execution_count": 24,
   "id": "ca6bb855",
   "metadata": {},
   "outputs": [
    {
     "name": "stdout",
     "output_type": "stream",
     "text": [
      "accuracy test: 0.0625\n"
     ]
    }
   ],
   "source": [
    "# Predict the labels\n",
    "labels_test = qsvc.predict(X_test)\n",
    "\n",
    "# Evalaute the test accuracy\n",
    "accuracy_test = metrics.balanced_accuracy_score(y_true=y_test, y_pred=labels_test)\n",
    "print(f'accuracy test: {accuracy_test}')"
   ]
  },
  {
   "cell_type": "code",
   "execution_count": null,
   "id": "871b3d58",
   "metadata": {},
   "outputs": [],
   "source": []
  }
 ],
 "metadata": {
  "kernelspec": {
   "display_name": "Python 3 (ipykernel)",
   "language": "python",
   "name": "python3"
  },
  "language_info": {
   "codemirror_mode": {
    "name": "ipython",
    "version": 3
   },
   "file_extension": ".py",
   "mimetype": "text/x-python",
   "name": "python",
   "nbconvert_exporter": "python",
   "pygments_lexer": "ipython3",
   "version": "3.7.7"
  }
 },
 "nbformat": 4,
 "nbformat_minor": 5
}
